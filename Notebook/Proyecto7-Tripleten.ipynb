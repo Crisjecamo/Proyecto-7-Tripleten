{
 "cells": [
  {
   "cell_type": "markdown",
   "metadata": {
    "toc": true
   },
   "source": [
    "<h1>Table of Contents<span class=\"tocSkip\"></span></h1>\n",
    "<div class=\"toc\"><ul class=\"toc-item\"><li><span><a href=\"#¡Hola-Cristhoper!\" data-toc-modified-id=\"¡Hola-Cristhoper!-1\">¡Hola Cristhoper!</a></span><ul class=\"toc-item\"><li><span><a href=\"#Introduccion\" data-toc-modified-id=\"Introduccion-1.1\">Introduccion</a></span></li><li><span><a href=\"#DataFrame-1\" data-toc-modified-id=\"DataFrame-1-1.2\">DataFrame 1</a></span><ul class=\"toc-item\"><li><ul class=\"toc-item\"><li><span><a href=\"#Observacion-describe():\" data-toc-modified-id=\"Observacion-describe():-1.2.0.1\">Observacion describe():</a></span></li><li><span><a href=\"#Observacion-duplicated():\" data-toc-modified-id=\"Observacion-duplicated():-1.2.0.2\">Observacion duplicated():</a></span></li><li><span><a href=\"#Observacion-de-los-datos:\" data-toc-modified-id=\"Observacion-de-los-datos:-1.2.0.3\">Observacion de los datos:</a></span></li></ul></li></ul></li><li><span><a href=\"#DataFrame-2\" data-toc-modified-id=\"DataFrame-2-1.3\">DataFrame 2</a></span><ul class=\"toc-item\"><li><ul class=\"toc-item\"><li><span><a href=\"#Observacion-describe():\" data-toc-modified-id=\"Observacion-describe():-1.3.0.1\">Observacion describe():</a></span></li><li><span><a href=\"#Observacion-duplicated():\" data-toc-modified-id=\"Observacion-duplicated():-1.3.0.2\">Observacion duplicated():</a></span></li><li><span><a href=\"#Observacion-de-los-datos:\" data-toc-modified-id=\"Observacion-de-los-datos:-1.3.0.3\">Observacion de los datos:</a></span></li></ul></li></ul></li><li><span><a href=\"#DataFrame-3\" data-toc-modified-id=\"DataFrame-3-1.4\">DataFrame 3</a></span><ul class=\"toc-item\"><li><ul class=\"toc-item\"><li><span><a href=\"#Observacion-describe():\" data-toc-modified-id=\"Observacion-describe():-1.4.0.1\">Observacion describe():</a></span></li><li><span><a href=\"#Observacion-duplicated():\" data-toc-modified-id=\"Observacion-duplicated():-1.4.0.2\">Observacion duplicated():</a></span></li></ul></li><li><span><a href=\"#Observacion-de-los-datos:\" data-toc-modified-id=\"Observacion-de-los-datos:-1.4.1\">Observacion de los datos:</a></span></li></ul></li><li><span><a href=\"#Analisis-de-los-Datos\" data-toc-modified-id=\"Analisis-de-los-Datos-1.5\">Analisis de los Datos</a></span><ul class=\"toc-item\"><li><span><a href=\"#identificar-los-10-principales-compañias-con-mayores-viajes\" data-toc-modified-id=\"identificar-los-10-principales-compañias-con-mayores-viajes-1.5.1\">identificar los 10 principales compañias con mayores viajes</a></span><ul class=\"toc-item\"><li><span><a href=\"#Observacion:\" data-toc-modified-id=\"Observacion:-1.5.1.1\">Observacion:</a></span></li></ul></li><li><span><a href=\"#identificar-los-10-principales-barrios-con-mayores-viajes-finalizados\" data-toc-modified-id=\"identificar-los-10-principales-barrios-con-mayores-viajes-finalizados-1.5.2\">identificar los 10 principales barrios con mayores viajes finalizados</a></span><ul class=\"toc-item\"><li><span><a href=\"#Observacion:\" data-toc-modified-id=\"Observacion:-1.5.2.1\">Observacion:</a></span></li></ul></li><li><span><a href=\"#Impacto-del-clima-en-la-duracion-de-los-viajes\" data-toc-modified-id=\"Impacto-del-clima-en-la-duracion-de-los-viajes-1.5.3\">Impacto del clima en la duracion de los viajes</a></span><ul class=\"toc-item\"><li><span><a href=\"#Observacion:\" data-toc-modified-id=\"Observacion:-1.5.3.1\">Observacion:</a></span></li></ul></li><li><span><a href=\"#Horas-con-mayor-cantidad-de-viajes\" data-toc-modified-id=\"Horas-con-mayor-cantidad-de-viajes-1.5.4\">Horas con mayor cantidad de viajes</a></span><ul class=\"toc-item\"><li><span><a href=\"#Observacion:\" data-toc-modified-id=\"Observacion:-1.5.4.1\">Observacion:</a></span></li></ul></li><li><span><a href=\"#Cantidad-de-Viajes-por-horas-y-dias\" data-toc-modified-id=\"Cantidad-de-Viajes-por-horas-y-dias-1.5.5\">Cantidad de Viajes por horas y dias</a></span><ul class=\"toc-item\"><li><span><a href=\"#Observacion:\" data-toc-modified-id=\"Observacion:-1.5.5.1\">Observacion:</a></span></li></ul></li><li><span><a href=\"#Promedio-duracion-de-viajes-por-horas-y-dias\" data-toc-modified-id=\"Promedio-duracion-de-viajes-por-horas-y-dias-1.5.6\">Promedio duracion de viajes por horas y dias</a></span><ul class=\"toc-item\"><li><span><a href=\"#Observacion:\" data-toc-modified-id=\"Observacion:-1.5.6.1\">Observacion:</a></span></li></ul></li><li><span><a href=\"#Observacion:\" data-toc-modified-id=\"Observacion:-1.5.7\">Observacion:</a></span></li><li><span><a href=\"#Duracion-promedio-de-viajes-por-horas-segun-las-condiciones-climaticas\" data-toc-modified-id=\"Duracion-promedio-de-viajes-por-horas-segun-las-condiciones-climaticas-1.5.8\">Duracion promedio de viajes por horas segun las condiciones climaticas</a></span><ul class=\"toc-item\"><li><span><a href=\"#Observacion:\" data-toc-modified-id=\"Observacion:-1.5.8.1\">Observacion:</a></span></li></ul></li></ul></li><li><span><a href=\"#Prueba-de-hipótesis\" data-toc-modified-id=\"Prueba-de-hipótesis-1.6\">Prueba de hipótesis</a></span><ul class=\"toc-item\"><li><span><a href=\"#Observacion:\" data-toc-modified-id=\"Observacion:-1.6.1\">Observacion:</a></span></li></ul></li><li><span><a href=\"#Conclusion-General\" data-toc-modified-id=\"Conclusion-General-1.7\">Conclusion General</a></span><ul class=\"toc-item\"><li><span><a href=\"#Top-10-compañias-populares.\" data-toc-modified-id=\"Top-10-compañias-populares.-1.7.1\">Top 10 compañias populares.</a></span></li><li><span><a href=\"#Top-10-Barrios-mas-concurridos.\" data-toc-modified-id=\"Top-10-Barrios-mas-concurridos.-1.7.2\">Top 10 Barrios mas concurridos.</a></span></li><li><span><a href=\"#Promedio-total-de-duracion-del-viaje-dependiendo-de-la-condicion-climatica.\" data-toc-modified-id=\"Promedio-total-de-duracion-del-viaje-dependiendo-de-la-condicion-climatica.-1.7.3\">Promedio total de duracion del viaje dependiendo de la condicion climatica.</a></span></li><li><span><a href=\"#Previsualizacion-de-los-datos-en-un-grafico.\" data-toc-modified-id=\"Previsualizacion-de-los-datos-en-un-grafico.-1.7.4\">Previsualizacion de los datos en un grafico.</a></span></li><li><span><a href=\"#Cantidad-de-Viajes-por-Hora-y-Dias.\" data-toc-modified-id=\"Cantidad-de-Viajes-por-Hora-y-Dias.-1.7.5\">Cantidad de Viajes por Hora y Dias.</a></span></li><li><span><a href=\"#Promedio-duracion-de-viajes-por-dia-y-hora.\" data-toc-modified-id=\"Promedio-duracion-de-viajes-por-dia-y-hora.-1.7.6\">Promedio duracion de viajes por dia y hora.</a></span></li><li><span><a href=\"#Duracion-pomedio-de-viajes-por-horas-segun-las-condiciones-climaticas\" data-toc-modified-id=\"Duracion-pomedio-de-viajes-por-horas-segun-las-condiciones-climaticas-1.7.7\">Duracion pomedio de viajes por horas segun las condiciones climaticas</a></span></li><li><span><a href=\"#Hipotesis\" data-toc-modified-id=\"Hipotesis-1.7.8\">Hipotesis</a></span></li></ul></li><li><span><a href=\"#Recomendaciones-Basadas-en-el-Análisis:\" data-toc-modified-id=\"Recomendaciones-Basadas-en-el-Análisis:-1.8\">Recomendaciones Basadas en el Análisis:</a></span><ul class=\"toc-item\"><li><span><a href=\"#Optimización-de-Recursos-para-Empresas-de-Taxis:\" data-toc-modified-id=\"Optimización-de-Recursos-para-Empresas-de-Taxis:-1.8.1\">Optimización de Recursos para Empresas de Taxis:</a></span></li><li><span><a href=\"#Estrategias-de-Marketing:\" data-toc-modified-id=\"Estrategias-de-Marketing:-1.8.2\">Estrategias de Marketing:</a></span></li><li><span><a href=\"#Ajuste-de-Tarifas-Basado-en-la-Demanda:\" data-toc-modified-id=\"Ajuste-de-Tarifas-Basado-en-la-Demanda:-1.8.3\">Ajuste de Tarifas Basado en la Demanda:</a></span></li><li><span><a href=\"#Mejoras-en-la-Experiencia-del-Usuario:\" data-toc-modified-id=\"Mejoras-en-la-Experiencia-del-Usuario:-1.8.4\">Mejoras en la Experiencia del Usuario:</a></span></li><li><span><a href=\"#Consideraciones-Climáticas:\" data-toc-modified-id=\"Consideraciones-Climáticas:-1.8.5\">Consideraciones Climáticas:</a></span></li><li><span><a href=\"#Expansión-de-Flotas-en-Barrios-de-Crecimiento:\" data-toc-modified-id=\"Expansión-de-Flotas-en-Barrios-de-Crecimiento:-1.8.6\">Expansión de Flotas en Barrios de Crecimiento:</a></span></li></ul></li></ul></li></ul></div>"
   ]
  },
  {
   "cell_type": "markdown",
   "metadata": {},
   "source": [
    "## Introduccion\n",
    "\n",
    "En este proyecto, llevaremos a cabo un análisis exploratorio de datos utilizando Python para investigar patrones y tendencias en el servicio de taxis en Chicago. Contamos con dos conjuntos de datos clave que nos permitirán profundizar en el comportamiento de las empresas de taxis y los patrones de finalización de viajes en diferentes barrios de la ciudad durante noviembre de 2017.\n",
    "\n",
    "El primer conjunto de datos, denominado project_sql_result_01.csv, contiene información sobre el número de viajes realizados por diferentes compañías de taxis durante los días 15 y 16 de noviembre de 2017. Este dataset nos permitirá analizar la actividad de las empresas de taxis en un corto período y comparar su desempeño.\n",
    "\n",
    "El segundo archivo, project_sql_result_04.csv, proporciona datos sobre los barrios de Chicago donde finalizaron los viajes y el promedio de viajes que terminaron en cada uno de ellos durante todo el mes de noviembre de 2017. Este conjunto de datos es crucial para identificar los barrios más populares como destinos finales y para entender la distribución geográfica del servicio de taxis en la ciudad.\n",
    "\n",
    "Los objetivos principales de esta fase del proyecto incluyen:\n",
    "\n",
    "* Importar y explorar los datos: Asegurarnos de que los datos se importen correctamente y que los tipos de datos sean los adecuados para el análisis.\n",
    "\n",
    "* Identificar los principales barrios y empresas de taxis: Analizar los datos para determinar los 10 barrios con más finalizaciones de viajes y comparar el número de viajes entre las distintas compañías de taxis.\n",
    "\n",
    "* Visualizar los resultados: Crear gráficos que representen visualmente las principales empresas de taxis y los barrios con más finalizaciones de viajes, lo que nos permitirá identificar patrones y tendencias clave.\n",
    "\n",
    "* Sacar conclusiones: Basándonos en los gráficos y el análisis realizado, extraer conclusiones que nos ayuden a entender mejor el comportamiento del servicio de taxis en Chicago durante el período de estudio.\n",
    "\n",
    "Además, en la segunda parte del proyecto, abordaremos una prueba de hipótesis utilizando un tercer conjunto de datos (project_sql_result_07.csv). Este dataset incluye información sobre la duración de los viajes desde el Loop hasta el Aeropuerto Internacional O'Hare bajo diferentes condiciones climáticas. En esta etapa, se probará la hipótesis de si la duración promedio de estos viajes varía en los sábados lluviosos.\n",
    "\n",
    "El análisis y la interpretación de estos datos nos proporcionarán una comprensión más profunda del funcionamiento del servicio de taxis en Chicago y nos permitirán hacer inferencias sobre el impacto de las condiciones climáticas en la duración de los viajes hacia el aeropuerto."
   ]
  },
  {
   "cell_type": "code",
   "execution_count": 1,
   "metadata": {},
   "outputs": [],
   "source": [
    "import pandas as pd\n",
    "import seaborn as sns\n",
    "import numpy as np\n",
    "import math as mt\n",
    "import matplotlib.pyplot as plt\n",
    "import plotly.graph_objects as go\n",
    "import plotly.express as px\n",
    "from scipy import stats as st"
   ]
  },
  {
   "cell_type": "code",
   "execution_count": 2,
   "metadata": {},
   "outputs": [],
   "source": [
    "# Cargamos los dataset a trabajar\n",
    "\n",
    "df1= pd.read_csv('/datasets/project_sql_result_01.csv') \n",
    "df2= pd.read_csv('/datasets/project_sql_result_04.csv')\n",
    "df3= pd.read_csv('/datasets/project_sql_result_07.csv')"
   ]
  },
  {
   "cell_type": "markdown",
   "metadata": {},
   "source": [
    "## DataFrame 1"
   ]
  },
  {
   "cell_type": "code",
   "execution_count": 3,
   "metadata": {
    "scrolled": false
   },
   "outputs": [
    {
     "name": "stdout",
     "output_type": "stream",
     "text": [
      "<class 'pandas.core.frame.DataFrame'>\n",
      "RangeIndex: 64 entries, 0 to 63\n",
      "Data columns (total 2 columns):\n",
      " #   Column        Non-Null Count  Dtype \n",
      "---  ------        --------------  ----- \n",
      " 0   company_name  64 non-null     object\n",
      " 1   trips_amount  64 non-null     int64 \n",
      "dtypes: int64(1), object(1)\n",
      "memory usage: 1.1+ KB\n"
     ]
    }
   ],
   "source": [
    "#Extraemos y visualizamos los datos en general.\n",
    "\n",
    "df1.info()"
   ]
  },
  {
   "cell_type": "code",
   "execution_count": 4,
   "metadata": {},
   "outputs": [
    {
     "data": {
      "text/html": [
       "<div>\n",
       "<style scoped>\n",
       "    .dataframe tbody tr th:only-of-type {\n",
       "        vertical-align: middle;\n",
       "    }\n",
       "\n",
       "    .dataframe tbody tr th {\n",
       "        vertical-align: top;\n",
       "    }\n",
       "\n",
       "    .dataframe thead th {\n",
       "        text-align: right;\n",
       "    }\n",
       "</style>\n",
       "<table border=\"1\" class=\"dataframe\">\n",
       "  <thead>\n",
       "    <tr style=\"text-align: right;\">\n",
       "      <th></th>\n",
       "      <th>trips_amount</th>\n",
       "    </tr>\n",
       "  </thead>\n",
       "  <tbody>\n",
       "    <tr>\n",
       "      <th>count</th>\n",
       "      <td>64.000000</td>\n",
       "    </tr>\n",
       "    <tr>\n",
       "      <th>mean</th>\n",
       "      <td>2145.484375</td>\n",
       "    </tr>\n",
       "    <tr>\n",
       "      <th>std</th>\n",
       "      <td>3812.310186</td>\n",
       "    </tr>\n",
       "    <tr>\n",
       "      <th>min</th>\n",
       "      <td>2.000000</td>\n",
       "    </tr>\n",
       "    <tr>\n",
       "      <th>25%</th>\n",
       "      <td>20.750000</td>\n",
       "    </tr>\n",
       "    <tr>\n",
       "      <th>50%</th>\n",
       "      <td>178.500000</td>\n",
       "    </tr>\n",
       "    <tr>\n",
       "      <th>75%</th>\n",
       "      <td>2106.500000</td>\n",
       "    </tr>\n",
       "    <tr>\n",
       "      <th>max</th>\n",
       "      <td>19558.000000</td>\n",
       "    </tr>\n",
       "  </tbody>\n",
       "</table>\n",
       "</div>"
      ],
      "text/plain": [
       "       trips_amount\n",
       "count     64.000000\n",
       "mean    2145.484375\n",
       "std     3812.310186\n",
       "min        2.000000\n",
       "25%       20.750000\n",
       "50%      178.500000\n",
       "75%     2106.500000\n",
       "max    19558.000000"
      ]
     },
     "execution_count": 4,
     "metadata": {},
     "output_type": "execute_result"
    }
   ],
   "source": [
    "#realizamos una previsualizacion de los datos numericos.\n",
    "\n",
    "df1.describe()"
   ]
  },
  {
   "cell_type": "markdown",
   "metadata": {},
   "source": [
    "#### Observacion describe():\n",
    "\n",
    "* Alta variabilidad: La alta desviación estándar indica una gran variabilidad en la cantidad de viajes. Algunos días o periodos pueden tener muy pocos viajes, mientras que otros pueden tener muchos.\n",
    "\n",
    "\n",
    "\n",
    "* Posibles outliers: El valor máximo de 19558 es mucho más alto que el resto de los valores, lo que sugiere que podría ser un outlier. Estos valores atípicos pueden distorsionar los resultados estadísticos y deben ser investigados.\n",
    "\n",
    "\n",
    "\n",
    "* Distribución sesgada: La gran diferencia entre la mediana (50%) y la media sugiere que la distribución de los datos probablemente está sesgada hacia la derecha, es decir, hay una cola larga hacia valores altos. Esto se confirma por la diferencia entre el cuartil 3 y el máximo.\n",
    "\n",
    "\n",
    "\n",
    "* Necesidad de análisis más profundo: Este resumen estadístico básico proporciona una primera visión de los datos, pero es necesario realizar un análisis más profundo para comprender completamente la distribución de los viajes y las posibles causas de la alta variabilidad."
   ]
  },
  {
   "cell_type": "code",
   "execution_count": 5,
   "metadata": {},
   "outputs": [
    {
     "name": "stdout",
     "output_type": "stream",
     "text": [
      "Duplicados en todo el Dataframe:  0\n",
      "\n",
      "Duplicados en la columna company_name:  0\n",
      "\n",
      "Duplicados en la columna trips_amount:  8\n"
     ]
    }
   ],
   "source": [
    "# Verificamos si existen datos duplicados. \n",
    "\n",
    "print('Duplicados en todo el Dataframe: ', df1.duplicated().sum())\n",
    "print()\n",
    "print('Duplicados en la columna company_name: ', df1['company_name'].duplicated().sum())\n",
    "print()\n",
    "print('Duplicados en la columna trips_amount: ', df1['trips_amount'].duplicated().sum())"
   ]
  },
  {
   "cell_type": "markdown",
   "metadata": {},
   "source": [
    "#### Observacion duplicated():\n",
    "\n",
    "Pudimos verificar que tenemos supuestos datos duplicados en la columna trips_amount, los cuales en realidad no se consideraran como datos duplicados ya que sabemos que esta columna contiene la cantidad de viajes de cada compañia los cuales estas cifras se pueden repetir en varias compañias en este caso son 8 compañias las que tienen datos iguales."
   ]
  },
  {
   "cell_type": "code",
   "execution_count": 6,
   "metadata": {},
   "outputs": [
    {
     "data": {
      "text/html": [
       "<div>\n",
       "<style scoped>\n",
       "    .dataframe tbody tr th:only-of-type {\n",
       "        vertical-align: middle;\n",
       "    }\n",
       "\n",
       "    .dataframe tbody tr th {\n",
       "        vertical-align: top;\n",
       "    }\n",
       "\n",
       "    .dataframe thead th {\n",
       "        text-align: right;\n",
       "    }\n",
       "</style>\n",
       "<table border=\"1\" class=\"dataframe\">\n",
       "  <thead>\n",
       "    <tr style=\"text-align: right;\">\n",
       "      <th></th>\n",
       "      <th>company_name</th>\n",
       "      <th>trips_amount</th>\n",
       "    </tr>\n",
       "  </thead>\n",
       "  <tbody>\n",
       "    <tr>\n",
       "      <th>0</th>\n",
       "      <td>Flash Cab</td>\n",
       "      <td>19558</td>\n",
       "    </tr>\n",
       "    <tr>\n",
       "      <th>1</th>\n",
       "      <td>Taxi Affiliation Services</td>\n",
       "      <td>11422</td>\n",
       "    </tr>\n",
       "    <tr>\n",
       "      <th>2</th>\n",
       "      <td>Medallion Leasing</td>\n",
       "      <td>10367</td>\n",
       "    </tr>\n",
       "    <tr>\n",
       "      <th>3</th>\n",
       "      <td>Yellow Cab</td>\n",
       "      <td>9888</td>\n",
       "    </tr>\n",
       "    <tr>\n",
       "      <th>4</th>\n",
       "      <td>Taxi Affiliation Service Yellow</td>\n",
       "      <td>9299</td>\n",
       "    </tr>\n",
       "    <tr>\n",
       "      <th>5</th>\n",
       "      <td>Chicago Carriage Cab Corp</td>\n",
       "      <td>9181</td>\n",
       "    </tr>\n",
       "    <tr>\n",
       "      <th>6</th>\n",
       "      <td>City Service</td>\n",
       "      <td>8448</td>\n",
       "    </tr>\n",
       "    <tr>\n",
       "      <th>7</th>\n",
       "      <td>Sun Taxi</td>\n",
       "      <td>7701</td>\n",
       "    </tr>\n",
       "    <tr>\n",
       "      <th>8</th>\n",
       "      <td>Star North Management LLC</td>\n",
       "      <td>7455</td>\n",
       "    </tr>\n",
       "    <tr>\n",
       "      <th>9</th>\n",
       "      <td>Blue Ribbon Taxi Association Inc.</td>\n",
       "      <td>5953</td>\n",
       "    </tr>\n",
       "  </tbody>\n",
       "</table>\n",
       "</div>"
      ],
      "text/plain": [
       "                        company_name  trips_amount\n",
       "0                          Flash Cab         19558\n",
       "1          Taxi Affiliation Services         11422\n",
       "2                  Medallion Leasing         10367\n",
       "3                         Yellow Cab          9888\n",
       "4    Taxi Affiliation Service Yellow          9299\n",
       "5          Chicago Carriage Cab Corp          9181\n",
       "6                       City Service          8448\n",
       "7                           Sun Taxi          7701\n",
       "8          Star North Management LLC          7455\n",
       "9  Blue Ribbon Taxi Association Inc.          5953"
      ]
     },
     "execution_count": 6,
     "metadata": {},
     "output_type": "execute_result"
    }
   ],
   "source": [
    "#Ordenamos los datos en orden descendente y verificamos que ya los datos estan ordenamos de dicha forma.\n",
    "df1.sort_values(by='trips_amount', ascending=False).head(10)"
   ]
  },
  {
   "cell_type": "code",
   "execution_count": 7,
   "metadata": {},
   "outputs": [
    {
     "data": {
      "text/plain": [
       "['0118 - 42111 Godfrey S. Awir',\n",
       " '1085 - 72312 N and W Cab Co',\n",
       " '1469 - 64126 Omar Jada',\n",
       " '2092 - 61288 Sbeih Company',\n",
       " '2192 - 73487 Zeymane Corp',\n",
       " '2241 - 44667 - Felman Corp',\n",
       " '24 Seven Taxi',\n",
       " '2733 - 74600 Benny Jona',\n",
       " '2809 - 95474 C & D Cab Co Inc.',\n",
       " '2823 - 73307 Lee Express Inc',\n",
       " '3011 - 66308 JBL Cab Inc.',\n",
       " '303 Taxi',\n",
       " '3556 - 36214 RC Andrews Cab',\n",
       " '3591 - 63480 Chuks Cab',\n",
       " '3620 - 52292 David K. Cab Corp.',\n",
       " '3623 - 72222 Arrington Enterprises',\n",
       " '3721 - Santamaria Express',\n",
       " '4053 - 40193 Adwar H. Nikola',\n",
       " '4615 - 83503 Tyrone Henderson',\n",
       " '4623 - 27290 Jay Kim',\n",
       " '5 Star Taxi',\n",
       " '5006 - 39261 Salifu Bawa',\n",
       " '5062 - 34841 Sam Mestas',\n",
       " '5074 - 54002 Ahzmi Inc',\n",
       " '5874 - 73628 Sergey Cab Corp.',\n",
       " '5997 - 65283 AW Services Inc.',\n",
       " '6057 - 24657 Richard Addo',\n",
       " '6574 - Babylon Express Inc.',\n",
       " '6742 - 83735 Tasha Ride Inc',\n",
       " '6743 - 78771 Luhak Corp',\n",
       " 'American United',\n",
       " 'American United Taxi Affiliation',\n",
       " 'Blue Diamond',\n",
       " 'Blue Ribbon Taxi Association Inc.',\n",
       " 'Checker Taxi',\n",
       " 'Checker Taxi Affiliation',\n",
       " 'Chicago Carriage Cab Corp',\n",
       " 'Chicago Independents',\n",
       " 'Chicago Medallion Leasing INC',\n",
       " 'Chicago Medallion Management',\n",
       " 'Chicago Star Taxicab',\n",
       " 'Chicago Taxicab',\n",
       " 'Choice Taxi Association',\n",
       " 'City Service',\n",
       " 'Dispatch Taxi Affiliation',\n",
       " 'Flash Cab',\n",
       " 'Globe Taxi',\n",
       " 'Gold Coast Taxi',\n",
       " 'KOAM Taxi Association',\n",
       " 'Leonard Cab Co',\n",
       " 'Medallion Leasing',\n",
       " 'Metro Group',\n",
       " 'Metro Jet Taxi A',\n",
       " 'Norshore Cab',\n",
       " 'Nova Taxi Affiliation Llc',\n",
       " 'Patriot Taxi Dba Peace Taxi Association',\n",
       " 'Service Taxi Association',\n",
       " 'Setare Inc',\n",
       " 'Star North Management LLC',\n",
       " 'Sun Taxi',\n",
       " 'Taxi Affiliation Service Yellow',\n",
       " 'Taxi Affiliation Services',\n",
       " 'Top Cab Affiliation',\n",
       " 'Yellow Cab']"
      ]
     },
     "execution_count": 7,
     "metadata": {},
     "output_type": "execute_result"
    }
   ],
   "source": [
    "sort1= df1['company_name'].unique()\n",
    "sorted(sort1)"
   ]
  },
  {
   "cell_type": "code",
   "execution_count": 8,
   "metadata": {},
   "outputs": [
    {
     "data": {
      "text/html": [
       "<div>\n",
       "<style scoped>\n",
       "    .dataframe tbody tr th:only-of-type {\n",
       "        vertical-align: middle;\n",
       "    }\n",
       "\n",
       "    .dataframe tbody tr th {\n",
       "        vertical-align: top;\n",
       "    }\n",
       "\n",
       "    .dataframe thead th {\n",
       "        text-align: right;\n",
       "    }\n",
       "</style>\n",
       "<table border=\"1\" class=\"dataframe\">\n",
       "  <thead>\n",
       "    <tr style=\"text-align: right;\">\n",
       "      <th></th>\n",
       "      <th>company_name</th>\n",
       "      <th>trips_amount</th>\n",
       "    </tr>\n",
       "  </thead>\n",
       "  <tbody>\n",
       "    <tr>\n",
       "      <th>35</th>\n",
       "      <td>6742 - 83735 Tasha Ride Inc</td>\n",
       "      <td>39</td>\n",
       "    </tr>\n",
       "    <tr>\n",
       "      <th>36</th>\n",
       "      <td>3591 - 63480 Chuks Cab</td>\n",
       "      <td>37</td>\n",
       "    </tr>\n",
       "    <tr>\n",
       "      <th>37</th>\n",
       "      <td>1469 - 64126 Omar Jada</td>\n",
       "      <td>36</td>\n",
       "    </tr>\n",
       "    <tr>\n",
       "      <th>38</th>\n",
       "      <td>6743 - 78771 Luhak Corp</td>\n",
       "      <td>33</td>\n",
       "    </tr>\n",
       "    <tr>\n",
       "      <th>39</th>\n",
       "      <td>0118 - 42111 Godfrey S. Awir</td>\n",
       "      <td>33</td>\n",
       "    </tr>\n",
       "    <tr>\n",
       "      <th>42</th>\n",
       "      <td>1085 - 72312 N and W Cab Co</td>\n",
       "      <td>29</td>\n",
       "    </tr>\n",
       "    <tr>\n",
       "      <th>43</th>\n",
       "      <td>2809 - 95474 C &amp; D Cab Co Inc.</td>\n",
       "      <td>29</td>\n",
       "    </tr>\n",
       "    <tr>\n",
       "      <th>44</th>\n",
       "      <td>2092 - 61288 Sbeih Company</td>\n",
       "      <td>27</td>\n",
       "    </tr>\n",
       "    <tr>\n",
       "      <th>45</th>\n",
       "      <td>3011 - 66308 JBL Cab Inc.</td>\n",
       "      <td>25</td>\n",
       "    </tr>\n",
       "    <tr>\n",
       "      <th>46</th>\n",
       "      <td>3620 - 52292 David K. Cab Corp.</td>\n",
       "      <td>21</td>\n",
       "    </tr>\n",
       "    <tr>\n",
       "      <th>47</th>\n",
       "      <td>4615 - 83503 Tyrone Henderson</td>\n",
       "      <td>21</td>\n",
       "    </tr>\n",
       "    <tr>\n",
       "      <th>48</th>\n",
       "      <td>3623 - 72222 Arrington Enterprises</td>\n",
       "      <td>20</td>\n",
       "    </tr>\n",
       "    <tr>\n",
       "      <th>49</th>\n",
       "      <td>5074 - 54002 Ahzmi Inc</td>\n",
       "      <td>16</td>\n",
       "    </tr>\n",
       "    <tr>\n",
       "      <th>50</th>\n",
       "      <td>2823 - 73307 Lee Express Inc</td>\n",
       "      <td>15</td>\n",
       "    </tr>\n",
       "    <tr>\n",
       "      <th>51</th>\n",
       "      <td>4623 - 27290 Jay Kim</td>\n",
       "      <td>15</td>\n",
       "    </tr>\n",
       "    <tr>\n",
       "      <th>53</th>\n",
       "      <td>5006 - 39261 Salifu Bawa</td>\n",
       "      <td>14</td>\n",
       "    </tr>\n",
       "    <tr>\n",
       "      <th>54</th>\n",
       "      <td>2192 - 73487 Zeymane Corp</td>\n",
       "      <td>14</td>\n",
       "    </tr>\n",
       "    <tr>\n",
       "      <th>55</th>\n",
       "      <td>6057 - 24657 Richard Addo</td>\n",
       "      <td>13</td>\n",
       "    </tr>\n",
       "    <tr>\n",
       "      <th>56</th>\n",
       "      <td>5997 - 65283 AW Services Inc.</td>\n",
       "      <td>12</td>\n",
       "    </tr>\n",
       "    <tr>\n",
       "      <th>58</th>\n",
       "      <td>5062 - 34841 Sam Mestas</td>\n",
       "      <td>8</td>\n",
       "    </tr>\n",
       "    <tr>\n",
       "      <th>59</th>\n",
       "      <td>4053 - 40193 Adwar H. Nikola</td>\n",
       "      <td>7</td>\n",
       "    </tr>\n",
       "    <tr>\n",
       "      <th>60</th>\n",
       "      <td>2733 - 74600 Benny Jona</td>\n",
       "      <td>7</td>\n",
       "    </tr>\n",
       "    <tr>\n",
       "      <th>61</th>\n",
       "      <td>5874 - 73628 Sergey Cab Corp.</td>\n",
       "      <td>5</td>\n",
       "    </tr>\n",
       "    <tr>\n",
       "      <th>62</th>\n",
       "      <td>2241 - 44667 - Felman Corp</td>\n",
       "      <td>3</td>\n",
       "    </tr>\n",
       "    <tr>\n",
       "      <th>63</th>\n",
       "      <td>3556 - 36214 RC Andrews Cab</td>\n",
       "      <td>2</td>\n",
       "    </tr>\n",
       "  </tbody>\n",
       "</table>\n",
       "</div>"
      ],
      "text/plain": [
       "                          company_name  trips_amount\n",
       "35         6742 - 83735 Tasha Ride Inc            39\n",
       "36              3591 - 63480 Chuks Cab            37\n",
       "37              1469 - 64126 Omar Jada            36\n",
       "38             6743 - 78771 Luhak Corp            33\n",
       "39        0118 - 42111 Godfrey S. Awir            33\n",
       "42         1085 - 72312 N and W Cab Co            29\n",
       "43      2809 - 95474 C & D Cab Co Inc.            29\n",
       "44          2092 - 61288 Sbeih Company            27\n",
       "45           3011 - 66308 JBL Cab Inc.            25\n",
       "46     3620 - 52292 David K. Cab Corp.            21\n",
       "47       4615 - 83503 Tyrone Henderson            21\n",
       "48  3623 - 72222 Arrington Enterprises            20\n",
       "49              5074 - 54002 Ahzmi Inc            16\n",
       "50        2823 - 73307 Lee Express Inc            15\n",
       "51                4623 - 27290 Jay Kim            15\n",
       "53            5006 - 39261 Salifu Bawa            14\n",
       "54           2192 - 73487 Zeymane Corp            14\n",
       "55           6057 - 24657 Richard Addo            13\n",
       "56       5997 - 65283 AW Services Inc.            12\n",
       "58             5062 - 34841 Sam Mestas             8\n",
       "59        4053 - 40193 Adwar H. Nikola             7\n",
       "60             2733 - 74600 Benny Jona             7\n",
       "61       5874 - 73628 Sergey Cab Corp.             5\n",
       "62          2241 - 44667 - Felman Corp             3\n",
       "63         3556 - 36214 RC Andrews Cab             2"
      ]
     },
     "execution_count": 8,
     "metadata": {},
     "output_type": "execute_result"
    }
   ],
   "source": [
    "pattern = r\"^\\d+ - \\d+ .*\"\n",
    "filtered_df = df1[df1['company_name'].str.match(pattern)]\n",
    "filtered_df"
   ]
  },
  {
   "cell_type": "markdown",
   "metadata": {},
   "source": [
    "#### Observacion de los datos:\n",
    "\n",
    "En el análisis de los nombres de las empresas, hemos detectado valores atípicos. Exploramos la posibilidad de que estos nombres estuvieran asociados a códigos iniciales, pero no hemos logrado identificar un patrón específico. Estos códigos podrían corresponder a identificadores numéricos únicos asignados a cada empresa (similares a un ID) o, incluso, a números telefónicos. Dada la variedad de posibilidades, no es posible determinar con certeza el significado exacto de dichos códigos.\n",
    "\n",
    "En este caso no los eliminares o modificaremos ya que no tiene sentido quitarles dichos codigos y no los eliminaremos para no afectar el resultado final que se podria obtener de estos datos."
   ]
  },
  {
   "cell_type": "markdown",
   "metadata": {},
   "source": [
    "<div class=\"alert alert-block alert-success\">\n",
    "\n",
    "<b>Comentario del revisor</b> <a class=\"tocSkip\"></a>\n",
    "\n",
    "Muy buenas observacion. </div>\n",
    "\n"
   ]
  },
  {
   "cell_type": "markdown",
   "metadata": {},
   "source": [
    "## DataFrame 2"
   ]
  },
  {
   "cell_type": "code",
   "execution_count": 9,
   "metadata": {
    "scrolled": true
   },
   "outputs": [
    {
     "name": "stdout",
     "output_type": "stream",
     "text": [
      "<class 'pandas.core.frame.DataFrame'>\n",
      "RangeIndex: 94 entries, 0 to 93\n",
      "Data columns (total 2 columns):\n",
      " #   Column                 Non-Null Count  Dtype  \n",
      "---  ------                 --------------  -----  \n",
      " 0   dropoff_location_name  94 non-null     object \n",
      " 1   average_trips          94 non-null     float64\n",
      "dtypes: float64(1), object(1)\n",
      "memory usage: 1.6+ KB\n"
     ]
    }
   ],
   "source": [
    "#Extraemos y visualizamos los datos en general.\n",
    "\n",
    "df2.info()"
   ]
  },
  {
   "cell_type": "code",
   "execution_count": 10,
   "metadata": {
    "scrolled": true
   },
   "outputs": [
    {
     "data": {
      "text/html": [
       "<div>\n",
       "<style scoped>\n",
       "    .dataframe tbody tr th:only-of-type {\n",
       "        vertical-align: middle;\n",
       "    }\n",
       "\n",
       "    .dataframe tbody tr th {\n",
       "        vertical-align: top;\n",
       "    }\n",
       "\n",
       "    .dataframe thead th {\n",
       "        text-align: right;\n",
       "    }\n",
       "</style>\n",
       "<table border=\"1\" class=\"dataframe\">\n",
       "  <thead>\n",
       "    <tr style=\"text-align: right;\">\n",
       "      <th></th>\n",
       "      <th>average_trips</th>\n",
       "    </tr>\n",
       "  </thead>\n",
       "  <tbody>\n",
       "    <tr>\n",
       "      <th>count</th>\n",
       "      <td>94.000000</td>\n",
       "    </tr>\n",
       "    <tr>\n",
       "      <th>mean</th>\n",
       "      <td>599.953728</td>\n",
       "    </tr>\n",
       "    <tr>\n",
       "      <th>std</th>\n",
       "      <td>1714.591098</td>\n",
       "    </tr>\n",
       "    <tr>\n",
       "      <th>min</th>\n",
       "      <td>1.800000</td>\n",
       "    </tr>\n",
       "    <tr>\n",
       "      <th>25%</th>\n",
       "      <td>14.266667</td>\n",
       "    </tr>\n",
       "    <tr>\n",
       "      <th>50%</th>\n",
       "      <td>52.016667</td>\n",
       "    </tr>\n",
       "    <tr>\n",
       "      <th>75%</th>\n",
       "      <td>298.858333</td>\n",
       "    </tr>\n",
       "    <tr>\n",
       "      <th>max</th>\n",
       "      <td>10727.466667</td>\n",
       "    </tr>\n",
       "  </tbody>\n",
       "</table>\n",
       "</div>"
      ],
      "text/plain": [
       "       average_trips\n",
       "count      94.000000\n",
       "mean      599.953728\n",
       "std      1714.591098\n",
       "min         1.800000\n",
       "25%        14.266667\n",
       "50%        52.016667\n",
       "75%       298.858333\n",
       "max     10727.466667"
      ]
     },
     "execution_count": 10,
     "metadata": {},
     "output_type": "execute_result"
    }
   ],
   "source": [
    "#realizamos una previsualizacion de los datos numericos.\n",
    "\n",
    "df2.describe()"
   ]
  },
  {
   "cell_type": "markdown",
   "metadata": {},
   "source": [
    "#### Observacion describe():\n",
    "\n",
    "* Alta variabilidad: La alta desviación estándar indica una gran variabilidad en la cantidad de viajes. Algunos días o periodos pueden tener muy pocos viajes a los barrios, mientras que otros pueden tener muchos.\n",
    "\n",
    "\n",
    "\n",
    "* Posibles outliers: El valor máximo de 10728 es mucho más alto que el resto de los valores, lo que sugiere que podría ser un outlier. Estos valores atípicos pueden distorsionar los resultados estadísticos y deben ser investigados.\n",
    "\n",
    "\n",
    "\n",
    "* Distribución sesgada: La gran diferencia entre la mediana (50%) y la media sugiere que la distribución de los datos probablemente está sesgada hacia la derecha, es decir, hay una cola larga hacia valores altos. Esto se confirma por la diferencia entre el cuartil 3 y el máximo.\n",
    "\n",
    "\n",
    "\n",
    "* Necesidad de análisis más profundo: Este resumen estadístico básico proporciona una primera visión de los datos, pero es necesario realizar un análisis más profundo para comprender completamente la distribución de los viajes hacia diferentes barrios y las posibles causas de la alta variabilidad."
   ]
  },
  {
   "cell_type": "code",
   "execution_count": 11,
   "metadata": {
    "scrolled": true
   },
   "outputs": [
    {
     "name": "stdout",
     "output_type": "stream",
     "text": [
      "Duplicados en todo el Dataframe:  0\n",
      "\n",
      "Duplicados en la columna dropoff_location_name:  0\n",
      "\n",
      "Duplicados en la columna average_trips:  0\n"
     ]
    }
   ],
   "source": [
    "# Verificamos si existen datos duplicados. \n",
    "\n",
    "print('Duplicados en todo el Dataframe: ', df2.duplicated().sum())\n",
    "print()\n",
    "print('Duplicados en la columna dropoff_location_name: ', df2['dropoff_location_name'].duplicated().sum())\n",
    "print()\n",
    "print('Duplicados en la columna average_trips: ', df2['average_trips'].duplicated().sum())"
   ]
  },
  {
   "cell_type": "markdown",
   "metadata": {},
   "source": [
    "#### Observacion duplicated():\n",
    "\n",
    "Pudimos verificar que tenemos supuestos datos duplicados en la columna average_trips, los cuales en realidad no se consideraran como datos duplicados ya que sabemos que esta columna contiene la cantidad de viajes a cada barrio los cuales estas cifras se pueden repetir en varias barrios en este caso son 23 barrios los que tienen datos iguales."
   ]
  },
  {
   "cell_type": "code",
   "execution_count": 12,
   "metadata": {},
   "outputs": [
    {
     "name": "stdout",
     "output_type": "stream",
     "text": [
      "  dropoff_location_name  average_trips\n",
      "0                  Loop          10728\n",
      "1           River North           9524\n",
      "2         Streeterville           6665\n",
      "3             West Loop           5164\n",
      "4                O'Hare           2547\n",
      "\n",
      "\n",
      "<class 'pandas.core.frame.DataFrame'>\n",
      "RangeIndex: 94 entries, 0 to 93\n",
      "Data columns (total 2 columns):\n",
      " #   Column                 Non-Null Count  Dtype \n",
      "---  ------                 --------------  ----- \n",
      " 0   dropoff_location_name  94 non-null     object\n",
      " 1   average_trips          94 non-null     int64 \n",
      "dtypes: int64(1), object(1)\n",
      "memory usage: 1.6+ KB\n",
      "None\n"
     ]
    }
   ],
   "source": [
    "#convertimos la columna 'average_trips' a int y redondeamos sus valores hacia el mas cercano.\n",
    "df2['average_trips'] = np.ceil(df2['average_trips']).astype(int)\n",
    "print(df2.head())\n",
    "print()\n",
    "print()\n",
    "print(df2.info())"
   ]
  },
  {
   "cell_type": "code",
   "execution_count": 13,
   "metadata": {},
   "outputs": [
    {
     "data": {
      "text/plain": [
       "['Albany Park',\n",
       " 'Andersonville',\n",
       " 'Archer Heights',\n",
       " 'Armour Square',\n",
       " 'Ashburn',\n",
       " 'Auburn Gresham',\n",
       " 'Austin',\n",
       " 'Avalon Park',\n",
       " 'Avondale',\n",
       " 'Belmont Cragin',\n",
       " 'Beverly',\n",
       " 'Boystown',\n",
       " 'Bridgeport',\n",
       " 'Brighton Park',\n",
       " 'Bucktown',\n",
       " 'Burnside',\n",
       " 'Calumet Heights',\n",
       " 'Chatham',\n",
       " 'Chicago Lawn',\n",
       " 'Chinatown',\n",
       " 'Clearing',\n",
       " 'Douglas',\n",
       " 'Dunning',\n",
       " 'East Side',\n",
       " 'East Village',\n",
       " 'Edgewater',\n",
       " 'Edison Park',\n",
       " 'Englewood',\n",
       " 'Fuller Park',\n",
       " 'Gage Park',\n",
       " 'Garfield Park',\n",
       " 'Garfield Ridge',\n",
       " 'Gold Coast',\n",
       " 'Grand Boulevard',\n",
       " 'Grand Crossing',\n",
       " 'Grant Park',\n",
       " 'Hegewisch',\n",
       " 'Hermosa',\n",
       " 'Humboldt Park',\n",
       " 'Hyde Park',\n",
       " 'Irving Park',\n",
       " 'Jackson Park',\n",
       " 'Jefferson Park',\n",
       " 'Kenwood',\n",
       " 'Lake View',\n",
       " 'Lincoln Park',\n",
       " 'Lincoln Square',\n",
       " 'Little Italy, UIC',\n",
       " 'Little Village',\n",
       " 'Logan Square',\n",
       " 'Loop',\n",
       " 'Lower West Side',\n",
       " 'Mckinley Park',\n",
       " 'Montclare',\n",
       " 'Morgan Park',\n",
       " 'Mount Greenwood',\n",
       " 'Museum Campus',\n",
       " 'Near South Side',\n",
       " 'New City',\n",
       " 'North Center',\n",
       " 'North Lawndale',\n",
       " 'North Park',\n",
       " 'Norwood Park',\n",
       " \"O'Hare\",\n",
       " 'Oakland',\n",
       " 'Old Town',\n",
       " 'Portage Park',\n",
       " 'Pullman',\n",
       " 'River North',\n",
       " 'Riverdale',\n",
       " 'Rogers Park',\n",
       " 'Roseland',\n",
       " 'Rush & Division',\n",
       " 'Sauganash,Forest Glen',\n",
       " 'Sheffield & DePaul',\n",
       " 'South Chicago',\n",
       " 'South Deering',\n",
       " 'South Shore',\n",
       " 'Streeterville',\n",
       " 'Ukrainian Village',\n",
       " 'Undef',\n",
       " 'United Center',\n",
       " 'Uptown',\n",
       " 'Washington Heights',\n",
       " 'Washington Park',\n",
       " 'West Elsdon',\n",
       " 'West Lawn',\n",
       " 'West Loop',\n",
       " 'West Pullman',\n",
       " 'West Ridge',\n",
       " 'West Town',\n",
       " 'Wicker Park',\n",
       " 'Woodlawn',\n",
       " 'Wrigleyville']"
      ]
     },
     "execution_count": 13,
     "metadata": {},
     "output_type": "execute_result"
    }
   ],
   "source": [
    "sort2= df2['dropoff_location_name'].unique()\n",
    "sorted(sort2)"
   ]
  },
  {
   "cell_type": "markdown",
   "metadata": {},
   "source": [
    "#### Observacion de los datos:\n",
    "\n",
    "En este DataFrame no se identificaron datos atipicos. Sin embargo, se detectó que la columna correspondiente a la cantidad de viajes finalizados tenía un tipo de dato float. Dado que la cantidad de viajes es un valor discreto (entero) y no puede tomar valores fraccionarios, se procedió a redondear los valores al entero más cercano y posteriormente se cambió el tipo de dato a int."
   ]
  },
  {
   "cell_type": "markdown",
   "metadata": {},
   "source": [
    "<div class=\"alert alert-block alert-success\">\n",
    "\n",
    "<b>Comentario del revisor</b> <a class=\"tocSkip\"></a>\n",
    "\n",
    "Muy bien . </div>\n",
    "\n"
   ]
  },
  {
   "cell_type": "markdown",
   "metadata": {},
   "source": [
    "## DataFrame 3"
   ]
  },
  {
   "cell_type": "code",
   "execution_count": 14,
   "metadata": {
    "scrolled": true
   },
   "outputs": [
    {
     "name": "stdout",
     "output_type": "stream",
     "text": [
      "<class 'pandas.core.frame.DataFrame'>\n",
      "RangeIndex: 1068 entries, 0 to 1067\n",
      "Data columns (total 3 columns):\n",
      " #   Column              Non-Null Count  Dtype  \n",
      "---  ------              --------------  -----  \n",
      " 0   start_ts            1068 non-null   object \n",
      " 1   weather_conditions  1068 non-null   object \n",
      " 2   duration_seconds    1068 non-null   float64\n",
      "dtypes: float64(1), object(2)\n",
      "memory usage: 25.2+ KB\n"
     ]
    }
   ],
   "source": [
    "#Extraemos y visualizamos los datos en general.\n",
    "\n",
    "df3.info()"
   ]
  },
  {
   "cell_type": "code",
   "execution_count": 15,
   "metadata": {
    "scrolled": true
   },
   "outputs": [
    {
     "data": {
      "text/html": [
       "<div>\n",
       "<style scoped>\n",
       "    .dataframe tbody tr th:only-of-type {\n",
       "        vertical-align: middle;\n",
       "    }\n",
       "\n",
       "    .dataframe tbody tr th {\n",
       "        vertical-align: top;\n",
       "    }\n",
       "\n",
       "    .dataframe thead th {\n",
       "        text-align: right;\n",
       "    }\n",
       "</style>\n",
       "<table border=\"1\" class=\"dataframe\">\n",
       "  <thead>\n",
       "    <tr style=\"text-align: right;\">\n",
       "      <th></th>\n",
       "      <th>duration_seconds</th>\n",
       "    </tr>\n",
       "  </thead>\n",
       "  <tbody>\n",
       "    <tr>\n",
       "      <th>count</th>\n",
       "      <td>1068.000000</td>\n",
       "    </tr>\n",
       "    <tr>\n",
       "      <th>mean</th>\n",
       "      <td>2071.731273</td>\n",
       "    </tr>\n",
       "    <tr>\n",
       "      <th>std</th>\n",
       "      <td>769.461125</td>\n",
       "    </tr>\n",
       "    <tr>\n",
       "      <th>min</th>\n",
       "      <td>0.000000</td>\n",
       "    </tr>\n",
       "    <tr>\n",
       "      <th>25%</th>\n",
       "      <td>1438.250000</td>\n",
       "    </tr>\n",
       "    <tr>\n",
       "      <th>50%</th>\n",
       "      <td>1980.000000</td>\n",
       "    </tr>\n",
       "    <tr>\n",
       "      <th>75%</th>\n",
       "      <td>2580.000000</td>\n",
       "    </tr>\n",
       "    <tr>\n",
       "      <th>max</th>\n",
       "      <td>7440.000000</td>\n",
       "    </tr>\n",
       "  </tbody>\n",
       "</table>\n",
       "</div>"
      ],
      "text/plain": [
       "       duration_seconds\n",
       "count       1068.000000\n",
       "mean        2071.731273\n",
       "std          769.461125\n",
       "min            0.000000\n",
       "25%         1438.250000\n",
       "50%         1980.000000\n",
       "75%         2580.000000\n",
       "max         7440.000000"
      ]
     },
     "execution_count": 15,
     "metadata": {},
     "output_type": "execute_result"
    }
   ],
   "source": [
    "#realizamos una previsualizacion de los datos numericos.\n",
    "\n",
    "df3.describe()"
   ]
  },
  {
   "cell_type": "markdown",
   "metadata": {},
   "source": [
    "#### Observacion describe(): \n",
    "\n",
    "Variabilidad:\n",
    "\n",
    "* La desviación estándar (std) es considerablemente alta (769.46 segundos), lo que indica una gran dispersión en los datos. Es decir, los tiempos de duración varían mucho de un evento a otro.\n",
    "\n",
    "\n",
    "\n",
    "* El rango entre el valor mínimo y máximo es amplio (0 a 7440 segundos), lo que refuerza la idea de una alta variabilidad.\n",
    "\n",
    "\n",
    "\n",
    "Valores Atípicos (Outliers):\n",
    "\n",
    "\n",
    "\n",
    "* El valor mínimo de 0 segundos es sospechoso. ¿Es posible que un evento tenga una duración de 0 segundos? Esto podría indicar un error en los datos, un evento no registrado correctamente o una categoría especial de eventos (por ejemplo, eventos cancelados).\n",
    "\n",
    "\n",
    "\n",
    "* El valor máximo de 7440 segundos (casi 2 horas) también podría ser considerado un outlier, especialmente si la mayoría de los eventos tienen una duración mucho menor.\n",
    "\n",
    "\n",
    "\n",
    "Distribución:\n",
    "\n",
    "\n",
    "\n",
    "* La diferencia entre la media y la mediana (50% percentil) sugiere que la distribución de los datos podría estar sesgada hacia la derecha. Esto significa que hay una cola larga de valores altos que están afectando el valor promedio.\n",
    "\n",
    "\n",
    "\n",
    "Cuartiles:\n",
    "\n",
    "\n",
    "\n",
    "* Los cuartiles nos dan una idea de cómo se distribuyen los datos. El rango intercuartílico (IQR) es bastante amplio, lo que nuevamente indica una gran variabilidad."
   ]
  },
  {
   "cell_type": "code",
   "execution_count": 16,
   "metadata": {
    "scrolled": true
   },
   "outputs": [
    {
     "name": "stdout",
     "output_type": "stream",
     "text": [
      "Duplicados en todo el Dataframe:  197\n",
      "\n",
      "Duplicados en la columna start_ts:  987\n",
      "\n",
      "Duplicados en la columna weather_conditions:  1066\n",
      "\n",
      "Duplicados en la columna duration_seconds:  573\n"
     ]
    }
   ],
   "source": [
    "# Verificamos si existen datos duplicados. \n",
    "\n",
    "print('Duplicados en todo el Dataframe: ', df3.duplicated().sum())\n",
    "print()\n",
    "print('Duplicados en la columna start_ts: ', df3['start_ts'].duplicated().sum())\n",
    "print()\n",
    "print('Duplicados en la columna weather_conditions: ', df3['weather_conditions'].duplicated().sum())\n",
    "print()\n",
    "print('Duplicados en la columna duration_seconds: ', df3['duration_seconds'].duplicated().sum())"
   ]
  },
  {
   "cell_type": "markdown",
   "metadata": {},
   "source": [
    "#### Observacion duplicated(): \n",
    "\n",
    "Pudimos verificar que tenemos supuestos datos duplicados en todo el dataset, los cuales en realidad no se consideraran como datos duplicados ya que sabemos que estas columna contiene las fechas la duracion de los viajes, las condiciones climaticas ylas fechas los cuales estas cifras se pueden repetir en nuestros datos en este caso porque son los registros que se crean cada vez que se realice un viaje en cada dia por diferentes conductores."
   ]
  },
  {
   "cell_type": "code",
   "execution_count": 17,
   "metadata": {},
   "outputs": [],
   "source": [
    "#Convertimos la columna 'start_ts' al formato correcto.\n",
    "df3['start_ts'] = pd.to_datetime(df3['start_ts'], format='%Y-%m-%d %H:%M:%S')"
   ]
  },
  {
   "cell_type": "code",
   "execution_count": 18,
   "metadata": {},
   "outputs": [
    {
     "data": {
      "text/html": [
       "<div>\n",
       "<style scoped>\n",
       "    .dataframe tbody tr th:only-of-type {\n",
       "        vertical-align: middle;\n",
       "    }\n",
       "\n",
       "    .dataframe tbody tr th {\n",
       "        vertical-align: top;\n",
       "    }\n",
       "\n",
       "    .dataframe thead th {\n",
       "        text-align: right;\n",
       "    }\n",
       "</style>\n",
       "<table border=\"1\" class=\"dataframe\">\n",
       "  <thead>\n",
       "    <tr style=\"text-align: right;\">\n",
       "      <th></th>\n",
       "      <th>start_ts</th>\n",
       "      <th>weather_conditions</th>\n",
       "      <th>duration_seconds</th>\n",
       "    </tr>\n",
       "  </thead>\n",
       "  <tbody>\n",
       "    <tr>\n",
       "      <th>0</th>\n",
       "      <td>2017-11-25 16:00:00</td>\n",
       "      <td>Good</td>\n",
       "      <td>2410.0</td>\n",
       "    </tr>\n",
       "    <tr>\n",
       "      <th>1</th>\n",
       "      <td>2017-11-25 14:00:00</td>\n",
       "      <td>Good</td>\n",
       "      <td>1920.0</td>\n",
       "    </tr>\n",
       "    <tr>\n",
       "      <th>2</th>\n",
       "      <td>2017-11-25 12:00:00</td>\n",
       "      <td>Good</td>\n",
       "      <td>1543.0</td>\n",
       "    </tr>\n",
       "    <tr>\n",
       "      <th>3</th>\n",
       "      <td>2017-11-04 10:00:00</td>\n",
       "      <td>Good</td>\n",
       "      <td>2512.0</td>\n",
       "    </tr>\n",
       "    <tr>\n",
       "      <th>4</th>\n",
       "      <td>2017-11-11 07:00:00</td>\n",
       "      <td>Good</td>\n",
       "      <td>1440.0</td>\n",
       "    </tr>\n",
       "    <tr>\n",
       "      <th>...</th>\n",
       "      <td>...</td>\n",
       "      <td>...</td>\n",
       "      <td>...</td>\n",
       "    </tr>\n",
       "    <tr>\n",
       "      <th>1063</th>\n",
       "      <td>2017-11-25 11:00:00</td>\n",
       "      <td>Good</td>\n",
       "      <td>0.0</td>\n",
       "    </tr>\n",
       "    <tr>\n",
       "      <th>1064</th>\n",
       "      <td>2017-11-11 10:00:00</td>\n",
       "      <td>Good</td>\n",
       "      <td>1318.0</td>\n",
       "    </tr>\n",
       "    <tr>\n",
       "      <th>1065</th>\n",
       "      <td>2017-11-11 13:00:00</td>\n",
       "      <td>Good</td>\n",
       "      <td>2100.0</td>\n",
       "    </tr>\n",
       "    <tr>\n",
       "      <th>1066</th>\n",
       "      <td>2017-11-11 08:00:00</td>\n",
       "      <td>Good</td>\n",
       "      <td>1380.0</td>\n",
       "    </tr>\n",
       "    <tr>\n",
       "      <th>1067</th>\n",
       "      <td>2017-11-04 16:00:00</td>\n",
       "      <td>Bad</td>\n",
       "      <td>2834.0</td>\n",
       "    </tr>\n",
       "  </tbody>\n",
       "</table>\n",
       "<p>1068 rows × 3 columns</p>\n",
       "</div>"
      ],
      "text/plain": [
       "                start_ts weather_conditions  duration_seconds\n",
       "0    2017-11-25 16:00:00               Good            2410.0\n",
       "1    2017-11-25 14:00:00               Good            1920.0\n",
       "2    2017-11-25 12:00:00               Good            1543.0\n",
       "3    2017-11-04 10:00:00               Good            2512.0\n",
       "4    2017-11-11 07:00:00               Good            1440.0\n",
       "...                  ...                ...               ...\n",
       "1063 2017-11-25 11:00:00               Good               0.0\n",
       "1064 2017-11-11 10:00:00               Good            1318.0\n",
       "1065 2017-11-11 13:00:00               Good            2100.0\n",
       "1066 2017-11-11 08:00:00               Good            1380.0\n",
       "1067 2017-11-04 16:00:00                Bad            2834.0\n",
       "\n",
       "[1068 rows x 3 columns]"
      ]
     },
     "execution_count": 18,
     "metadata": {},
     "output_type": "execute_result"
    }
   ],
   "source": [
    "df3"
   ]
  },
  {
   "cell_type": "code",
   "execution_count": 19,
   "metadata": {},
   "outputs": [],
   "source": [
    "#Observamos que tenemos datos con duracion 0 solo son 6 registros por lo que los eliminaremos.\n",
    "df3= df3[df3['duration_seconds'] != 0]"
   ]
  },
  {
   "cell_type": "code",
   "execution_count": 20,
   "metadata": {},
   "outputs": [
    {
     "name": "stdout",
     "output_type": "stream",
     "text": [
      "<class 'pandas.core.frame.DataFrame'>\n",
      "Int64Index: 1062 entries, 0 to 1067\n",
      "Data columns (total 3 columns):\n",
      " #   Column              Non-Null Count  Dtype         \n",
      "---  ------              --------------  -----         \n",
      " 0   start_ts            1062 non-null   datetime64[ns]\n",
      " 1   weather_conditions  1062 non-null   object        \n",
      " 2   duration_seconds    1062 non-null   float64       \n",
      "dtypes: datetime64[ns](1), float64(1), object(1)\n",
      "memory usage: 33.2+ KB\n"
     ]
    }
   ],
   "source": [
    "df3.info()"
   ]
  },
  {
   "cell_type": "code",
   "execution_count": 21,
   "metadata": {
    "scrolled": true
   },
   "outputs": [
    {
     "name": "stderr",
     "output_type": "stream",
     "text": [
      "/tmp/ipykernel_77/3765117463.py:2: SettingWithCopyWarning: \n",
      "A value is trying to be set on a copy of a slice from a DataFrame.\n",
      "Try using .loc[row_indexer,col_indexer] = value instead\n",
      "\n",
      "See the caveats in the documentation: https://pandas.pydata.org/pandas-docs/stable/user_guide/indexing.html#returning-a-view-versus-a-copy\n",
      "  df3['duration_seconds']= df3['duration_seconds'].astype(int)\n"
     ]
    }
   ],
   "source": [
    "#Convertimos la columna 'duration_seconds' a formato int ya que se verifico que dicha columna no contenia decimales. \n",
    "df3['duration_seconds']= df3['duration_seconds'].astype(int)"
   ]
  },
  {
   "cell_type": "code",
   "execution_count": 22,
   "metadata": {},
   "outputs": [
    {
     "name": "stdout",
     "output_type": "stream",
     "text": [
      "<class 'pandas.core.frame.DataFrame'>\n",
      "Int64Index: 1062 entries, 0 to 1067\n",
      "Data columns (total 3 columns):\n",
      " #   Column              Non-Null Count  Dtype         \n",
      "---  ------              --------------  -----         \n",
      " 0   start_ts            1062 non-null   datetime64[ns]\n",
      " 1   weather_conditions  1062 non-null   object        \n",
      " 2   duration_seconds    1062 non-null   int64         \n",
      "dtypes: datetime64[ns](1), int64(1), object(1)\n",
      "memory usage: 33.2+ KB\n"
     ]
    }
   ],
   "source": [
    "df3.info()"
   ]
  },
  {
   "cell_type": "code",
   "execution_count": 23,
   "metadata": {},
   "outputs": [
    {
     "data": {
      "text/html": [
       "<div>\n",
       "<style scoped>\n",
       "    .dataframe tbody tr th:only-of-type {\n",
       "        vertical-align: middle;\n",
       "    }\n",
       "\n",
       "    .dataframe tbody tr th {\n",
       "        vertical-align: top;\n",
       "    }\n",
       "\n",
       "    .dataframe thead th {\n",
       "        text-align: right;\n",
       "    }\n",
       "</style>\n",
       "<table border=\"1\" class=\"dataframe\">\n",
       "  <thead>\n",
       "    <tr style=\"text-align: right;\">\n",
       "      <th></th>\n",
       "      <th>start_ts</th>\n",
       "      <th>weather_conditions</th>\n",
       "      <th>duration_seconds</th>\n",
       "    </tr>\n",
       "  </thead>\n",
       "  <tbody>\n",
       "    <tr>\n",
       "      <th>0</th>\n",
       "      <td>2017-11-25 16:00:00</td>\n",
       "      <td>Good</td>\n",
       "      <td>2410</td>\n",
       "    </tr>\n",
       "    <tr>\n",
       "      <th>1</th>\n",
       "      <td>2017-11-25 14:00:00</td>\n",
       "      <td>Good</td>\n",
       "      <td>1920</td>\n",
       "    </tr>\n",
       "    <tr>\n",
       "      <th>2</th>\n",
       "      <td>2017-11-25 12:00:00</td>\n",
       "      <td>Good</td>\n",
       "      <td>1543</td>\n",
       "    </tr>\n",
       "    <tr>\n",
       "      <th>3</th>\n",
       "      <td>2017-11-04 10:00:00</td>\n",
       "      <td>Good</td>\n",
       "      <td>2512</td>\n",
       "    </tr>\n",
       "    <tr>\n",
       "      <th>4</th>\n",
       "      <td>2017-11-11 07:00:00</td>\n",
       "      <td>Good</td>\n",
       "      <td>1440</td>\n",
       "    </tr>\n",
       "    <tr>\n",
       "      <th>...</th>\n",
       "      <td>...</td>\n",
       "      <td>...</td>\n",
       "      <td>...</td>\n",
       "    </tr>\n",
       "    <tr>\n",
       "      <th>1057</th>\n",
       "      <td>2017-11-11 06:00:00</td>\n",
       "      <td>Good</td>\n",
       "      <td>1500</td>\n",
       "    </tr>\n",
       "    <tr>\n",
       "      <th>1058</th>\n",
       "      <td>2017-11-11 10:00:00</td>\n",
       "      <td>Good</td>\n",
       "      <td>1318</td>\n",
       "    </tr>\n",
       "    <tr>\n",
       "      <th>1059</th>\n",
       "      <td>2017-11-11 13:00:00</td>\n",
       "      <td>Good</td>\n",
       "      <td>2100</td>\n",
       "    </tr>\n",
       "    <tr>\n",
       "      <th>1060</th>\n",
       "      <td>2017-11-11 08:00:00</td>\n",
       "      <td>Good</td>\n",
       "      <td>1380</td>\n",
       "    </tr>\n",
       "    <tr>\n",
       "      <th>1061</th>\n",
       "      <td>2017-11-04 16:00:00</td>\n",
       "      <td>Bad</td>\n",
       "      <td>2834</td>\n",
       "    </tr>\n",
       "  </tbody>\n",
       "</table>\n",
       "<p>1062 rows × 3 columns</p>\n",
       "</div>"
      ],
      "text/plain": [
       "                start_ts weather_conditions  duration_seconds\n",
       "0    2017-11-25 16:00:00               Good              2410\n",
       "1    2017-11-25 14:00:00               Good              1920\n",
       "2    2017-11-25 12:00:00               Good              1543\n",
       "3    2017-11-04 10:00:00               Good              2512\n",
       "4    2017-11-11 07:00:00               Good              1440\n",
       "...                  ...                ...               ...\n",
       "1057 2017-11-11 06:00:00               Good              1500\n",
       "1058 2017-11-11 10:00:00               Good              1318\n",
       "1059 2017-11-11 13:00:00               Good              2100\n",
       "1060 2017-11-11 08:00:00               Good              1380\n",
       "1061 2017-11-04 16:00:00                Bad              2834\n",
       "\n",
       "[1062 rows x 3 columns]"
      ]
     },
     "execution_count": 23,
     "metadata": {},
     "output_type": "execute_result"
    }
   ],
   "source": [
    "#Reiniciamos el indice ya que eliminamos algunas filas y debemos restaurarlo.\n",
    "df3= df3.reset_index(drop=True)\n",
    "df3"
   ]
  },
  {
   "cell_type": "markdown",
   "metadata": {},
   "source": [
    "### Observacion de los datos:\n",
    "\n",
    "Con el objetivo de asegurar la calidad de los datos, se realizó una limpieza inicial. La columna 'start_ts' fue convertida a formato datetime para permitir cálculos temporales. Se filtraron los registros con duración nula, asumiendo que estos podrían ser errores de registro o viajes cancelados instantáneamente. Finalmente, se verificó que la columna 'duration_seconds' no contenía valores fraccionarios y se transformó a tipo int para una representación más eficiente."
   ]
  },
  {
   "cell_type": "markdown",
   "metadata": {},
   "source": [
    "## Analisis de los Datos"
   ]
  },
  {
   "cell_type": "markdown",
   "metadata": {},
   "source": [
    "### identificar los 10 principales compañias con mayores viajes"
   ]
  },
  {
   "cell_type": "code",
   "execution_count": 24,
   "metadata": {},
   "outputs": [
    {
     "data": {
      "text/plain": [
       "2145.484375"
      ]
     },
     "execution_count": 24,
     "metadata": {},
     "output_type": "execute_result"
    }
   ],
   "source": [
    "# Verificamos la media de los datos de la columna 'trips_amount'\n",
    "df1['trips_amount'].mean()"
   ]
  },
  {
   "cell_type": "code",
   "execution_count": 25,
   "metadata": {},
   "outputs": [
    {
     "data": {
      "text/html": [
       "<div>\n",
       "<style scoped>\n",
       "    .dataframe tbody tr th:only-of-type {\n",
       "        vertical-align: middle;\n",
       "    }\n",
       "\n",
       "    .dataframe tbody tr th {\n",
       "        vertical-align: top;\n",
       "    }\n",
       "\n",
       "    .dataframe thead th {\n",
       "        text-align: right;\n",
       "    }\n",
       "</style>\n",
       "<table border=\"1\" class=\"dataframe\">\n",
       "  <thead>\n",
       "    <tr style=\"text-align: right;\">\n",
       "      <th></th>\n",
       "      <th>company_name</th>\n",
       "      <th>trips_amount</th>\n",
       "    </tr>\n",
       "  </thead>\n",
       "  <tbody>\n",
       "    <tr>\n",
       "      <th>0</th>\n",
       "      <td>Flash Cab</td>\n",
       "      <td>19558</td>\n",
       "    </tr>\n",
       "    <tr>\n",
       "      <th>1</th>\n",
       "      <td>Taxi Affiliation Services</td>\n",
       "      <td>11422</td>\n",
       "    </tr>\n",
       "    <tr>\n",
       "      <th>2</th>\n",
       "      <td>Medallion Leasing</td>\n",
       "      <td>10367</td>\n",
       "    </tr>\n",
       "    <tr>\n",
       "      <th>3</th>\n",
       "      <td>Yellow Cab</td>\n",
       "      <td>9888</td>\n",
       "    </tr>\n",
       "    <tr>\n",
       "      <th>4</th>\n",
       "      <td>Taxi Affiliation Service Yellow</td>\n",
       "      <td>9299</td>\n",
       "    </tr>\n",
       "    <tr>\n",
       "      <th>5</th>\n",
       "      <td>Chicago Carriage Cab Corp</td>\n",
       "      <td>9181</td>\n",
       "    </tr>\n",
       "    <tr>\n",
       "      <th>6</th>\n",
       "      <td>City Service</td>\n",
       "      <td>8448</td>\n",
       "    </tr>\n",
       "    <tr>\n",
       "      <th>7</th>\n",
       "      <td>Sun Taxi</td>\n",
       "      <td>7701</td>\n",
       "    </tr>\n",
       "    <tr>\n",
       "      <th>8</th>\n",
       "      <td>Star North Management LLC</td>\n",
       "      <td>7455</td>\n",
       "    </tr>\n",
       "    <tr>\n",
       "      <th>9</th>\n",
       "      <td>Blue Ribbon Taxi Association Inc.</td>\n",
       "      <td>5953</td>\n",
       "    </tr>\n",
       "  </tbody>\n",
       "</table>\n",
       "</div>"
      ],
      "text/plain": [
       "                        company_name  trips_amount\n",
       "0                          Flash Cab         19558\n",
       "1          Taxi Affiliation Services         11422\n",
       "2                  Medallion Leasing         10367\n",
       "3                         Yellow Cab          9888\n",
       "4    Taxi Affiliation Service Yellow          9299\n",
       "5          Chicago Carriage Cab Corp          9181\n",
       "6                       City Service          8448\n",
       "7                           Sun Taxi          7701\n",
       "8          Star North Management LLC          7455\n",
       "9  Blue Ribbon Taxi Association Inc.          5953"
      ]
     },
     "execution_count": 25,
     "metadata": {},
     "output_type": "execute_result"
    }
   ],
   "source": [
    "#Filtramos solo para obtener los datos de las 10 compañias con mayores viajes.\n",
    "company_10= df1.sort_values(by='trips_amount', ascending=False).head(10)\n",
    "company_10"
   ]
  },
  {
   "cell_type": "code",
   "execution_count": 26,
   "metadata": {
    "scrolled": false
   },
   "outputs": [
    {
     "data": {
      "image/png": "[encoded data removed]",
      "text/plain": [
       "<Figure size 1400x600 with 1 Axes>"
      ]
     },
     "metadata": {},
     "output_type": "display_data"
    }
   ],
   "source": [
    "#Creamos nuestro primer grafico de barras para observarlos datos de los viajes por compañias\n",
    "company_10.plot(kind= 'bar',\n",
    "       x='company_name',\n",
    "       rot= 90,\n",
    "       figsize= [14,6],\n",
    "       grid= False,\n",
    "       legend=False\n",
    "       )\n",
    "\n",
    "plt.title('Principales Compañías con Mayor Cantidad de Viajes', fontsize= 15)\n",
    "plt.xlabel('Compañias', fontsize= 12)\n",
    "plt.ylabel('Cantidad de Viajes', fontsize= 12)\n",
    "\n",
    "plt.show()"
   ]
  },
  {
   "cell_type": "markdown",
   "metadata": {},
   "source": [
    "#### Observacion: \n",
    "\n",
    "Según el gráfico, Flash Cab se destaca como la empresa de transporte con mayor volumen de viajes en Chicago, superando considerablemente a sus competidores. Este resultado sugiere que Flash Cab es la opción preferida por los usuarios en la ciudad, las otras compañias se mantienen en un rango entre 5000 y 12000. De igual forma no podriamos asegurar esto con exactitud ya que esto es una pequeña muestra de 2 dias de noviembre del 2017."
   ]
  },
  {
   "cell_type": "markdown",
   "metadata": {},
   "source": [
    "### identificar los 10 principales barrios con mayores viajes finalizados"
   ]
  },
  {
   "cell_type": "code",
   "execution_count": 27,
   "metadata": {},
   "outputs": [
    {
     "data": {
      "text/html": [
       "<div>\n",
       "<style scoped>\n",
       "    .dataframe tbody tr th:only-of-type {\n",
       "        vertical-align: middle;\n",
       "    }\n",
       "\n",
       "    .dataframe tbody tr th {\n",
       "        vertical-align: top;\n",
       "    }\n",
       "\n",
       "    .dataframe thead th {\n",
       "        text-align: right;\n",
       "    }\n",
       "</style>\n",
       "<table border=\"1\" class=\"dataframe\">\n",
       "  <thead>\n",
       "    <tr style=\"text-align: right;\">\n",
       "      <th></th>\n",
       "      <th>dropoff_location_name</th>\n",
       "      <th>average_trips</th>\n",
       "    </tr>\n",
       "  </thead>\n",
       "  <tbody>\n",
       "    <tr>\n",
       "      <th>0</th>\n",
       "      <td>Loop</td>\n",
       "      <td>10728</td>\n",
       "    </tr>\n",
       "    <tr>\n",
       "      <th>1</th>\n",
       "      <td>River North</td>\n",
       "      <td>9524</td>\n",
       "    </tr>\n",
       "    <tr>\n",
       "      <th>2</th>\n",
       "      <td>Streeterville</td>\n",
       "      <td>6665</td>\n",
       "    </tr>\n",
       "    <tr>\n",
       "      <th>3</th>\n",
       "      <td>West Loop</td>\n",
       "      <td>5164</td>\n",
       "    </tr>\n",
       "    <tr>\n",
       "      <th>4</th>\n",
       "      <td>O'Hare</td>\n",
       "      <td>2547</td>\n",
       "    </tr>\n",
       "    <tr>\n",
       "      <th>5</th>\n",
       "      <td>Lake View</td>\n",
       "      <td>2421</td>\n",
       "    </tr>\n",
       "    <tr>\n",
       "      <th>6</th>\n",
       "      <td>Grant Park</td>\n",
       "      <td>2069</td>\n",
       "    </tr>\n",
       "    <tr>\n",
       "      <th>7</th>\n",
       "      <td>Museum Campus</td>\n",
       "      <td>1510</td>\n",
       "    </tr>\n",
       "    <tr>\n",
       "      <th>8</th>\n",
       "      <td>Gold Coast</td>\n",
       "      <td>1365</td>\n",
       "    </tr>\n",
       "    <tr>\n",
       "      <th>9</th>\n",
       "      <td>Sheffield &amp; DePaul</td>\n",
       "      <td>1260</td>\n",
       "    </tr>\n",
       "  </tbody>\n",
       "</table>\n",
       "</div>"
      ],
      "text/plain": [
       "  dropoff_location_name  average_trips\n",
       "0                  Loop          10728\n",
       "1           River North           9524\n",
       "2         Streeterville           6665\n",
       "3             West Loop           5164\n",
       "4                O'Hare           2547\n",
       "5             Lake View           2421\n",
       "6            Grant Park           2069\n",
       "7         Museum Campus           1510\n",
       "8            Gold Coast           1365\n",
       "9    Sheffield & DePaul           1260"
      ]
     },
     "execution_count": 27,
     "metadata": {},
     "output_type": "execute_result"
    }
   ],
   "source": [
    "#Filtramos los 10 primeros barrios con mayores viajes terminados en ellos.\n",
    "location_10= df2.sort_values(by='average_trips', ascending=False).head(10)\n",
    "location_10"
   ]
  },
  {
   "cell_type": "code",
   "execution_count": 28,
   "metadata": {},
   "outputs": [
    {
     "data": {
      "text/plain": [
       "Text(0, 0.5, 'Promedio de viajes Finalizados')"
      ]
     },
     "execution_count": 28,
     "metadata": {},
     "output_type": "execute_result"
    },
    {
     "data": {
      "image/png": "[encoded data removed]",
      "text/plain": [
       "<Figure size 1500x1000 with 1 Axes>"
      ]
     },
     "metadata": {},
     "output_type": "display_data"
    }
   ],
   "source": [
    "#Creamos nuestro grafico para visualizar los datos\n",
    "plt.figure(figsize=(15, 10))\n",
    "\n",
    "sns.barplot(x=\"dropoff_location_name\", y='average_trips',\n",
    "             hue=\"dropoff_location_name\",\n",
    "             data=location_10)\n",
    "plt.title('Pricipales Barrios con mayor finalizacion de recorridos')\n",
    "plt.xlabel('Barrios')\n",
    "plt.ylabel('Promedio de viajes Finalizados')"
   ]
  },
  {
   "cell_type": "markdown",
   "metadata": {},
   "source": [
    "#### Observacion:\n",
    "\n",
    "Los barrios de Loop y River North se destacan como los destinos más populares, registrando entre 9500 y 10800 viajes finalizados. Streeterville y West Loop le siguen en cuanto a demanda, con aproximadamente 5100 y 6700 viajes respectivamente. Los restantes 6 barrios (O'Hare, Lake view, Grant Park, Museum Campus, Gold Coast, Sheffield & Depaul) presentan un volumen de viajes significativamente menor, fluctuando entre 1260 y 2550."
   ]
  },
  {
   "cell_type": "code",
   "execution_count": 29,
   "metadata": {},
   "outputs": [
    {
     "data": {
      "text/html": [
       "<div>\n",
       "<style scoped>\n",
       "    .dataframe tbody tr th:only-of-type {\n",
       "        vertical-align: middle;\n",
       "    }\n",
       "\n",
       "    .dataframe tbody tr th {\n",
       "        vertical-align: top;\n",
       "    }\n",
       "\n",
       "    .dataframe thead th {\n",
       "        text-align: right;\n",
       "    }\n",
       "</style>\n",
       "<table border=\"1\" class=\"dataframe\">\n",
       "  <thead>\n",
       "    <tr style=\"text-align: right;\">\n",
       "      <th></th>\n",
       "      <th>start_ts</th>\n",
       "      <th>weather_conditions</th>\n",
       "      <th>duration_seconds</th>\n",
       "    </tr>\n",
       "  </thead>\n",
       "  <tbody>\n",
       "    <tr>\n",
       "      <th>0</th>\n",
       "      <td>2017-11-25 16:00:00</td>\n",
       "      <td>Good</td>\n",
       "      <td>2410</td>\n",
       "    </tr>\n",
       "    <tr>\n",
       "      <th>1</th>\n",
       "      <td>2017-11-25 14:00:00</td>\n",
       "      <td>Good</td>\n",
       "      <td>1920</td>\n",
       "    </tr>\n",
       "    <tr>\n",
       "      <th>2</th>\n",
       "      <td>2017-11-25 12:00:00</td>\n",
       "      <td>Good</td>\n",
       "      <td>1543</td>\n",
       "    </tr>\n",
       "    <tr>\n",
       "      <th>3</th>\n",
       "      <td>2017-11-04 10:00:00</td>\n",
       "      <td>Good</td>\n",
       "      <td>2512</td>\n",
       "    </tr>\n",
       "    <tr>\n",
       "      <th>4</th>\n",
       "      <td>2017-11-11 07:00:00</td>\n",
       "      <td>Good</td>\n",
       "      <td>1440</td>\n",
       "    </tr>\n",
       "    <tr>\n",
       "      <th>5</th>\n",
       "      <td>2017-11-11 04:00:00</td>\n",
       "      <td>Good</td>\n",
       "      <td>1320</td>\n",
       "    </tr>\n",
       "    <tr>\n",
       "      <th>6</th>\n",
       "      <td>2017-11-04 16:00:00</td>\n",
       "      <td>Bad</td>\n",
       "      <td>2969</td>\n",
       "    </tr>\n",
       "    <tr>\n",
       "      <th>7</th>\n",
       "      <td>2017-11-18 11:00:00</td>\n",
       "      <td>Good</td>\n",
       "      <td>2280</td>\n",
       "    </tr>\n",
       "    <tr>\n",
       "      <th>8</th>\n",
       "      <td>2017-11-11 14:00:00</td>\n",
       "      <td>Good</td>\n",
       "      <td>2460</td>\n",
       "    </tr>\n",
       "    <tr>\n",
       "      <th>9</th>\n",
       "      <td>2017-11-11 12:00:00</td>\n",
       "      <td>Good</td>\n",
       "      <td>2040</td>\n",
       "    </tr>\n",
       "    <tr>\n",
       "      <th>10</th>\n",
       "      <td>2017-11-18 06:00:00</td>\n",
       "      <td>Good</td>\n",
       "      <td>1500</td>\n",
       "    </tr>\n",
       "    <tr>\n",
       "      <th>11</th>\n",
       "      <td>2017-11-04 11:00:00</td>\n",
       "      <td>Good</td>\n",
       "      <td>2040</td>\n",
       "    </tr>\n",
       "    <tr>\n",
       "      <th>12</th>\n",
       "      <td>2017-11-11 08:00:00</td>\n",
       "      <td>Good</td>\n",
       "      <td>1470</td>\n",
       "    </tr>\n",
       "    <tr>\n",
       "      <th>13</th>\n",
       "      <td>2017-11-04 08:00:00</td>\n",
       "      <td>Good</td>\n",
       "      <td>1546</td>\n",
       "    </tr>\n",
       "    <tr>\n",
       "      <th>14</th>\n",
       "      <td>2017-11-11 16:00:00</td>\n",
       "      <td>Good</td>\n",
       "      <td>2100</td>\n",
       "    </tr>\n",
       "    <tr>\n",
       "      <th>15</th>\n",
       "      <td>2017-11-25 13:00:00</td>\n",
       "      <td>Good</td>\n",
       "      <td>60</td>\n",
       "    </tr>\n",
       "    <tr>\n",
       "      <th>16</th>\n",
       "      <td>2017-11-04 12:00:00</td>\n",
       "      <td>Good</td>\n",
       "      <td>2640</td>\n",
       "    </tr>\n",
       "    <tr>\n",
       "      <th>17</th>\n",
       "      <td>2017-11-25 10:00:00</td>\n",
       "      <td>Good</td>\n",
       "      <td>1502</td>\n",
       "    </tr>\n",
       "    <tr>\n",
       "      <th>18</th>\n",
       "      <td>2017-11-11 12:00:00</td>\n",
       "      <td>Good</td>\n",
       "      <td>1915</td>\n",
       "    </tr>\n",
       "    <tr>\n",
       "      <th>19</th>\n",
       "      <td>2017-11-04 12:00:00</td>\n",
       "      <td>Good</td>\n",
       "      <td>2769</td>\n",
       "    </tr>\n",
       "    <tr>\n",
       "      <th>20</th>\n",
       "      <td>2017-11-11 13:00:00</td>\n",
       "      <td>Good</td>\n",
       "      <td>2250</td>\n",
       "    </tr>\n",
       "    <tr>\n",
       "      <th>21</th>\n",
       "      <td>2017-11-11 04:00:00</td>\n",
       "      <td>Good</td>\n",
       "      <td>1260</td>\n",
       "    </tr>\n",
       "    <tr>\n",
       "      <th>22</th>\n",
       "      <td>2017-11-18 14:00:00</td>\n",
       "      <td>Good</td>\n",
       "      <td>2826</td>\n",
       "    </tr>\n",
       "  </tbody>\n",
       "</table>\n",
       "</div>"
      ],
      "text/plain": [
       "              start_ts weather_conditions  duration_seconds\n",
       "0  2017-11-25 16:00:00               Good              2410\n",
       "1  2017-11-25 14:00:00               Good              1920\n",
       "2  2017-11-25 12:00:00               Good              1543\n",
       "3  2017-11-04 10:00:00               Good              2512\n",
       "4  2017-11-11 07:00:00               Good              1440\n",
       "5  2017-11-11 04:00:00               Good              1320\n",
       "6  2017-11-04 16:00:00                Bad              2969\n",
       "7  2017-11-18 11:00:00               Good              2280\n",
       "8  2017-11-11 14:00:00               Good              2460\n",
       "9  2017-11-11 12:00:00               Good              2040\n",
       "10 2017-11-18 06:00:00               Good              1500\n",
       "11 2017-11-04 11:00:00               Good              2040\n",
       "12 2017-11-11 08:00:00               Good              1470\n",
       "13 2017-11-04 08:00:00               Good              1546\n",
       "14 2017-11-11 16:00:00               Good              2100\n",
       "15 2017-11-25 13:00:00               Good                60\n",
       "16 2017-11-04 12:00:00               Good              2640\n",
       "17 2017-11-25 10:00:00               Good              1502\n",
       "18 2017-11-11 12:00:00               Good              1915\n",
       "19 2017-11-04 12:00:00               Good              2769\n",
       "20 2017-11-11 13:00:00               Good              2250\n",
       "21 2017-11-11 04:00:00               Good              1260\n",
       "22 2017-11-18 14:00:00               Good              2826"
      ]
     },
     "execution_count": 29,
     "metadata": {},
     "output_type": "execute_result"
    }
   ],
   "source": [
    "#Visualizamos los Datos\n",
    "df3.head(23)"
   ]
  },
  {
   "cell_type": "code",
   "execution_count": 30,
   "metadata": {},
   "outputs": [
    {
     "data": {
      "text/plain": [
       "weather_conditions\n",
       "Bad     2427.205556\n",
       "Good    2013.278912\n",
       "Name: duration_seconds, dtype: float64"
      ]
     },
     "execution_count": 30,
     "metadata": {},
     "output_type": "execute_result"
    }
   ],
   "source": [
    "#Agrupamos los datos del df3 calculamos el promedio de duracion de tiempo de un viaje dependiendo de la condicion climatica \n",
    "df_grouped = df3.groupby('weather_conditions')['duration_seconds'].mean()\n",
    "df_grouped.head()"
   ]
  },
  {
   "cell_type": "markdown",
   "metadata": {},
   "source": [
    "### Impacto del clima en la duracion de los viajes"
   ]
  },
  {
   "cell_type": "code",
   "execution_count": 31,
   "metadata": {
    "scrolled": false
   },
   "outputs": [
    {
     "data": {
      "image/png": "[encoded data removed]",
      "text/plain": [
       "<Figure size 1000x500 with 1 Axes>"
      ]
     },
     "metadata": {},
     "output_type": "display_data"
    }
   ],
   "source": [
    "#Generamos nuestro grafico con los datos filtrados en el paso anterior\n",
    "df_grouped.plot(kind= 'bar',\n",
    "                x='weather_conditions',\n",
    "             figsize= [10,5],\n",
    "              rot= 50,\n",
    "              color= 'Turquoise' )\n",
    "\n",
    "plt.title('Impacto del clima en la duración de los viajes', fontsize= 20)\n",
    "plt.ylabel('Duracion promedio')\n",
    "plt.xlabel('Condiciones Climaticas')\n",
    "plt.show()"
   ]
  },
  {
   "cell_type": "markdown",
   "metadata": {},
   "source": [
    "<div class=\"alert alert-block alert-success\">\n",
    "\n",
    "<b>Comentario del revisor</b> <a class=\"tocSkip\"></a>\n",
    "\n",
    "Excelente seccion de graficos. </div>\n",
    "\n"
   ]
  },
  {
   "cell_type": "markdown",
   "metadata": {},
   "source": [
    "#### Observacion: \n",
    "\n",
    "En nuestro grafico podemos observar que los viajes tienden a tener mayor duracion en mal tiempo."
   ]
  },
  {
   "cell_type": "code",
   "execution_count": 32,
   "metadata": {},
   "outputs": [
    {
     "data": {
      "text/html": [
       "<div>\n",
       "<style scoped>\n",
       "    .dataframe tbody tr th:only-of-type {\n",
       "        vertical-align: middle;\n",
       "    }\n",
       "\n",
       "    .dataframe tbody tr th {\n",
       "        vertical-align: top;\n",
       "    }\n",
       "\n",
       "    .dataframe thead th {\n",
       "        text-align: right;\n",
       "    }\n",
       "</style>\n",
       "<table border=\"1\" class=\"dataframe\">\n",
       "  <thead>\n",
       "    <tr style=\"text-align: right;\">\n",
       "      <th></th>\n",
       "      <th>weather_conditions</th>\n",
       "      <th>duration_seconds</th>\n",
       "      <th>fecha</th>\n",
       "      <th>hora</th>\n",
       "    </tr>\n",
       "  </thead>\n",
       "  <tbody>\n",
       "    <tr>\n",
       "      <th>0</th>\n",
       "      <td>Good</td>\n",
       "      <td>2410</td>\n",
       "      <td>2017-11-25</td>\n",
       "      <td>16</td>\n",
       "    </tr>\n",
       "    <tr>\n",
       "      <th>1</th>\n",
       "      <td>Good</td>\n",
       "      <td>1920</td>\n",
       "      <td>2017-11-25</td>\n",
       "      <td>14</td>\n",
       "    </tr>\n",
       "    <tr>\n",
       "      <th>2</th>\n",
       "      <td>Good</td>\n",
       "      <td>1543</td>\n",
       "      <td>2017-11-25</td>\n",
       "      <td>12</td>\n",
       "    </tr>\n",
       "    <tr>\n",
       "      <th>3</th>\n",
       "      <td>Good</td>\n",
       "      <td>2512</td>\n",
       "      <td>2017-11-04</td>\n",
       "      <td>10</td>\n",
       "    </tr>\n",
       "    <tr>\n",
       "      <th>4</th>\n",
       "      <td>Good</td>\n",
       "      <td>1440</td>\n",
       "      <td>2017-11-11</td>\n",
       "      <td>7</td>\n",
       "    </tr>\n",
       "  </tbody>\n",
       "</table>\n",
       "</div>"
      ],
      "text/plain": [
       "  weather_conditions  duration_seconds       fecha  hora\n",
       "0               Good              2410  2017-11-25    16\n",
       "1               Good              1920  2017-11-25    14\n",
       "2               Good              1543  2017-11-25    12\n",
       "3               Good              2512  2017-11-04    10\n",
       "4               Good              1440  2017-11-11     7"
      ]
     },
     "execution_count": 32,
     "metadata": {},
     "output_type": "execute_result"
    }
   ],
   "source": [
    "# Agrupamos los datos por dia y hora y separamos las fechas de las horas\n",
    "df3['fecha'] = df3['start_ts'].dt.date #Creamos la columna para las fechas\n",
    "df3['hora'] = df3['start_ts'].dt.hour #Creamos la columnas para las horas\n",
    "df_grouped_hours = df3.drop('start_ts', axis=1) #Eliminamos la columna start_ts\n",
    "df_grouped_hours.head()"
   ]
  },
  {
   "cell_type": "code",
   "execution_count": 33,
   "metadata": {},
   "outputs": [],
   "source": [
    "#Filtramos nuestro datos con el metodo tolist para poder realizar nuestro grafico\n",
    "\n",
    "#Tomamos los valores de 2017-11-4\n",
    "filtered_per_date4= df_grouped_hours[df_grouped_hours['fecha']== pd.to_datetime('2017-11-04')]\n",
    "list_per_hour1= filtered_per_date4['hora'].tolist()\n",
    "list_per_duration1= filtered_per_date4['duration_seconds'].tolist()\n",
    "\n",
    "#Tomamos los valores de 2017-11-11\n",
    "filtered_per_date11= df_grouped_hours[df_grouped_hours['fecha']== pd.to_datetime('2017-11-11')]\n",
    "list_per_hour2= filtered_per_date11['hora'].tolist()\n",
    "list_per_duration2= filtered_per_date11['duration_seconds'].tolist()\n",
    "\n",
    "#Tomamos los valores de 2017-11-18\n",
    "filtered_per_date18= df_grouped_hours[df_grouped_hours['fecha']== pd.to_datetime('2017-11-18')]\n",
    "list_per_hour3= filtered_per_date18['hora'].tolist()\n",
    "list_per_duration3= filtered_per_date18['duration_seconds'].tolist()\n",
    "\n",
    "#Tomamos los valores de 2017-11-25\n",
    "filtered_per_date25= df_grouped_hours[df_grouped_hours['fecha']== pd.to_datetime('2017-11-25')]\n",
    "list_per_hour4= filtered_per_date25['hora'].tolist()\n",
    "list_per_duration4= filtered_per_date25['duration_seconds'].tolist()"
   ]
  },
  {
   "cell_type": "markdown",
   "metadata": {},
   "source": [
    "### Horas con mayor cantidad de viajes"
   ]
  },
  {
   "cell_type": "code",
   "execution_count": null,
   "metadata": {
    "scrolled": false
   },
   "outputs": [],
   "source": [
    "#Creamos nuestro grafico de barras\n",
    "\n",
    "fig = go.Figure(data=[\n",
    "    go.Bar(name='2017-11-04', x=list_per_hour1, y=list_per_duration1, marker_color='indianred'),\n",
    "    go.Bar(name='2017-11-11', x=list_per_hour2, y=list_per_duration2, marker_color='lightsalmon'),\n",
    "    go.Bar(name='2017-11-18', x=list_per_hour3, y=list_per_duration3),\n",
    "    go.Bar(name='2017-11-25', x=list_per_hour4, y=list_per_duration4)\n",
    "])\n",
    "# Change the bar mode\n",
    "fig.update_layout(title_text='Horas con mayor cantidad de viajes', xaxis_title= 'Horas', yaxis_title= 'Total duracion por hora')\n",
    "fig.update_layout(barmode='group')\n",
    "fig.show()"
   ]
  },
  {
   "cell_type": "markdown",
   "metadata": {},
   "source": [
    "#### Observacion:\n",
    "\n",
    "El análisis de los datos revela que los viajes realizados entre las 12:00, las 14:00 horas, así como a las 16:00 horas, presentan una cantidad mayor de viajes solicitados.\n",
    "\n",
    "Debemos tener en cuenta que estos estudios se realiza a una muentra de 4 dias del mes de noviembre del año 2017."
   ]
  },
  {
   "cell_type": "code",
   "execution_count": null,
   "metadata": {},
   "outputs": [],
   "source": [
    "#Filtramos nuestro datos con el metodo tolist para poder realizar nuestro grafico\n",
    "\n",
    "#Tomamos los valores de 2017-11-4\n",
    "mean_duration1= filtered_per_date4['hora'].value_counts().reset_index()\n",
    "mean_duration1= mean_duration1.rename(columns={'index': 'hora', 'hora': 'count'}).sort_values(by='hora')\n",
    "\n",
    "#Tomamos los valores de 2017-11-11\n",
    "mean_duration2= filtered_per_date11['hora'].value_counts().reset_index()\n",
    "mean_duration2= mean_duration2.rename(columns={'index': 'hora', 'hora': 'count'}).sort_values(by='hora')\n",
    "\n",
    "#Tomamos los valores de 2017-11-18\n",
    "mean_duration3= filtered_per_date18['hora'].value_counts().reset_index()\n",
    "mean_duration3 = mean_duration3.rename(columns={'index': 'hora', 'hora': 'count'}).sort_values(by='hora')\n",
    "\n",
    "#Tomamos los valores de 2017-11-25\n",
    "mean_duration4= filtered_per_date25['hora'].value_counts().reset_index()\n",
    "mean_duration4= mean_duration4.rename(columns={'index': 'hora', 'hora': 'count'}).sort_values(by='hora')"
   ]
  },
  {
   "cell_type": "markdown",
   "metadata": {},
   "source": [
    "### Cantidad de Viajes por horas y dias"
   ]
  },
  {
   "cell_type": "code",
   "execution_count": null,
   "metadata": {
    "scrolled": false
   },
   "outputs": [],
   "source": [
    "#Creamos nuestro grafico de barras\n",
    "\n",
    "fig = go.Figure(data=[\n",
    "    go.Bar(name='2017-11-04', x=mean_duration1['hora'], y=mean_duration1['count'], marker_color='indianred'),\n",
    "    go.Bar(name='2017-11-11', x=mean_duration2['hora'], y=mean_duration2['count'], marker_color='lightsalmon'),\n",
    "    go.Bar(name='2017-11-18', x=mean_duration3['hora'], y=mean_duration3['count']),\n",
    "    go.Bar(name='2017-11-25', x=mean_duration4['hora'], y=mean_duration4['count'])\n",
    "])\n",
    "# Change the bar mode\n",
    "fig.update_layout(title_text='Cantidad de viajes por horas/dias', xaxis_title= 'Horas', yaxis_title= 'Cantidad de viajes')\n",
    "fig.update_layout(barmode='group')\n",
    "fig.show()"
   ]
  },
  {
   "cell_type": "markdown",
   "metadata": {},
   "source": [
    "#### Observacion: \n",
    "\n",
    "El análisis de los datos disponibles indica que existe una mayor demanda de viajes durante las horas de la mañana (6:00, 8:00 y 10:00 horas) y las primeras horas de la tarde (12:00, 14:00 y 16:00 horas). No obstante, para confirmar estos patrones y obtener una visión más completa de la demanda, sería necesario analizar un conjunto de datos más amplio que abarque diferentes días de la semana, meses y años."
   ]
  },
  {
   "cell_type": "code",
   "execution_count": null,
   "metadata": {},
   "outputs": [],
   "source": [
    "#Filtramos nuestro datos con el metodo tolist para poder realizar nuestro grafico\n",
    "\n",
    "#Tomamos los valores de 2017-11-4\n",
    "duration1= filtered_per_date4.groupby('hora')['duration_seconds'].mean().reset_index().sort_values(by='hora')\n",
    "\n",
    "#Tomamos los valores de 2017-11-11\n",
    "duration2= filtered_per_date11.groupby('hora')['duration_seconds'].mean().reset_index().sort_values(by='hora')\n",
    "\n",
    "#Tomamos los valores de 2017-11-18\n",
    "duration3= filtered_per_date18.groupby('hora')['duration_seconds'].mean().reset_index().sort_values(by='hora')\n",
    "\n",
    "#Tomamos los valores de 2017-11-25\n",
    "duration4= filtered_per_date25.groupby('hora')['duration_seconds'].mean().reset_index().sort_values(by='hora')"
   ]
  },
  {
   "cell_type": "markdown",
   "metadata": {},
   "source": [
    "### Promedio duracion de viajes por horas y dias"
   ]
  },
  {
   "cell_type": "code",
   "execution_count": null,
   "metadata": {},
   "outputs": [],
   "source": [
    "#Creamos nuestro grafico de barras\n",
    "\n",
    "fig = go.Figure(data=[\n",
    "    go.Bar(name='2017-11-04', x=mean_duration1['hora'], y=duration1['duration_seconds'], marker_color='indianred'),\n",
    "    go.Bar(name='2017-11-11', x=mean_duration2['hora'], y=duration2['duration_seconds'], marker_color='lightsalmon'),\n",
    "    go.Bar(name='2017-11-18', x=mean_duration3['hora'], y=duration3['duration_seconds']),\n",
    "    go.Bar(name='2017-11-25', x=mean_duration4['hora'], y=duration4['duration_seconds'])\n",
    "])\n",
    "# Change the bar mode\n",
    "fig.update_layout(title_text='Promedio Duracion de viajes por horas/dias', xaxis_title= 'Horas', yaxis_title= 'Duracion total de viajes')\n",
    "fig.update_layout(barmode='group')\n",
    "fig.show()"
   ]
  },
  {
   "cell_type": "markdown",
   "metadata": {},
   "source": [
    "#### Observacion:\n",
    "\n",
    "El análisis promedio de los datos revela que empiezan a durar mas desde las 10 de la mañana empieza este incremente, a partir de las 3 de la tarde empieza a bajar un poco esta duracion promedio teniendo nuevamente un incremento es a las 6 de la tarde, luego de las 6 empieza a bajar la duracion de los viajes. Esta tendencia podría atribuirse a factores como el aumento del tráfico vehicular y condiciones climáticas adversas durante estas horas pico.\n",
    "\n",
    "Asimismo, se observa un viaje excepcionalmente largo a las 2:00 de la madrugada, lo cual sugiere la ocurrencia de un evento extraordinario como condiciones climáticas extremas o un incidente vial que pudo haber obstaculizado el tránsito."
   ]
  },
  {
   "cell_type": "code",
   "execution_count": null,
   "metadata": {},
   "outputs": [],
   "source": [
    "#Filtramos los datos para obtener solo los datos con buen clima\n",
    "\n",
    "condition_good= df_grouped_hours[df_grouped_hours['weather_conditions']== 'Good']\n",
    "print(condition_good.head())\n",
    "print()\n",
    "print()\n",
    "condition_good['duration_seconds'].mean()\n",
    "condition_good.groupby('fecha')['duration_seconds'].agg(['mean', 'var', 'std',]).reset_index()"
   ]
  },
  {
   "cell_type": "code",
   "execution_count": null,
   "metadata": {},
   "outputs": [],
   "source": [
    "#Filtramos los datos para obtener solo los datos con buen clima\n",
    "\n",
    "condition_bad= df_grouped_hours[df_grouped_hours['weather_conditions']== 'Bad']\n",
    "print(condition_bad.head())\n",
    "print()\n",
    "print()\n",
    "condition_bad['duration_seconds'].mean()\n",
    "condition_bad.groupby('fecha')['duration_seconds'].agg(['mean', 'var', 'std',]).reset_index()"
   ]
  },
  {
   "cell_type": "markdown",
   "metadata": {},
   "source": [
    "### Observacion: \n",
    "\n",
    "En general, la varianza y la desviación estándar de ambas condiciones climaticas son altas, lo que nos indica que la distribución de datos está lejos de la media. podemos observar en los datos analizados que las condiciones climaticas tienden a comportarse en ciertas ocasiones de manera similar dado a los posibles escenarios que se pueden presentar con mal tiempo como con buen tiempo."
   ]
  },
  {
   "cell_type": "code",
   "execution_count": null,
   "metadata": {},
   "outputs": [],
   "source": [
    "#Agrupamos los datos y calculamos el promedio por hora, fecha y condicion climatica.\n",
    "\n",
    "df_group= df_grouped_hours.groupby(['fecha', 'hora', 'weather_conditions'])['duration_seconds'].mean().reset_index()\n",
    "df_group.head()"
   ]
  },
  {
   "cell_type": "markdown",
   "metadata": {},
   "source": [
    "### Duracion promedio de viajes por horas segun las condiciones climaticas"
   ]
  },
  {
   "cell_type": "code",
   "execution_count": null,
   "metadata": {},
   "outputs": [],
   "source": [
    "#Realizamos nuestro grafico para visualizar los comportamientos promedios en los tiempos dependiendo de la condicion climatica\n",
    "\n",
    "fig = px.scatter(df_group, x=\"hora\", y=\"duration_seconds\", size=\"duration_seconds\", color=\"weather_conditions\",\n",
    "           hover_name=\"fecha\", log_x=False, size_max=60, title='Duracion pomedio de viajes por horas segun las condiciones climaticas')\n",
    "fig.show()"
   ]
  },
  {
   "cell_type": "markdown",
   "metadata": {},
   "source": [
    "#### Observacion:\n",
    "\n",
    "El análisis de los datos de nuestro grafico confirma que las condiciones climáticas adversas y las horas pico tienen un impacto significativo en la duración promedio de los viajes. En general, se observa un aumento considerable en el tiempo de viaje durante condiciones climáticas desfavorables debido a la reducción de la velocidad y el incremento de las congestiones vehiculares. Estos hallazgos corroboran los resultados obtenidos en el análisis anterior, donde se evidenció una duración promedio mayor en viajes realizados bajo condiciones climáticas adversas y con condiciones climaticas buenas pero en horas picos de mucha afluencia vehicular.\n"
   ]
  },
  {
   "cell_type": "markdown",
   "metadata": {},
   "source": [
    "<div class=\"alert alert-block alert-success\">\n",
    "\n",
    "<b>Comentario del revisor</b> <a class=\"tocSkip\"></a>\n",
    "\n",
    "Muy buena seccion de exploracion y busqueda de patrones, con cada observacion agregaste valor. Muy bueno. </div>\n",
    "\n"
   ]
  },
  {
   "cell_type": "markdown",
   "metadata": {},
   "source": [
    "## Prueba de hipótesis"
   ]
  },
  {
   "cell_type": "markdown",
   "metadata": {},
   "source": [
    "\"La duración promedio de los viajes desde el Loop hasta el Aeropuerto Internacional O'Hare cambia los sábados lluviosos\"."
   ]
  },
  {
   "cell_type": "code",
   "execution_count": null,
   "metadata": {},
   "outputs": [],
   "source": [
    "# Dividir los datos en dos grupos\n",
    "lluvioso = df3[df3['weather_conditions'] == 'Bad']['duration_seconds']\n",
    "no_lluvioso = df3[df3['weather_conditions'] == 'Good']['duration_seconds']\n",
    "\n",
    "# Realizar la prueba t\n",
    "t_statistic, p_value = st.ttest_ind(lluvioso, no_lluvioso)\n",
    "\n",
    "print('Valor p:', p_value)\n",
    "\n",
    "# Interpretar el resultado\n",
    "if p_value < 0.05:\n",
    "    print(\"Rechazamos la hipótesis nula. La duración promedio de los viajes es diferente en sábados lluviosos.\")\n",
    "else:\n",
    "    print(\"No rechazamos la hipótesis nula. No hay evidencia suficiente para afirmar que la duración promedio de los viajes cambia en sábados lluviosos.\")\n"
   ]
  },
  {
   "cell_type": "code",
   "execution_count": null,
   "metadata": {},
   "outputs": [],
   "source": [
    "# Prueba las hipótesis\n",
    "# Creamos una funcion de prueba estadística: prueba t de dos muestras\n",
    "\n",
    "def t_test(sample1, sample2, alpha):\n",
    "    p_value_levene=st.levene(sample1, sample2).pvalue.astype(int)\n",
    "\n",
    "    if p_value_levene<alpha:\n",
    "        option_var=False\n",
    "    else:\n",
    "        option_var=True\n",
    "\n",
    "    p_value=st.ttest_ind(sample1, sample2, nan_policy='omit', equal_var=option_var).pvalue.astype(int)\n",
    "    if p_value<alpha:\n",
    "        print('Rechazamos la hipótesis nula: La duración promedio de los viajes es diferente en sábados lluviosos.')\n",
    "    else:\n",
    "        print( \"No rechazar la hipótesis nula: No hay evidencia suficiente para afirmar que la duración promedio de los viajes cambia en sábados lluviosos.\")"
   ]
  },
  {
   "cell_type": "code",
   "execution_count": null,
   "metadata": {},
   "outputs": [],
   "source": [
    "# mirando solo el valor p\n",
    "st.ttest_ind(lluvioso, no_lluvioso).pvalue"
   ]
  },
  {
   "cell_type": "code",
   "execution_count": null,
   "metadata": {},
   "outputs": [],
   "source": [
    "#aplicamos t_test a la tabla ingresos_pivot para ambos planes\n",
    "alpha= 0.05\n",
    "t_test(lluvioso, no_lluvioso, alpha)"
   ]
  },
  {
   "cell_type": "markdown",
   "metadata": {},
   "source": [
    "### Observacion:\n",
    "\n",
    "De acuerdo al resultado, podemos confirmar que la duración promedio de los viajes es diferente en sábados lluviosos. El valor de p nos dice que existe una gran probabilidad de que existe una diferencia entre las condiciones climaticas de Bad y Good los dias sabados.\n",
    "\n",
    "Esta hipotesis la formule creando uns funcion y filtrando el Dataframe por 'Bad' y por 'Good', colocando como parametro dentro de la funcion equal_var= si levenue era menor que alpha entonces era Flase o si no era True,  el cual es un parámetro opcional que especifica si las varianzas de las poblaciones en este caso condiciones climaticas deben considerarse iguales o no. Se pasa como equal_var = True o equal_var = False (True significa que consideramos las varianzas iguales, False significa que no)"
   ]
  },
  {
   "attachments": {
    "grafico1-2.png": {
     "image/png": "[encoded data removed]"
    }
   },
   "cell_type": "markdown",
   "metadata": {},
   "source": [
    "## Conclusion General\n",
    "\n",
    "### Top 10 compañias populares.\n",
    "\n",
    "![grafico1-2.png](attachment:grafico1-2.png)\n",
    "\n",
    "Según el gráfico, Flash Cab se destaca como la empresa de transporte con mayor volumen de viajes en Chicago, superando considerablemente a sus competidores. Este resultado sugiere que Flash Cab es la opción preferida por los usuarios en la ciudad, las otras compañias se mantienen en un rango entre 5000 y 12000. De igual forma no podriamos asegurar esto con exactitud ya que esto es una pequeña muestra de 2 dias de noviembre del 2017."
   ]
  },
  {
   "attachments": {
    "grafico2.png": {
     "image/png": "[encoded data removed]"
    }
   },
   "cell_type": "markdown",
   "metadata": {},
   "source": [
    "### Top 10 Barrios mas concurridos.\n",
    "\n",
    "![grafico2.png](attachment:grafico2.png)\n",
    "\n",
    "Los barrios de Loop y River North se destacan como los destinos más populares, registrando entre 9500 y 10800 viajes finalizados. Streeterville y West Loop le siguen en cuanto a demanda, con aproximadamente 5100 y 6700 viajes respectivamente. Los restantes 6 barrios (O'Hare, Lake view, Grant Park, Museum Campus, Gold Coast, Sheffield & Depaul) presentan un volumen de viajes significativamente menor, fluctuando entre 1260 y 2550."
   ]
  },
  {
   "attachments": {
    "grafico3.png": {
     "image/png": "[encoded data removed]"
    }
   },
   "cell_type": "markdown",
   "metadata": {},
   "source": [
    "### Promedio total de duracion del viaje dependiendo de la condicion climatica.\n",
    "\n",
    "![grafico3.png](attachment:grafico3.png)\n",
    "\n",
    "En nuestro grafico podemos observar que los viajes tienden a tener mayor duracion en mal tiempo."
   ]
  },
  {
   "attachments": {
    "Screenshot_7.jpg": {
     "image/jpeg": "[encoded data removed]"
    }
   },
   "cell_type": "markdown",
   "metadata": {},
   "source": [
    "### Previsualizacion de los datos en un grafico.\n",
    "\n",
    "![Screenshot_7.jpg](attachment:Screenshot_7.jpg)\n",
    "\n",
    "\n",
    "El análisis de los datos revela que los viajes realizados entre las 12:00, las 14:00 horas, así como a las 16:00 horas, presentan una cantidad mayor de viajes solicitados.\n",
    "\n",
    "Debemos tener en cuenta que estos estudios se realiza a una muentra de 4 dias del mes de noviembre del año 2017."
   ]
  },
  {
   "attachments": {
    "Screenshot_8.jpg": {
     "image/jpeg": "[encoded data removed]"
    }
   },
   "cell_type": "markdown",
   "metadata": {},
   "source": [
    "### Cantidad de Viajes por Hora y Dias.\n",
    "\n",
    "![Screenshot_8.jpg](attachment:Screenshot_8.jpg)\n",
    "\n",
    "\n",
    "El análisis de los datos disponibles indica que existe una mayor demanda de viajes durante las horas de la mañana (6:00, 8:00 y 10:00 horas) y las primeras horas de la tarde (12:00, 14:00 y 16:00 horas). No obstante, para confirmar estos patrones y obtener una visión más completa de la demanda, sería necesario analizar un conjunto de datos más amplio que abarque diferentes días de la semana, meses y años"
   ]
  },
  {
   "attachments": {
    "Screenshot_9.jpg": {
     "image/jpeg": "[encoded data removed]"
    }
   },
   "cell_type": "markdown",
   "metadata": {},
   "source": [
    "### Promedio duracion de viajes por dia y hora.\n",
    "\n",
    "![Screenshot_9.jpg](attachment:Screenshot_9.jpg)\n",
    "\n",
    "El análisis promedio de los datos revela que empiezan a durar mas desde las 10 de la mañana empieza este incremente, a partir de las 3 de la tarde empieza a bajar un poco esta duracion promedio teniendo nuevamente un incremento es a las 6 de la tarde, luego de las 6 empieza a bajar la duracion de los viajes. Esta tendencia podría atribuirse a factores como el aumento del tráfico vehicular y condiciones climáticas adversas durante estas horas pico.\n",
    "\n",
    "Asimismo, se observa un viaje excepcionalmente largo a las 2:00 de la madrugada, lo cual sugiere la ocurrencia de un evento extraordinario como condiciones climáticas extremas o un incidente vial que pudo haber obstaculizado el tránsito."
   ]
  },
  {
   "attachments": {
    "Screenshot_6.jpg": {
     "image/jpeg": "[encoded data removed]"
    }
   },
   "cell_type": "markdown",
   "metadata": {},
   "source": [
    "### Duracion pomedio de viajes por horas segun las condiciones climaticas\n",
    "\n",
    "En general, la varianza y la desviación estándar de ambas condiciones climaticas son altas, lo que nos indica que la distribución de datos está lejos de la media. podemos observar en los datos analizados que las condiciones climaticas tienden a comportarse en ciertas ocasiones de manera similar dado a los posibles escenarios que se pueden presentar con mal tiempo como con buen tiempo.\n",
    "\n",
    "![Screenshot_6.jpg](attachment:Screenshot_6.jpg)\n",
    "\n",
    "El análisis de los datos de nuestro grafico confirma que las condiciones climáticas adversas y las horas pico tienen un impacto significativo en la duración promedio de los viajes. En general, se observa un aumento considerable en el tiempo de viaje durante condiciones climáticas desfavorables debido a la reducción de la velocidad y el incremento de las congestiones vehiculares. Estos hallazgos corroboran los resultados obtenidos en el análisis anterior, donde se evidenció una duración promedio mayor en viajes realizados bajo condiciones climáticas adversas y con condiciones climaticas buenas pero en horas picos de mucha afluencia vehicular.\n",
    "\n",
    "### Hipotesis \n",
    "\n",
    "* \"La duración promedio de los viajes desde el Loop hasta el Aeropuerto Internacional O'Hare cambia los sábados lluviosos\"\n",
    "\n",
    "De acuerdo al resultado, podemos confirmar que La duración promedio de los viajes es diferente en sábados lluviosos. El valor de p nos dice que existe una gran probabilidad de que existe una diferencia entre las condiciones climaticas de Bad y Good los dias sabados."
   ]
  },
  {
   "cell_type": "markdown",
   "metadata": {},
   "source": [
    "## Recomendaciones Basadas en el Análisis:\n",
    "\n",
    "### Optimización de Recursos para Empresas de Taxis:\n",
    "\n",
    "* Focalización en Barrios Populares: Las empresas de taxis pueden considerar aumentar la disponibilidad de taxis en los barrios con mayor número de finalizaciones de viajes. Esto puede ayudar a satisfacer la demanda en áreas populares y maximizar los ingresos.\n",
    "\n",
    "\n",
    "\n",
    "* Análisis de Competencia: Empresas como \"Flash Cab\" y \"Taxi Affiliation Services\" dominan en términos de número de viajes. Otras compañías podrían analizar las estrategias de estas empresas para mejorar su posición en el mercado.\n",
    "\n",
    "\n",
    "\n",
    "### Estrategias de Marketing:\n",
    "\n",
    "* Promociones en Barrios con Menor Actividad: Implementar promociones o descuentos en barrios con menor actividad podría estimular la demanda en estas áreas.\n",
    "\n",
    "\n",
    "\n",
    "\n",
    "* Asociaciones con Negocios Locales: Colaborar con negocios en los barrios con alta finalización de viajes puede ser una estrategia efectiva para atraer más clientes, como ofrecer descuentos en viajes hacia esos negocios.\n",
    "\n",
    "\n",
    "\n",
    "\n",
    "### Ajuste de Tarifas Basado en la Demanda:\n",
    "\n",
    "\n",
    "\n",
    "\n",
    "* Tarifas Dinámicas: Las empresas podrían considerar la implementación de tarifas dinámicas basadas en la demanda durante ciertos días y horas. Esto puede incluir la elevación de tarifas en los momentos de alta demanda o la reducción de precios para atraer más clientes en horas de baja demanda.\n",
    "\n",
    "\n",
    "\n",
    "\n",
    "### Mejoras en la Experiencia del Usuario:\n",
    "\n",
    "\n",
    "\n",
    "\n",
    "* Reducción de Tiempos de Espera: Con un enfoque en los barrios de alta demanda, las empresas podrían trabajar en reducir los tiempos de espera, lo cual mejoraría la experiencia del usuario y podría aumentar la lealtad del cliente.\n",
    "\n",
    "\n",
    "\n",
    "\n",
    "* Integración Tecnológica: Fomentar el uso de aplicaciones móviles para mejorar la accesibilidad y facilidad de uso del servicio de taxis, permitiendo a los usuarios reservar viajes en tiempo real y conocer la disponibilidad en su área.\n",
    "\n",
    "\n",
    "\n",
    "\n",
    "### Consideraciones Climáticas:\n",
    "\n",
    "\n",
    "\n",
    "\n",
    "* Preparación para Condiciones Climáticas: Dado que se investigó la influencia de las condiciones climáticas en la duración de los viajes, las empresas deberían preparar a sus conductores y flota para condiciones climáticas adversas, especialmente en los días lluviosos.\n",
    "\n",
    "\n",
    "\n",
    "\n",
    "\n",
    "### Expansión de Flotas en Barrios de Crecimiento:\n",
    "\n",
    "\n",
    "\n",
    "\n",
    "* Si se identifica un crecimiento en la demanda en ciertos barrios, las empresas de taxis podrían considerar expandir su flota o servicios en esas áreas para capturar una mayor cuota de mercado.\n",
    "\n",
    "\n",
    "\n",
    "\n",
    "Estas recomendaciones pueden ayudar a las empresas de taxis a optimizar sus operaciones, mejorar la experiencia del cliente y maximizar sus ingresos en el mercado competitivo de Chicago."
   ]
  },
  {
   "cell_type": "markdown",
   "metadata": {},
   "source": [
    "<div class=\"alert alert-block alert-success\">\n",
    "\n",
    "<b>Comentario del revisor</b> <a class=\"tocSkip\"></a>\n",
    "\n",
    "Excelente conclusion general.</div>\n",
    "\n",
    "\n",
    "\n"
   ]
  }
 ],
 "metadata": {
  "ExecuteTimeLog": [
   {
    "duration": 432,
    "start_time": "2024-07-28T00:52:44.959Z"
   },
   {
    "duration": 1086,
    "start_time": "2024-07-28T00:53:09.649Z"
   },
   {
    "duration": 11,
    "start_time": "2024-07-28T00:54:25.666Z"
   },
   {
    "duration": 16,
    "start_time": "2024-07-28T00:54:34.056Z"
   },
   {
    "duration": 15,
    "start_time": "2024-07-28T00:54:50.064Z"
   },
   {
    "duration": 6,
    "start_time": "2024-07-28T00:55:56.749Z"
   },
   {
    "duration": 24,
    "start_time": "2024-07-28T00:56:12.457Z"
   },
   {
    "duration": 8,
    "start_time": "2024-07-28T00:56:16.607Z"
   },
   {
    "duration": 9,
    "start_time": "2024-07-28T00:56:38.911Z"
   },
   {
    "duration": 11,
    "start_time": "2024-07-28T00:57:19.088Z"
   },
   {
    "duration": 16,
    "start_time": "2024-07-28T00:57:35.504Z"
   },
   {
    "duration": 16,
    "start_time": "2024-07-28T00:58:09.258Z"
   },
   {
    "duration": 15,
    "start_time": "2024-07-28T00:58:12.720Z"
   },
   {
    "duration": 6,
    "start_time": "2024-07-28T00:58:45.699Z"
   },
   {
    "duration": 14,
    "start_time": "2024-07-28T00:59:02.109Z"
   },
   {
    "duration": 22,
    "start_time": "2024-07-28T01:30:08.393Z"
   },
   {
    "duration": 22,
    "start_time": "2024-07-28T01:30:39.974Z"
   },
   {
    "duration": 4982,
    "start_time": "2024-07-28T01:30:47.044Z"
   },
   {
    "duration": 19,
    "start_time": "2024-07-28T01:30:52.029Z"
   },
   {
    "duration": 13,
    "start_time": "2024-07-28T01:30:52.051Z"
   },
   {
    "duration": 16,
    "start_time": "2024-07-28T01:30:52.069Z"
   },
   {
    "duration": 674,
    "start_time": "2024-07-28T01:30:52.088Z"
   },
   {
    "duration": 33,
    "start_time": "2024-07-28T01:31:06.920Z"
   },
   {
    "duration": 23,
    "start_time": "2024-07-28T01:31:18.363Z"
   },
   {
    "duration": 18,
    "start_time": "2024-07-28T01:34:15.348Z"
   },
   {
    "duration": 21,
    "start_time": "2024-07-28T01:34:24.159Z"
   },
   {
    "duration": 11,
    "start_time": "2024-07-28T01:35:48.533Z"
   },
   {
    "duration": 13,
    "start_time": "2024-07-28T01:36:03.564Z"
   },
   {
    "duration": 1336,
    "start_time": "2024-07-28T01:36:07.173Z"
   },
   {
    "duration": 24,
    "start_time": "2024-07-28T01:36:08.513Z"
   },
   {
    "duration": 14,
    "start_time": "2024-07-28T01:36:08.540Z"
   },
   {
    "duration": 16,
    "start_time": "2024-07-28T01:36:08.558Z"
   },
   {
    "duration": 51,
    "start_time": "2024-07-28T01:36:08.577Z"
   },
   {
    "duration": 1338,
    "start_time": "2024-07-28T01:37:12.880Z"
   },
   {
    "duration": 19,
    "start_time": "2024-07-28T01:37:14.223Z"
   },
   {
    "duration": 13,
    "start_time": "2024-07-28T01:37:14.245Z"
   },
   {
    "duration": 16,
    "start_time": "2024-07-28T01:37:14.262Z"
   },
   {
    "duration": 55,
    "start_time": "2024-07-28T01:37:14.281Z"
   },
   {
    "duration": 496,
    "start_time": "2024-07-28T01:37:14.340Z"
   },
   {
    "duration": 11,
    "start_time": "2024-07-28T01:37:20.794Z"
   },
   {
    "duration": 4,
    "start_time": "2024-07-28T01:38:06.878Z"
   },
   {
    "duration": 10,
    "start_time": "2024-07-28T01:38:08.237Z"
   },
   {
    "duration": 1337,
    "start_time": "2024-07-28T01:38:14.869Z"
   },
   {
    "duration": 22,
    "start_time": "2024-07-28T01:38:16.209Z"
   },
   {
    "duration": 13,
    "start_time": "2024-07-28T01:38:16.234Z"
   },
   {
    "duration": 16,
    "start_time": "2024-07-28T01:38:16.251Z"
   },
   {
    "duration": 4,
    "start_time": "2024-07-28T01:38:16.270Z"
   },
   {
    "duration": 56,
    "start_time": "2024-07-28T01:38:16.277Z"
   },
   {
    "duration": 463,
    "start_time": "2024-07-28T01:39:34.380Z"
   },
   {
    "duration": 1384,
    "start_time": "2024-07-28T01:42:14.304Z"
   },
   {
    "duration": 18,
    "start_time": "2024-07-28T01:42:15.692Z"
   },
   {
    "duration": 13,
    "start_time": "2024-07-28T01:42:15.723Z"
   },
   {
    "duration": 17,
    "start_time": "2024-07-28T01:42:15.741Z"
   },
   {
    "duration": 7,
    "start_time": "2024-07-28T01:42:15.760Z"
   },
   {
    "duration": 458,
    "start_time": "2024-07-28T01:42:45.069Z"
   },
   {
    "duration": 4,
    "start_time": "2024-07-28T01:42:52.983Z"
   },
   {
    "duration": 13,
    "start_time": "2024-07-28T01:42:58.797Z"
   },
   {
    "duration": 13,
    "start_time": "2024-07-28T01:43:21.837Z"
   },
   {
    "duration": 1340,
    "start_time": "2024-07-28T01:43:25.876Z"
   },
   {
    "duration": 18,
    "start_time": "2024-07-28T01:43:27.222Z"
   },
   {
    "duration": 13,
    "start_time": "2024-07-28T01:43:27.243Z"
   },
   {
    "duration": 16,
    "start_time": "2024-07-28T01:43:27.260Z"
   },
   {
    "duration": 51,
    "start_time": "2024-07-28T01:43:27.278Z"
   },
   {
    "duration": 5,
    "start_time": "2024-07-28T01:43:35.582Z"
   },
   {
    "duration": 14,
    "start_time": "2024-07-28T01:43:39.650Z"
   },
   {
    "duration": 9,
    "start_time": "2024-07-28T01:43:48.169Z"
   },
   {
    "duration": 10,
    "start_time": "2024-07-28T01:44:51.416Z"
   },
   {
    "duration": 197,
    "start_time": "2024-07-28T01:45:13.271Z"
   },
   {
    "duration": 1404,
    "start_time": "2024-07-28T01:45:22.908Z"
   },
   {
    "duration": 22,
    "start_time": "2024-07-28T01:45:24.315Z"
   },
   {
    "duration": 215,
    "start_time": "2024-07-28T01:45:24.340Z"
   },
   {
    "duration": 0,
    "start_time": "2024-07-28T01:45:24.558Z"
   },
   {
    "duration": 0,
    "start_time": "2024-07-28T01:45:24.560Z"
   },
   {
    "duration": 1345,
    "start_time": "2024-07-28T01:45:52.364Z"
   },
   {
    "duration": 25,
    "start_time": "2024-07-28T01:45:53.712Z"
   },
   {
    "duration": 210,
    "start_time": "2024-07-28T01:45:53.740Z"
   },
   {
    "duration": 0,
    "start_time": "2024-07-28T01:45:53.953Z"
   },
   {
    "duration": 0,
    "start_time": "2024-07-28T01:45:53.954Z"
   },
   {
    "duration": 20,
    "start_time": "2024-07-28T01:46:11.087Z"
   },
   {
    "duration": 1367,
    "start_time": "2024-07-28T01:46:14.841Z"
   },
   {
    "duration": 20,
    "start_time": "2024-07-28T01:46:16.212Z"
   },
   {
    "duration": 211,
    "start_time": "2024-07-28T01:46:16.235Z"
   },
   {
    "duration": 0,
    "start_time": "2024-07-28T01:46:16.449Z"
   },
   {
    "duration": 0,
    "start_time": "2024-07-28T01:46:16.451Z"
   },
   {
    "duration": 8,
    "start_time": "2024-07-28T01:46:57.336Z"
   },
   {
    "duration": 392,
    "start_time": "2024-07-28T01:47:24.040Z"
   },
   {
    "duration": 4,
    "start_time": "2024-07-28T01:47:29.767Z"
   },
   {
    "duration": 4,
    "start_time": "2024-07-28T01:47:59.119Z"
   },
   {
    "duration": 1410,
    "start_time": "2024-07-28T01:48:05.400Z"
   },
   {
    "duration": 24,
    "start_time": "2024-07-28T01:48:06.813Z"
   },
   {
    "duration": 4,
    "start_time": "2024-07-28T01:48:06.840Z"
   },
   {
    "duration": 17,
    "start_time": "2024-07-28T01:48:06.848Z"
   },
   {
    "duration": 15,
    "start_time": "2024-07-28T01:48:06.867Z"
   },
   {
    "duration": 4,
    "start_time": "2024-07-28T01:49:03.636Z"
   },
   {
    "duration": 1362,
    "start_time": "2024-07-28T01:49:17.449Z"
   },
   {
    "duration": 22,
    "start_time": "2024-07-28T01:49:18.815Z"
   },
   {
    "duration": 4,
    "start_time": "2024-07-28T01:49:18.840Z"
   },
   {
    "duration": 18,
    "start_time": "2024-07-28T01:49:18.850Z"
   },
   {
    "duration": 15,
    "start_time": "2024-07-28T01:49:18.870Z"
   },
   {
    "duration": 5,
    "start_time": "2024-07-28T01:49:44.479Z"
   },
   {
    "duration": 6,
    "start_time": "2024-07-28T01:49:52.815Z"
   },
   {
    "duration": 465,
    "start_time": "2024-07-28T01:52:31.914Z"
   },
   {
    "duration": 24,
    "start_time": "2024-07-28T01:52:52.275Z"
   },
   {
    "duration": 24,
    "start_time": "2024-07-28T01:53:00.768Z"
   },
   {
    "duration": 25,
    "start_time": "2024-07-28T01:53:30.568Z"
   },
   {
    "duration": 1357,
    "start_time": "2024-07-28T01:53:35.662Z"
   },
   {
    "duration": 19,
    "start_time": "2024-07-28T01:53:37.021Z"
   },
   {
    "duration": 489,
    "start_time": "2024-07-28T01:53:37.044Z"
   },
   {
    "duration": 0,
    "start_time": "2024-07-28T01:53:37.536Z"
   },
   {
    "duration": 0,
    "start_time": "2024-07-28T01:53:37.539Z"
   },
   {
    "duration": 4,
    "start_time": "2024-07-28T01:53:47.259Z"
   },
   {
    "duration": 8,
    "start_time": "2024-07-28T01:53:59.008Z"
   },
   {
    "duration": 8,
    "start_time": "2024-07-28T01:54:06.354Z"
   },
   {
    "duration": 11,
    "start_time": "2024-07-28T01:55:02.893Z"
   },
   {
    "duration": 1373,
    "start_time": "2024-07-28T01:55:08.343Z"
   },
   {
    "duration": 22,
    "start_time": "2024-07-28T01:55:09.722Z"
   },
   {
    "duration": 15,
    "start_time": "2024-07-28T01:55:09.748Z"
   },
   {
    "duration": 16,
    "start_time": "2024-07-28T01:55:09.767Z"
   },
   {
    "duration": 45,
    "start_time": "2024-07-28T01:55:09.785Z"
   },
   {
    "duration": 6,
    "start_time": "2024-07-28T01:55:35.025Z"
   },
   {
    "duration": 4,
    "start_time": "2024-07-28T01:56:04.282Z"
   },
   {
    "duration": 460,
    "start_time": "2024-07-28T01:56:13.781Z"
   },
   {
    "duration": 23,
    "start_time": "2024-07-28T01:56:20.138Z"
   },
   {
    "duration": 24,
    "start_time": "2024-07-28T01:56:22.762Z"
   },
   {
    "duration": 11,
    "start_time": "2024-07-28T01:56:39.916Z"
   },
   {
    "duration": 21,
    "start_time": "2024-07-28T02:02:45.469Z"
   },
   {
    "duration": 17,
    "start_time": "2024-07-28T02:10:08.128Z"
   },
   {
    "duration": 307,
    "start_time": "2024-07-28T02:55:11.543Z"
   },
   {
    "duration": 5415,
    "start_time": "2024-07-28T02:55:22.875Z"
   },
   {
    "duration": 22,
    "start_time": "2024-07-28T02:55:28.294Z"
   },
   {
    "duration": 17,
    "start_time": "2024-07-28T02:55:28.324Z"
   },
   {
    "duration": 19,
    "start_time": "2024-07-28T02:55:28.344Z"
   },
   {
    "duration": 16,
    "start_time": "2024-07-28T02:55:28.369Z"
   },
   {
    "duration": 51,
    "start_time": "2024-07-28T02:55:28.388Z"
   },
   {
    "duration": 20,
    "start_time": "2024-07-28T02:55:28.442Z"
   },
   {
    "duration": 60,
    "start_time": "2024-07-28T02:55:28.465Z"
   },
   {
    "duration": 12,
    "start_time": "2024-07-28T02:56:34.910Z"
   },
   {
    "duration": 16,
    "start_time": "2024-07-28T02:59:12.896Z"
   },
   {
    "duration": 8,
    "start_time": "2024-07-28T02:59:40.280Z"
   },
   {
    "duration": 6,
    "start_time": "2024-07-28T02:59:56.268Z"
   },
   {
    "duration": 13,
    "start_time": "2024-07-28T03:00:14.518Z"
   },
   {
    "duration": 9,
    "start_time": "2024-07-28T03:35:18.199Z"
   },
   {
    "duration": 10,
    "start_time": "2024-07-28T03:35:53.908Z"
   },
   {
    "duration": 11,
    "start_time": "2024-07-28T03:36:12.459Z"
   },
   {
    "duration": 6,
    "start_time": "2024-07-28T03:45:29.427Z"
   },
   {
    "duration": 11,
    "start_time": "2024-07-28T03:46:09.392Z"
   },
   {
    "duration": 8,
    "start_time": "2024-07-28T03:46:25.950Z"
   },
   {
    "duration": 12,
    "start_time": "2024-07-28T03:48:33.487Z"
   },
   {
    "duration": 5,
    "start_time": "2024-07-28T03:50:15.105Z"
   },
   {
    "duration": 5,
    "start_time": "2024-07-28T03:51:11.239Z"
   },
   {
    "duration": 1340,
    "start_time": "2024-07-28T03:51:16.784Z"
   },
   {
    "duration": 20,
    "start_time": "2024-07-28T03:51:18.126Z"
   },
   {
    "duration": 15,
    "start_time": "2024-07-28T03:51:18.149Z"
   },
   {
    "duration": 16,
    "start_time": "2024-07-28T03:51:18.169Z"
   },
   {
    "duration": 39,
    "start_time": "2024-07-28T03:51:18.188Z"
   },
   {
    "duration": 18,
    "start_time": "2024-07-28T03:51:18.230Z"
   },
   {
    "duration": 16,
    "start_time": "2024-07-28T03:51:18.251Z"
   },
   {
    "duration": 6,
    "start_time": "2024-07-28T03:51:18.270Z"
   },
   {
    "duration": 59,
    "start_time": "2024-07-28T03:51:18.279Z"
   },
   {
    "duration": 6,
    "start_time": "2024-07-28T03:51:18.344Z"
   },
   {
    "duration": 14,
    "start_time": "2024-07-28T03:51:44.997Z"
   },
   {
    "duration": 1379,
    "start_time": "2024-07-28T03:52:06.535Z"
   },
   {
    "duration": 21,
    "start_time": "2024-07-28T03:52:07.917Z"
   },
   {
    "duration": 14,
    "start_time": "2024-07-28T03:52:07.941Z"
   },
   {
    "duration": 16,
    "start_time": "2024-07-28T03:52:07.959Z"
   },
   {
    "duration": 44,
    "start_time": "2024-07-28T03:52:07.978Z"
   },
   {
    "duration": 17,
    "start_time": "2024-07-28T03:52:08.026Z"
   },
   {
    "duration": 15,
    "start_time": "2024-07-28T03:52:08.046Z"
   },
   {
    "duration": 6,
    "start_time": "2024-07-28T03:52:08.064Z"
   },
   {
    "duration": 51,
    "start_time": "2024-07-28T03:52:08.073Z"
   },
   {
    "duration": 5,
    "start_time": "2024-07-28T03:52:08.129Z"
   },
   {
    "duration": 15,
    "start_time": "2024-07-28T03:52:08.137Z"
   },
   {
    "duration": 14,
    "start_time": "2024-07-28T03:52:22.866Z"
   },
   {
    "duration": 14,
    "start_time": "2024-07-28T03:54:14.418Z"
   },
   {
    "duration": 16,
    "start_time": "2024-07-28T03:57:09.372Z"
   },
   {
    "duration": 17,
    "start_time": "2024-07-28T03:58:40.915Z"
   },
   {
    "duration": 18,
    "start_time": "2024-07-28T03:59:08.876Z"
   },
   {
    "duration": 737,
    "start_time": "2024-07-28T04:13:19.544Z"
   },
   {
    "duration": 163,
    "start_time": "2024-07-28T04:13:46.920Z"
   },
   {
    "duration": 6,
    "start_time": "2024-07-28T04:16:47.440Z"
   },
   {
    "duration": 15,
    "start_time": "2024-07-28T04:17:02.132Z"
   },
   {
    "duration": 14,
    "start_time": "2024-07-28T04:17:27.481Z"
   },
   {
    "duration": 14,
    "start_time": "2024-07-28T04:17:28.515Z"
   },
   {
    "duration": 14,
    "start_time": "2024-07-28T04:17:41.278Z"
   },
   {
    "duration": 1374,
    "start_time": "2024-07-28T04:18:35.035Z"
   },
   {
    "duration": 21,
    "start_time": "2024-07-28T04:18:36.412Z"
   },
   {
    "duration": 15,
    "start_time": "2024-07-28T04:18:36.436Z"
   },
   {
    "duration": 16,
    "start_time": "2024-07-28T04:18:36.455Z"
   },
   {
    "duration": 56,
    "start_time": "2024-07-28T04:18:36.474Z"
   },
   {
    "duration": 18,
    "start_time": "2024-07-28T04:18:36.534Z"
   },
   {
    "duration": 15,
    "start_time": "2024-07-28T04:18:36.555Z"
   },
   {
    "duration": 6,
    "start_time": "2024-07-28T04:18:36.573Z"
   },
   {
    "duration": 13,
    "start_time": "2024-07-28T04:18:36.622Z"
   },
   {
    "duration": 8,
    "start_time": "2024-07-28T04:18:36.639Z"
   },
   {
    "duration": 14,
    "start_time": "2024-07-28T04:18:36.650Z"
   },
   {
    "duration": 18,
    "start_time": "2024-07-28T04:18:36.668Z"
   },
   {
    "duration": 8,
    "start_time": "2024-07-28T04:18:36.724Z"
   },
   {
    "duration": 14,
    "start_time": "2024-07-28T04:18:36.735Z"
   },
   {
    "duration": 1326,
    "start_time": "2024-07-28T04:19:12.586Z"
   },
   {
    "duration": 23,
    "start_time": "2024-07-28T04:19:13.915Z"
   },
   {
    "duration": 15,
    "start_time": "2024-07-28T04:19:13.941Z"
   },
   {
    "duration": 16,
    "start_time": "2024-07-28T04:19:13.959Z"
   },
   {
    "duration": 54,
    "start_time": "2024-07-28T04:19:13.978Z"
   },
   {
    "duration": 15,
    "start_time": "2024-07-28T04:19:14.035Z"
   },
   {
    "duration": 7,
    "start_time": "2024-07-28T04:19:14.053Z"
   },
   {
    "duration": 18,
    "start_time": "2024-07-28T04:19:14.064Z"
   },
   {
    "duration": 6,
    "start_time": "2024-07-28T04:19:14.123Z"
   },
   {
    "duration": 13,
    "start_time": "2024-07-28T04:19:14.134Z"
   },
   {
    "duration": 5,
    "start_time": "2024-07-28T04:19:14.150Z"
   },
   {
    "duration": 16,
    "start_time": "2024-07-28T04:19:14.158Z"
   },
   {
    "duration": 59,
    "start_time": "2024-07-28T04:19:14.177Z"
   },
   {
    "duration": 18,
    "start_time": "2024-07-28T04:19:47.998Z"
   },
   {
    "duration": 1327,
    "start_time": "2024-07-28T04:19:53.280Z"
   },
   {
    "duration": 21,
    "start_time": "2024-07-28T04:19:54.611Z"
   },
   {
    "duration": 14,
    "start_time": "2024-07-28T04:19:54.635Z"
   },
   {
    "duration": 16,
    "start_time": "2024-07-28T04:19:54.653Z"
   },
   {
    "duration": 52,
    "start_time": "2024-07-28T04:19:54.672Z"
   },
   {
    "duration": 16,
    "start_time": "2024-07-28T04:19:54.727Z"
   },
   {
    "duration": 7,
    "start_time": "2024-07-28T04:19:54.746Z"
   },
   {
    "duration": 18,
    "start_time": "2024-07-28T04:19:54.756Z"
   },
   {
    "duration": 47,
    "start_time": "2024-07-28T04:19:54.776Z"
   },
   {
    "duration": 14,
    "start_time": "2024-07-28T04:19:54.828Z"
   },
   {
    "duration": 5,
    "start_time": "2024-07-28T04:19:54.845Z"
   },
   {
    "duration": 15,
    "start_time": "2024-07-28T04:19:54.854Z"
   },
   {
    "duration": 60,
    "start_time": "2024-07-28T04:19:54.872Z"
   },
   {
    "duration": 15,
    "start_time": "2024-07-28T04:21:22.542Z"
   },
   {
    "duration": 309,
    "start_time": "2024-07-30T23:06:21.576Z"
   },
   {
    "duration": 5121,
    "start_time": "2024-07-30T23:06:36.985Z"
   },
   {
    "duration": 26,
    "start_time": "2024-07-30T23:06:42.111Z"
   },
   {
    "duration": 16,
    "start_time": "2024-07-30T23:06:42.140Z"
   },
   {
    "duration": 20,
    "start_time": "2024-07-30T23:06:42.159Z"
   },
   {
    "duration": 23,
    "start_time": "2024-07-30T23:06:42.209Z"
   },
   {
    "duration": 23,
    "start_time": "2024-07-30T23:06:42.234Z"
   },
   {
    "duration": 7,
    "start_time": "2024-07-30T23:06:42.261Z"
   },
   {
    "duration": 49,
    "start_time": "2024-07-30T23:06:42.271Z"
   },
   {
    "duration": 10,
    "start_time": "2024-07-30T23:06:42.323Z"
   },
   {
    "duration": 18,
    "start_time": "2024-07-30T23:06:42.336Z"
   },
   {
    "duration": 6,
    "start_time": "2024-07-30T23:06:42.357Z"
   },
   {
    "duration": 50,
    "start_time": "2024-07-30T23:06:42.367Z"
   },
   {
    "duration": 20,
    "start_time": "2024-07-30T23:06:42.423Z"
   },
   {
    "duration": 13,
    "start_time": "2024-07-30T23:06:42.448Z"
   },
   {
    "duration": 17,
    "start_time": "2024-07-30T23:07:10.562Z"
   },
   {
    "duration": 1393,
    "start_time": "2024-07-31T19:41:56.739Z"
   },
   {
    "duration": 20,
    "start_time": "2024-07-31T19:41:58.137Z"
   },
   {
    "duration": 15,
    "start_time": "2024-07-31T19:41:58.161Z"
   },
   {
    "duration": 18,
    "start_time": "2024-07-31T19:41:58.180Z"
   },
   {
    "duration": 17,
    "start_time": "2024-07-31T19:41:58.232Z"
   },
   {
    "duration": 18,
    "start_time": "2024-07-31T19:41:58.252Z"
   },
   {
    "duration": 8,
    "start_time": "2024-07-31T19:41:58.273Z"
   },
   {
    "duration": 52,
    "start_time": "2024-07-31T19:41:58.283Z"
   },
   {
    "duration": 7,
    "start_time": "2024-07-31T19:41:58.339Z"
   },
   {
    "duration": 14,
    "start_time": "2024-07-31T19:41:58.349Z"
   },
   {
    "duration": 5,
    "start_time": "2024-07-31T19:41:58.366Z"
   },
   {
    "duration": 15,
    "start_time": "2024-07-31T19:41:58.374Z"
   },
   {
    "duration": 16,
    "start_time": "2024-07-31T19:41:58.434Z"
   },
   {
    "duration": 9,
    "start_time": "2024-07-31T19:41:58.456Z"
   },
   {
    "duration": 485,
    "start_time": "2024-07-31T19:47:06.856Z"
   },
   {
    "duration": 10,
    "start_time": "2024-07-31T19:48:09.696Z"
   },
   {
    "duration": 1184,
    "start_time": "2024-07-31T19:48:56.795Z"
   },
   {
    "duration": 1240,
    "start_time": "2024-07-31T19:49:17.613Z"
   },
   {
    "duration": 1194,
    "start_time": "2024-07-31T19:49:41.476Z"
   },
   {
    "duration": 1325,
    "start_time": "2024-07-31T19:49:56.619Z"
   },
   {
    "duration": 1310,
    "start_time": "2024-07-31T19:50:16.653Z"
   },
   {
    "duration": 1244,
    "start_time": "2024-07-31T19:50:51.362Z"
   },
   {
    "duration": 1375,
    "start_time": "2024-07-31T19:51:08.336Z"
   },
   {
    "duration": 1224,
    "start_time": "2024-07-31T19:51:26.045Z"
   },
   {
    "duration": 11,
    "start_time": "2024-07-31T19:52:16.195Z"
   },
   {
    "duration": 11,
    "start_time": "2024-07-31T19:52:33.123Z"
   },
   {
    "duration": 1203,
    "start_time": "2024-07-31T19:53:24.934Z"
   },
   {
    "duration": 1204,
    "start_time": "2024-07-31T19:54:55.761Z"
   },
   {
    "duration": 473,
    "start_time": "2024-07-31T20:00:47.279Z"
   },
   {
    "duration": 425,
    "start_time": "2024-07-31T20:01:42.893Z"
   },
   {
    "duration": 36,
    "start_time": "2024-07-31T20:04:27.716Z"
   },
   {
    "duration": 23,
    "start_time": "2024-07-31T20:04:39.504Z"
   },
   {
    "duration": 10,
    "start_time": "2024-07-31T20:05:01.851Z"
   },
   {
    "duration": 10,
    "start_time": "2024-07-31T20:05:52.258Z"
   },
   {
    "duration": 11,
    "start_time": "2024-07-31T20:06:52.638Z"
   },
   {
    "duration": 11,
    "start_time": "2024-07-31T20:07:03.567Z"
   },
   {
    "duration": 4,
    "start_time": "2024-07-31T20:08:04.682Z"
   },
   {
    "duration": 11,
    "start_time": "2024-07-31T20:08:12.841Z"
   },
   {
    "duration": 382,
    "start_time": "2024-07-31T20:09:11.983Z"
   },
   {
    "duration": 1272,
    "start_time": "2024-07-31T20:09:31.473Z"
   },
   {
    "duration": 1314,
    "start_time": "2024-07-31T20:09:46.589Z"
   },
   {
    "duration": 1348,
    "start_time": "2024-07-31T20:10:02.539Z"
   },
   {
    "duration": 1470,
    "start_time": "2024-07-31T20:10:24.751Z"
   },
   {
    "duration": 1238,
    "start_time": "2024-07-31T20:11:01.155Z"
   },
   {
    "duration": 1383,
    "start_time": "2024-07-31T20:16:10.890Z"
   },
   {
    "duration": 1513,
    "start_time": "2024-07-31T20:16:28.150Z"
   },
   {
    "duration": 1288,
    "start_time": "2024-07-31T20:16:52.853Z"
   },
   {
    "duration": 1239,
    "start_time": "2024-07-31T20:17:10.152Z"
   },
   {
    "duration": 1222,
    "start_time": "2024-07-31T20:17:36.530Z"
   },
   {
    "duration": 1195,
    "start_time": "2024-07-31T20:17:55.109Z"
   },
   {
    "duration": 1310,
    "start_time": "2024-07-31T20:18:19.023Z"
   },
   {
    "duration": 1566,
    "start_time": "2024-07-31T20:18:40.590Z"
   },
   {
    "duration": 1250,
    "start_time": "2024-07-31T20:18:56.990Z"
   },
   {
    "duration": 1163,
    "start_time": "2024-07-31T20:19:14.877Z"
   },
   {
    "duration": 1225,
    "start_time": "2024-07-31T20:19:40.127Z"
   },
   {
    "duration": 1246,
    "start_time": "2024-07-31T20:20:09.830Z"
   },
   {
    "duration": 1216,
    "start_time": "2024-07-31T20:20:22.439Z"
   },
   {
    "duration": 1227,
    "start_time": "2024-07-31T20:20:35.446Z"
   },
   {
    "duration": 328,
    "start_time": "2024-07-31T20:22:31.345Z"
   },
   {
    "duration": 9,
    "start_time": "2024-07-31T20:23:25.118Z"
   },
   {
    "duration": 374,
    "start_time": "2024-07-31T20:23:35.469Z"
   },
   {
    "duration": 10,
    "start_time": "2024-07-31T20:25:07.181Z"
   },
   {
    "duration": 6,
    "start_time": "2024-07-31T20:29:02.073Z"
   },
   {
    "duration": 16,
    "start_time": "2024-07-31T20:29:10.989Z"
   },
   {
    "duration": 26,
    "start_time": "2024-07-31T20:32:14.744Z"
   },
   {
    "duration": 23,
    "start_time": "2024-07-31T20:32:20.874Z"
   },
   {
    "duration": 8,
    "start_time": "2024-07-31T20:32:30.135Z"
   },
   {
    "duration": 17,
    "start_time": "2024-07-31T20:32:37.533Z"
   },
   {
    "duration": 10,
    "start_time": "2024-07-31T20:33:23.677Z"
   },
   {
    "duration": 8,
    "start_time": "2024-07-31T20:33:59.345Z"
   },
   {
    "duration": 9,
    "start_time": "2024-07-31T20:34:19.485Z"
   },
   {
    "duration": 29,
    "start_time": "2024-07-31T20:38:42.806Z"
   },
   {
    "duration": 29,
    "start_time": "2024-07-31T20:38:58.274Z"
   },
   {
    "duration": 9,
    "start_time": "2024-07-31T20:41:16.832Z"
   },
   {
    "duration": 1343,
    "start_time": "2024-07-31T20:41:33.669Z"
   },
   {
    "duration": 9,
    "start_time": "2024-07-31T20:43:27.554Z"
   },
   {
    "duration": 94,
    "start_time": "2024-07-31T20:43:49.480Z"
   },
   {
    "duration": 6,
    "start_time": "2024-07-31T20:44:06.592Z"
   },
   {
    "duration": 9,
    "start_time": "2024-07-31T20:44:12.830Z"
   },
   {
    "duration": 9,
    "start_time": "2024-07-31T20:45:23.845Z"
   },
   {
    "duration": 213,
    "start_time": "2024-07-31T20:45:47.706Z"
   },
   {
    "duration": 81,
    "start_time": "2024-07-31T20:46:28.681Z"
   },
   {
    "duration": 140,
    "start_time": "2024-07-31T20:47:17.927Z"
   },
   {
    "duration": 476,
    "start_time": "2024-07-31T20:47:38.921Z"
   },
   {
    "duration": 24,
    "start_time": "2024-07-31T20:47:54.236Z"
   },
   {
    "duration": 170,
    "start_time": "2024-07-31T20:48:59.282Z"
   },
   {
    "duration": 38,
    "start_time": "2024-07-31T20:49:23.462Z"
   },
   {
    "duration": 5,
    "start_time": "2024-07-31T20:49:54.126Z"
   },
   {
    "duration": 6,
    "start_time": "2024-07-31T20:50:09.016Z"
   },
   {
    "duration": 10,
    "start_time": "2024-07-31T20:50:17.510Z"
   },
   {
    "duration": 11,
    "start_time": "2024-07-31T20:50:59.281Z"
   },
   {
    "duration": 12,
    "start_time": "2024-07-31T20:51:20.138Z"
   },
   {
    "duration": 2214,
    "start_time": "2024-07-31T20:52:10.897Z"
   },
   {
    "duration": 6,
    "start_time": "2024-07-31T20:52:49.781Z"
   },
   {
    "duration": 2209,
    "start_time": "2024-07-31T20:52:59.056Z"
   },
   {
    "duration": 9,
    "start_time": "2024-07-31T20:53:35.686Z"
   },
   {
    "duration": 211,
    "start_time": "2024-07-31T20:53:45.924Z"
   },
   {
    "duration": 10,
    "start_time": "2024-07-31T20:55:25.203Z"
   },
   {
    "duration": 204,
    "start_time": "2024-07-31T20:55:34.597Z"
   },
   {
    "duration": 10,
    "start_time": "2024-07-31T21:43:50.811Z"
   },
   {
    "duration": 14,
    "start_time": "2024-07-31T21:44:03.362Z"
   },
   {
    "duration": 295,
    "start_time": "2024-07-31T21:45:27.020Z"
   },
   {
    "duration": 49,
    "start_time": "2024-07-31T21:45:36.587Z"
   },
   {
    "duration": 47,
    "start_time": "2024-07-31T21:46:18.092Z"
   },
   {
    "duration": 9,
    "start_time": "2024-07-31T21:46:38.438Z"
   },
   {
    "duration": 28,
    "start_time": "2024-07-31T21:47:08.014Z"
   },
   {
    "duration": 20,
    "start_time": "2024-07-31T21:47:24.193Z"
   },
   {
    "duration": 15,
    "start_time": "2024-07-31T21:49:07.911Z"
   },
   {
    "duration": 15,
    "start_time": "2024-07-31T21:49:23.264Z"
   },
   {
    "duration": 11,
    "start_time": "2024-07-31T21:50:04.607Z"
   },
   {
    "duration": 11,
    "start_time": "2024-07-31T21:50:22.494Z"
   },
   {
    "duration": 15,
    "start_time": "2024-07-31T21:51:20.734Z"
   },
   {
    "duration": 715,
    "start_time": "2024-07-31T21:51:43.142Z"
   },
   {
    "duration": 77,
    "start_time": "2024-07-31T21:52:05.052Z"
   },
   {
    "duration": 14,
    "start_time": "2024-07-31T21:52:13.064Z"
   },
   {
    "duration": 114,
    "start_time": "2024-07-31T21:55:53.488Z"
   },
   {
    "duration": 86,
    "start_time": "2024-07-31T21:56:25.306Z"
   },
   {
    "duration": 18,
    "start_time": "2024-07-31T21:56:58.926Z"
   },
   {
    "duration": 28,
    "start_time": "2024-07-31T21:59:29.052Z"
   },
   {
    "duration": 41,
    "start_time": "2024-07-31T22:03:10.217Z"
   },
   {
    "duration": 13,
    "start_time": "2024-07-31T22:03:33.444Z"
   },
   {
    "duration": 15,
    "start_time": "2024-07-31T22:04:49.503Z"
   },
   {
    "duration": 17,
    "start_time": "2024-07-31T22:05:05.645Z"
   },
   {
    "duration": 21,
    "start_time": "2024-07-31T22:05:34.408Z"
   },
   {
    "duration": 16,
    "start_time": "2024-07-31T22:06:10.048Z"
   },
   {
    "duration": 23,
    "start_time": "2024-07-31T22:10:59.378Z"
   },
   {
    "duration": 4,
    "start_time": "2024-07-31T22:11:07.969Z"
   },
   {
    "duration": 9,
    "start_time": "2024-07-31T22:11:21.379Z"
   },
   {
    "duration": 24,
    "start_time": "2024-07-31T22:11:51.840Z"
   },
   {
    "duration": 9,
    "start_time": "2024-07-31T22:12:10.367Z"
   },
   {
    "duration": 14,
    "start_time": "2024-07-31T22:13:17.602Z"
   },
   {
    "duration": 28,
    "start_time": "2024-07-31T22:13:51.504Z"
   },
   {
    "duration": 29,
    "start_time": "2024-07-31T22:14:28.951Z"
   },
   {
    "duration": 87,
    "start_time": "2024-07-31T22:14:36.367Z"
   },
   {
    "duration": 24,
    "start_time": "2024-07-31T22:14:44.393Z"
   },
   {
    "duration": 23,
    "start_time": "2024-07-31T22:14:44.739Z"
   },
   {
    "duration": 17,
    "start_time": "2024-07-31T22:14:55.046Z"
   },
   {
    "duration": 14,
    "start_time": "2024-07-31T22:15:39.404Z"
   },
   {
    "duration": 16,
    "start_time": "2024-07-31T22:16:56.735Z"
   },
   {
    "duration": 14,
    "start_time": "2024-07-31T22:18:14.029Z"
   },
   {
    "duration": 19,
    "start_time": "2024-07-31T22:19:30.880Z"
   },
   {
    "duration": 17,
    "start_time": "2024-07-31T22:21:43.948Z"
   },
   {
    "duration": 18,
    "start_time": "2024-07-31T22:24:56.387Z"
   },
   {
    "duration": 13,
    "start_time": "2024-07-31T22:25:16.444Z"
   },
   {
    "duration": 19,
    "start_time": "2024-07-31T22:25:49.288Z"
   },
   {
    "duration": 18,
    "start_time": "2024-07-31T22:26:37.689Z"
   },
   {
    "duration": 31,
    "start_time": "2024-07-31T22:31:03.891Z"
   },
   {
    "duration": 12,
    "start_time": "2024-07-31T22:31:41.272Z"
   },
   {
    "duration": 218,
    "start_time": "2024-07-31T22:31:41.627Z"
   },
   {
    "duration": 8,
    "start_time": "2024-07-31T22:33:42.486Z"
   },
   {
    "duration": 19,
    "start_time": "2024-07-31T22:33:58.769Z"
   },
   {
    "duration": 23,
    "start_time": "2024-07-31T23:03:54.466Z"
   },
   {
    "duration": 18,
    "start_time": "2024-07-31T23:15:03.605Z"
   },
   {
    "duration": 27,
    "start_time": "2024-07-31T23:17:25.928Z"
   },
   {
    "duration": 57,
    "start_time": "2024-07-31T23:18:24.884Z"
   },
   {
    "duration": 25,
    "start_time": "2024-07-31T23:18:37.425Z"
   },
   {
    "duration": 28,
    "start_time": "2024-07-31T23:19:18.272Z"
   },
   {
    "duration": 12,
    "start_time": "2024-07-31T23:19:47.366Z"
   },
   {
    "duration": 26,
    "start_time": "2024-07-31T23:20:21.834Z"
   },
   {
    "duration": 26,
    "start_time": "2024-07-31T23:20:38.624Z"
   },
   {
    "duration": 24,
    "start_time": "2024-07-31T23:21:29.275Z"
   },
   {
    "duration": 1375,
    "start_time": "2024-07-31T23:22:50.674Z"
   },
   {
    "duration": 18,
    "start_time": "2024-07-31T23:22:52.053Z"
   },
   {
    "duration": 15,
    "start_time": "2024-07-31T23:22:52.074Z"
   },
   {
    "duration": 46,
    "start_time": "2024-07-31T23:22:52.092Z"
   },
   {
    "duration": 18,
    "start_time": "2024-07-31T23:22:52.143Z"
   },
   {
    "duration": 16,
    "start_time": "2024-07-31T23:22:52.164Z"
   },
   {
    "duration": 7,
    "start_time": "2024-07-31T23:22:52.183Z"
   },
   {
    "duration": 52,
    "start_time": "2024-07-31T23:22:52.194Z"
   },
   {
    "duration": 11,
    "start_time": "2024-07-31T23:22:52.248Z"
   },
   {
    "duration": 15,
    "start_time": "2024-07-31T23:22:52.262Z"
   },
   {
    "duration": 5,
    "start_time": "2024-07-31T23:22:52.280Z"
   },
   {
    "duration": 52,
    "start_time": "2024-07-31T23:22:52.288Z"
   },
   {
    "duration": 18,
    "start_time": "2024-07-31T23:22:52.345Z"
   },
   {
    "duration": 10,
    "start_time": "2024-07-31T23:22:52.370Z"
   },
   {
    "duration": 457,
    "start_time": "2024-07-31T23:22:52.384Z"
   },
   {
    "duration": 11,
    "start_time": "2024-07-31T23:22:52.844Z"
   },
   {
    "duration": 1324,
    "start_time": "2024-07-31T23:22:52.859Z"
   },
   {
    "duration": 14,
    "start_time": "2024-07-31T23:22:54.186Z"
   },
   {
    "duration": 31,
    "start_time": "2024-07-31T23:22:54.203Z"
   },
   {
    "duration": 235,
    "start_time": "2024-07-31T23:22:54.237Z"
   },
   {
    "duration": 24,
    "start_time": "2024-07-31T23:22:54.475Z"
   },
   {
    "duration": 663,
    "start_time": "2024-07-31T23:22:54.502Z"
   },
   {
    "duration": 0,
    "start_time": "2024-07-31T23:22:55.167Z"
   },
   {
    "duration": 6,
    "start_time": "2024-07-31T23:23:35.007Z"
   },
   {
    "duration": 22,
    "start_time": "2024-07-31T23:23:54.994Z"
   },
   {
    "duration": 23,
    "start_time": "2024-07-31T23:24:06.095Z"
   },
   {
    "duration": 12,
    "start_time": "2024-07-31T23:24:10.876Z"
   },
   {
    "duration": 300,
    "start_time": "2024-07-31T23:24:12.623Z"
   },
   {
    "duration": 28,
    "start_time": "2024-07-31T23:28:07.030Z"
   },
   {
    "duration": 195,
    "start_time": "2024-07-31T23:28:24.849Z"
   },
   {
    "duration": 12,
    "start_time": "2024-07-31T23:28:33.364Z"
   },
   {
    "duration": 83,
    "start_time": "2024-07-31T23:29:31.293Z"
   },
   {
    "duration": 689,
    "start_time": "2024-07-31T23:31:05.282Z"
   },
   {
    "duration": 130,
    "start_time": "2024-07-31T23:31:23.189Z"
   },
   {
    "duration": 125,
    "start_time": "2024-07-31T23:31:45.451Z"
   },
   {
    "duration": 123,
    "start_time": "2024-07-31T23:32:08.697Z"
   },
   {
    "duration": 126,
    "start_time": "2024-07-31T23:32:46.764Z"
   },
   {
    "duration": 128,
    "start_time": "2024-07-31T23:33:24.885Z"
   },
   {
    "duration": 129,
    "start_time": "2024-07-31T23:33:43.133Z"
   },
   {
    "duration": 68,
    "start_time": "2024-07-31T23:33:50.329Z"
   },
   {
    "duration": 21,
    "start_time": "2024-07-31T23:35:50.022Z"
   },
   {
    "duration": 26,
    "start_time": "2024-07-31T23:36:25.412Z"
   },
   {
    "duration": 22,
    "start_time": "2024-07-31T23:37:04.935Z"
   },
   {
    "duration": 20,
    "start_time": "2024-07-31T23:37:35.732Z"
   },
   {
    "duration": 23,
    "start_time": "2024-07-31T23:37:38.304Z"
   },
   {
    "duration": 18,
    "start_time": "2024-07-31T23:38:37.686Z"
   },
   {
    "duration": 24,
    "start_time": "2024-07-31T23:38:50.734Z"
   },
   {
    "duration": 23,
    "start_time": "2024-07-31T23:39:28.744Z"
   },
   {
    "duration": 10,
    "start_time": "2024-08-01T00:26:27.618Z"
   },
   {
    "duration": 18,
    "start_time": "2024-08-01T00:26:43.800Z"
   },
   {
    "duration": 12,
    "start_time": "2024-08-01T00:27:19.912Z"
   },
   {
    "duration": 12,
    "start_time": "2024-08-01T00:28:09.769Z"
   },
   {
    "duration": 11,
    "start_time": "2024-08-01T00:28:36.551Z"
   },
   {
    "duration": 13,
    "start_time": "2024-08-01T00:28:43.240Z"
   },
   {
    "duration": 12,
    "start_time": "2024-08-01T00:29:38.154Z"
   },
   {
    "duration": 606,
    "start_time": "2024-08-01T02:55:23.196Z"
   },
   {
    "duration": 170,
    "start_time": "2024-08-01T02:55:38.688Z"
   },
   {
    "duration": 396,
    "start_time": "2024-08-01T02:56:08.689Z"
   },
   {
    "duration": 78,
    "start_time": "2024-08-01T02:58:04.033Z"
   },
   {
    "duration": 5056,
    "start_time": "2024-08-01T05:30:15.121Z"
   },
   {
    "duration": 22,
    "start_time": "2024-08-01T05:30:20.180Z"
   },
   {
    "duration": 17,
    "start_time": "2024-08-01T05:30:20.206Z"
   },
   {
    "duration": 19,
    "start_time": "2024-08-01T05:30:20.226Z"
   },
   {
    "duration": 53,
    "start_time": "2024-08-01T05:30:20.248Z"
   },
   {
    "duration": 19,
    "start_time": "2024-08-01T05:30:20.304Z"
   },
   {
    "duration": 7,
    "start_time": "2024-08-01T05:30:20.325Z"
   },
   {
    "duration": 16,
    "start_time": "2024-08-01T05:30:20.335Z"
   },
   {
    "duration": 6,
    "start_time": "2024-08-01T05:30:20.391Z"
   },
   {
    "duration": 17,
    "start_time": "2024-08-01T05:30:20.403Z"
   },
   {
    "duration": 6,
    "start_time": "2024-08-01T05:30:20.423Z"
   },
   {
    "duration": 63,
    "start_time": "2024-08-01T05:30:20.434Z"
   },
   {
    "duration": 15,
    "start_time": "2024-08-01T05:30:20.502Z"
   },
   {
    "duration": 11,
    "start_time": "2024-08-01T05:30:20.520Z"
   },
   {
    "duration": 461,
    "start_time": "2024-08-01T05:30:20.534Z"
   },
   {
    "duration": 12,
    "start_time": "2024-08-01T05:30:20.998Z"
   },
   {
    "duration": 1316,
    "start_time": "2024-08-01T05:30:21.013Z"
   },
   {
    "duration": 14,
    "start_time": "2024-08-01T05:30:22.332Z"
   },
   {
    "duration": 41,
    "start_time": "2024-08-01T05:30:22.349Z"
   },
   {
    "duration": 238,
    "start_time": "2024-08-01T05:30:22.393Z"
   },
   {
    "duration": 26,
    "start_time": "2024-08-01T05:30:22.634Z"
   },
   {
    "duration": 38,
    "start_time": "2024-08-01T05:30:22.664Z"
   },
   {
    "duration": 264,
    "start_time": "2024-08-01T05:30:22.706Z"
   },
   {
    "duration": 28,
    "start_time": "2024-08-01T05:30:22.990Z"
   },
   {
    "duration": 71,
    "start_time": "2024-08-01T05:30:23.022Z"
   },
   {
    "duration": 17,
    "start_time": "2024-08-01T05:30:23.097Z"
   },
   {
    "duration": 433,
    "start_time": "2024-08-01T05:30:23.117Z"
   },
   {
    "duration": 76,
    "start_time": "2024-08-01T05:49:21.987Z"
   },
   {
    "duration": 329,
    "start_time": "2024-08-01T20:01:30.585Z"
   },
   {
    "duration": 4985,
    "start_time": "2024-08-01T20:01:38.380Z"
   },
   {
    "duration": 22,
    "start_time": "2024-08-01T20:01:43.369Z"
   },
   {
    "duration": 33,
    "start_time": "2024-08-01T20:01:43.393Z"
   },
   {
    "duration": 18,
    "start_time": "2024-08-01T20:01:43.431Z"
   },
   {
    "duration": 21,
    "start_time": "2024-08-01T20:01:43.452Z"
   },
   {
    "duration": 20,
    "start_time": "2024-08-01T20:01:43.477Z"
   },
   {
    "duration": 7,
    "start_time": "2024-08-01T20:01:43.527Z"
   },
   {
    "duration": 16,
    "start_time": "2024-08-01T20:01:43.537Z"
   },
   {
    "duration": 6,
    "start_time": "2024-08-01T20:01:43.556Z"
   },
   {
    "duration": 14,
    "start_time": "2024-08-01T20:01:43.568Z"
   },
   {
    "duration": 8,
    "start_time": "2024-08-01T20:01:43.628Z"
   },
   {
    "duration": 17,
    "start_time": "2024-08-01T20:01:43.639Z"
   },
   {
    "duration": 19,
    "start_time": "2024-08-01T20:01:43.659Z"
   },
   {
    "duration": 49,
    "start_time": "2024-08-01T20:01:43.681Z"
   },
   {
    "duration": 432,
    "start_time": "2024-08-01T20:01:43.734Z"
   },
   {
    "duration": 12,
    "start_time": "2024-08-01T20:01:44.170Z"
   },
   {
    "duration": 1227,
    "start_time": "2024-08-01T20:01:44.185Z"
   },
   {
    "duration": 17,
    "start_time": "2024-08-01T20:01:45.414Z"
   },
   {
    "duration": 10,
    "start_time": "2024-08-01T20:01:45.434Z"
   },
   {
    "duration": 236,
    "start_time": "2024-08-01T20:01:45.448Z"
   },
   {
    "duration": 23,
    "start_time": "2024-08-01T20:01:45.687Z"
   },
   {
    "duration": 88,
    "start_time": "2024-08-01T20:01:45.727Z"
   },
   {
    "duration": 238,
    "start_time": "2024-08-01T20:01:45.828Z"
   },
   {
    "duration": 61,
    "start_time": "2024-08-01T20:01:46.069Z"
   },
   {
    "duration": 14,
    "start_time": "2024-08-01T20:01:46.133Z"
   },
   {
    "duration": 15,
    "start_time": "2024-08-01T20:01:46.152Z"
   },
   {
    "duration": 280,
    "start_time": "2024-08-01T20:01:46.225Z"
   },
   {
    "duration": 11,
    "start_time": "2024-08-01T20:02:41.107Z"
   },
   {
    "duration": 6,
    "start_time": "2024-08-01T20:03:36.377Z"
   },
   {
    "duration": 9,
    "start_time": "2024-08-01T20:09:57.995Z"
   },
   {
    "duration": 11,
    "start_time": "2024-08-01T20:10:19.132Z"
   },
   {
    "duration": 1385,
    "start_time": "2024-08-01T20:10:23.633Z"
   },
   {
    "duration": 19,
    "start_time": "2024-08-01T20:10:25.021Z"
   },
   {
    "duration": 16,
    "start_time": "2024-08-01T20:10:25.043Z"
   },
   {
    "duration": 15,
    "start_time": "2024-08-01T20:10:25.062Z"
   },
   {
    "duration": 54,
    "start_time": "2024-08-01T20:10:25.080Z"
   },
   {
    "duration": 16,
    "start_time": "2024-08-01T20:10:25.138Z"
   },
   {
    "duration": 8,
    "start_time": "2024-08-01T20:10:25.158Z"
   },
   {
    "duration": 19,
    "start_time": "2024-08-01T20:10:25.170Z"
   },
   {
    "duration": 7,
    "start_time": "2024-08-01T20:10:25.228Z"
   },
   {
    "duration": 14,
    "start_time": "2024-08-01T20:10:25.241Z"
   },
   {
    "duration": 6,
    "start_time": "2024-08-01T20:10:25.258Z"
   },
   {
    "duration": 59,
    "start_time": "2024-08-01T20:10:25.267Z"
   },
   {
    "duration": 16,
    "start_time": "2024-08-01T20:10:25.329Z"
   },
   {
    "duration": 5,
    "start_time": "2024-08-01T20:10:25.348Z"
   },
   {
    "duration": 11,
    "start_time": "2024-08-01T20:10:25.356Z"
   },
   {
    "duration": 477,
    "start_time": "2024-08-01T20:10:25.370Z"
   },
   {
    "duration": 12,
    "start_time": "2024-08-01T20:10:25.850Z"
   },
   {
    "duration": 1278,
    "start_time": "2024-08-01T20:10:25.865Z"
   },
   {
    "duration": 14,
    "start_time": "2024-08-01T20:10:27.146Z"
   },
   {
    "duration": 9,
    "start_time": "2024-08-01T20:10:27.163Z"
   },
   {
    "duration": 252,
    "start_time": "2024-08-01T20:10:27.176Z"
   },
   {
    "duration": 24,
    "start_time": "2024-08-01T20:10:27.431Z"
   },
   {
    "duration": 15,
    "start_time": "2024-08-01T20:10:27.459Z"
   },
   {
    "duration": 257,
    "start_time": "2024-08-01T20:10:27.478Z"
   },
   {
    "duration": 26,
    "start_time": "2024-08-01T20:10:27.738Z"
   },
   {
    "duration": 69,
    "start_time": "2024-08-01T20:10:27.767Z"
   },
   {
    "duration": 15,
    "start_time": "2024-08-01T20:10:27.841Z"
   },
   {
    "duration": 402,
    "start_time": "2024-08-01T20:10:27.864Z"
   },
   {
    "duration": 9,
    "start_time": "2024-08-01T20:11:12.351Z"
   },
   {
    "duration": 9,
    "start_time": "2024-08-01T20:11:41.069Z"
   },
   {
    "duration": 12,
    "start_time": "2024-08-01T20:11:58.970Z"
   },
   {
    "duration": 16,
    "start_time": "2024-08-01T20:12:05.848Z"
   },
   {
    "duration": 12,
    "start_time": "2024-08-01T20:13:18.017Z"
   },
   {
    "duration": 14,
    "start_time": "2024-08-01T20:14:21.026Z"
   },
   {
    "duration": 14,
    "start_time": "2024-08-01T20:17:38.807Z"
   },
   {
    "duration": 16,
    "start_time": "2024-08-01T20:18:06.051Z"
   },
   {
    "duration": 13,
    "start_time": "2024-08-01T20:18:35.187Z"
   },
   {
    "duration": 20,
    "start_time": "2024-08-01T20:43:00.910Z"
   },
   {
    "duration": 21,
    "start_time": "2024-08-01T20:44:10.091Z"
   },
   {
    "duration": 1385,
    "start_time": "2024-08-01T21:51:23.226Z"
   },
   {
    "duration": 23,
    "start_time": "2024-08-01T21:51:24.614Z"
   },
   {
    "duration": 15,
    "start_time": "2024-08-01T21:51:24.640Z"
   },
   {
    "duration": 16,
    "start_time": "2024-08-01T21:51:24.659Z"
   },
   {
    "duration": 51,
    "start_time": "2024-08-01T21:51:24.678Z"
   },
   {
    "duration": 18,
    "start_time": "2024-08-01T21:51:24.731Z"
   },
   {
    "duration": 7,
    "start_time": "2024-08-01T21:51:24.752Z"
   },
   {
    "duration": 23,
    "start_time": "2024-08-01T21:51:24.763Z"
   },
   {
    "duration": 40,
    "start_time": "2024-08-01T21:51:24.790Z"
   },
   {
    "duration": 14,
    "start_time": "2024-08-01T21:51:24.838Z"
   },
   {
    "duration": 5,
    "start_time": "2024-08-01T21:51:24.855Z"
   },
   {
    "duration": 14,
    "start_time": "2024-08-01T21:51:24.864Z"
   },
   {
    "duration": 60,
    "start_time": "2024-08-01T21:51:24.881Z"
   },
   {
    "duration": 8,
    "start_time": "2024-08-01T21:51:24.945Z"
   },
   {
    "duration": 12,
    "start_time": "2024-08-01T21:51:24.959Z"
   },
   {
    "duration": 467,
    "start_time": "2024-08-01T21:51:24.975Z"
   },
   {
    "duration": 15,
    "start_time": "2024-08-01T21:51:25.445Z"
   },
   {
    "duration": 1597,
    "start_time": "2024-08-01T21:51:25.463Z"
   },
   {
    "duration": 13,
    "start_time": "2024-08-01T21:51:27.063Z"
   },
   {
    "duration": 12,
    "start_time": "2024-08-01T21:51:27.080Z"
   },
   {
    "duration": 227,
    "start_time": "2024-08-01T21:51:27.125Z"
   },
   {
    "duration": 31,
    "start_time": "2024-08-01T21:51:27.359Z"
   },
   {
    "duration": 33,
    "start_time": "2024-08-01T21:51:27.393Z"
   },
   {
    "duration": 267,
    "start_time": "2024-08-01T21:51:27.432Z"
   },
   {
    "duration": 51,
    "start_time": "2024-08-01T21:51:27.702Z"
   },
   {
    "duration": 74,
    "start_time": "2024-08-01T21:51:27.758Z"
   },
   {
    "duration": 23,
    "start_time": "2024-08-01T21:51:27.836Z"
   },
   {
    "duration": 392,
    "start_time": "2024-08-01T21:51:27.866Z"
   },
   {
    "duration": 600,
    "start_time": "2024-08-01T21:51:28.261Z"
   },
   {
    "duration": 10,
    "start_time": "2024-08-01T21:51:51.827Z"
   },
   {
    "duration": 6,
    "start_time": "2024-08-01T23:06:12.667Z"
   },
   {
    "duration": 8,
    "start_time": "2024-08-01T23:07:29.473Z"
   },
   {
    "duration": 6,
    "start_time": "2024-08-01T23:07:49.723Z"
   },
   {
    "duration": 7,
    "start_time": "2024-08-01T23:08:35.215Z"
   },
   {
    "duration": 12,
    "start_time": "2024-08-02T00:48:30.001Z"
   },
   {
    "duration": 12,
    "start_time": "2024-08-02T00:48:39.099Z"
   },
   {
    "duration": 6,
    "start_time": "2024-08-02T00:51:46.012Z"
   },
   {
    "duration": 5,
    "start_time": "2024-08-02T00:52:00.092Z"
   },
   {
    "duration": 30,
    "start_time": "2024-08-02T00:52:10.720Z"
   },
   {
    "duration": 6,
    "start_time": "2024-08-02T00:52:24.678Z"
   },
   {
    "duration": 25,
    "start_time": "2024-08-02T00:52:44.500Z"
   },
   {
    "duration": 4,
    "start_time": "2024-08-02T00:52:53.803Z"
   },
   {
    "duration": 24,
    "start_time": "2024-08-02T00:53:13.468Z"
   },
   {
    "duration": 6,
    "start_time": "2024-08-02T00:53:24.254Z"
   },
   {
    "duration": 8,
    "start_time": "2024-08-02T00:53:52.162Z"
   },
   {
    "duration": 9,
    "start_time": "2024-08-02T00:56:53.477Z"
   },
   {
    "duration": 9,
    "start_time": "2024-08-02T01:05:54.937Z"
   },
   {
    "duration": 12,
    "start_time": "2024-08-02T01:06:04.244Z"
   },
   {
    "duration": 5082,
    "start_time": "2024-08-04T00:38:46.572Z"
   },
   {
    "duration": 21,
    "start_time": "2024-08-04T00:38:51.659Z"
   },
   {
    "duration": 32,
    "start_time": "2024-08-04T00:38:51.683Z"
   },
   {
    "duration": 7,
    "start_time": "2024-08-04T00:38:51.718Z"
   },
   {
    "duration": 14,
    "start_time": "2024-08-04T00:38:51.730Z"
   },
   {
    "duration": 17,
    "start_time": "2024-08-04T00:38:51.748Z"
   },
   {
    "duration": 53,
    "start_time": "2024-08-04T00:38:51.768Z"
   },
   {
    "duration": 19,
    "start_time": "2024-08-04T00:38:51.824Z"
   },
   {
    "duration": 6,
    "start_time": "2024-08-04T00:38:51.846Z"
   },
   {
    "duration": 16,
    "start_time": "2024-08-04T00:38:51.855Z"
   },
   {
    "duration": 6,
    "start_time": "2024-08-04T00:38:51.910Z"
   },
   {
    "duration": 14,
    "start_time": "2024-08-04T00:38:51.919Z"
   },
   {
    "duration": 5,
    "start_time": "2024-08-04T00:38:51.936Z"
   },
   {
    "duration": 13,
    "start_time": "2024-08-04T00:38:51.948Z"
   },
   {
    "duration": 17,
    "start_time": "2024-08-04T00:38:52.009Z"
   },
   {
    "duration": 6,
    "start_time": "2024-08-04T00:38:52.031Z"
   },
   {
    "duration": 12,
    "start_time": "2024-08-04T00:38:52.041Z"
   },
   {
    "duration": 456,
    "start_time": "2024-08-04T00:38:52.057Z"
   },
   {
    "duration": 12,
    "start_time": "2024-08-04T00:38:52.517Z"
   },
   {
    "duration": 1307,
    "start_time": "2024-08-04T00:38:52.533Z"
   },
   {
    "duration": 12,
    "start_time": "2024-08-04T00:38:53.843Z"
   },
   {
    "duration": 10,
    "start_time": "2024-08-04T00:38:53.858Z"
   },
   {
    "duration": 238,
    "start_time": "2024-08-04T00:38:53.871Z"
   },
   {
    "duration": 27,
    "start_time": "2024-08-04T00:38:54.112Z"
   },
   {
    "duration": 14,
    "start_time": "2024-08-04T00:38:54.142Z"
   },
   {
    "duration": 258,
    "start_time": "2024-08-04T00:38:54.165Z"
   },
   {
    "duration": 23,
    "start_time": "2024-08-04T00:38:54.427Z"
   },
   {
    "duration": 78,
    "start_time": "2024-08-04T00:38:54.453Z"
   },
   {
    "duration": 25,
    "start_time": "2024-08-04T00:38:54.535Z"
   },
   {
    "duration": 369,
    "start_time": "2024-08-04T00:38:54.612Z"
   },
   {
    "duration": 23,
    "start_time": "2024-08-04T00:38:54.984Z"
   },
   {
    "duration": 7,
    "start_time": "2024-08-04T00:38:55.010Z"
   },
   {
    "duration": 12,
    "start_time": "2024-08-04T00:38:55.020Z"
   },
   {
    "duration": 7,
    "start_time": "2024-08-04T00:38:55.035Z"
   },
   {
    "duration": 5,
    "start_time": "2024-08-04T01:32:16.458Z"
   },
   {
    "duration": 26,
    "start_time": "2024-08-04T01:32:17.358Z"
   },
   {
    "duration": 11,
    "start_time": "2024-08-04T01:32:17.839Z"
   },
   {
    "duration": 7,
    "start_time": "2024-08-04T01:32:18.344Z"
   },
   {
    "duration": 17,
    "start_time": "2024-08-04T01:32:18.830Z"
   },
   {
    "duration": 22,
    "start_time": "2024-08-04T01:32:20.137Z"
   },
   {
    "duration": 19,
    "start_time": "2024-08-04T01:32:20.652Z"
   },
   {
    "duration": 1371,
    "start_time": "2024-08-04T01:32:21.100Z"
   },
   {
    "duration": 0,
    "start_time": "2024-08-04T01:32:22.475Z"
   },
   {
    "duration": 0,
    "start_time": "2024-08-04T01:32:22.477Z"
   },
   {
    "duration": 15,
    "start_time": "2024-08-04T01:32:23.022Z"
   },
   {
    "duration": 6,
    "start_time": "2024-08-04T01:32:23.404Z"
   },
   {
    "duration": 14,
    "start_time": "2024-08-04T01:32:23.856Z"
   },
   {
    "duration": 4,
    "start_time": "2024-08-04T01:32:24.463Z"
   },
   {
    "duration": 18,
    "start_time": "2024-08-04T01:32:24.900Z"
   },
   {
    "duration": 15,
    "start_time": "2024-08-04T01:32:25.336Z"
   },
   {
    "duration": 5,
    "start_time": "2024-08-04T01:32:26.881Z"
   },
   {
    "duration": 11,
    "start_time": "2024-08-04T01:32:27.317Z"
   },
   {
    "duration": 376,
    "start_time": "2024-08-04T01:32:27.940Z"
   },
   {
    "duration": 12,
    "start_time": "2024-08-04T01:32:28.406Z"
   },
   {
    "duration": 1228,
    "start_time": "2024-08-04T01:32:28.878Z"
   },
   {
    "duration": 13,
    "start_time": "2024-08-04T01:32:30.110Z"
   },
   {
    "duration": 11,
    "start_time": "2024-08-04T01:32:30.127Z"
   },
   {
    "duration": 214,
    "start_time": "2024-08-04T01:32:30.894Z"
   },
   {
    "duration": 26,
    "start_time": "2024-08-04T01:32:31.112Z"
   },
   {
    "duration": 14,
    "start_time": "2024-08-04T01:32:31.697Z"
   },
   {
    "duration": 20,
    "start_time": "2024-08-04T01:32:32.688Z"
   },
   {
    "duration": 23,
    "start_time": "2024-08-04T01:32:33.236Z"
   },
   {
    "duration": 22,
    "start_time": "2024-08-04T01:32:33.856Z"
   },
   {
    "duration": 21,
    "start_time": "2024-08-04T01:32:34.416Z"
   },
   {
    "duration": 76,
    "start_time": "2024-08-04T01:32:34.963Z"
   },
   {
    "duration": 11,
    "start_time": "2024-08-04T01:32:35.878Z"
   },
   {
    "duration": 6,
    "start_time": "2024-08-04T01:32:36.125Z"
   },
   {
    "duration": 8,
    "start_time": "2024-08-04T01:32:37.203Z"
   },
   {
    "duration": 8,
    "start_time": "2024-08-04T01:32:37.214Z"
   },
   {
    "duration": 7,
    "start_time": "2024-08-04T01:35:12.257Z"
   },
   {
    "duration": 11,
    "start_time": "2024-08-04T02:50:44.515Z"
   },
   {
    "duration": 13,
    "start_time": "2024-08-04T02:51:49.830Z"
   },
   {
    "duration": 13,
    "start_time": "2024-08-04T02:52:27.399Z"
   },
   {
    "duration": 13,
    "start_time": "2024-08-04T03:22:36.144Z"
   },
   {
    "duration": 197,
    "start_time": "2024-08-04T03:27:48.000Z"
   },
   {
    "duration": 20,
    "start_time": "2024-08-04T03:31:46.089Z"
   },
   {
    "duration": 22,
    "start_time": "2024-08-04T03:55:19.466Z"
   },
   {
    "duration": 1358,
    "start_time": "2024-08-04T03:56:56.377Z"
   },
   {
    "duration": 21,
    "start_time": "2024-08-04T03:56:57.738Z"
   },
   {
    "duration": 15,
    "start_time": "2024-08-04T03:56:57.762Z"
   },
   {
    "duration": 7,
    "start_time": "2024-08-04T03:56:57.808Z"
   },
   {
    "duration": 12,
    "start_time": "2024-08-04T03:56:57.818Z"
   },
   {
    "duration": 18,
    "start_time": "2024-08-04T03:56:57.834Z"
   },
   {
    "duration": 55,
    "start_time": "2024-08-04T03:56:57.855Z"
   },
   {
    "duration": 8,
    "start_time": "2024-08-04T03:56:57.913Z"
   },
   {
    "duration": 18,
    "start_time": "2024-08-04T03:56:57.924Z"
   },
   {
    "duration": 7,
    "start_time": "2024-08-04T03:56:57.948Z"
   },
   {
    "duration": 61,
    "start_time": "2024-08-04T03:56:57.959Z"
   },
   {
    "duration": 12,
    "start_time": "2024-08-04T03:56:58.024Z"
   },
   {
    "duration": 21,
    "start_time": "2024-08-04T03:56:58.039Z"
   },
   {
    "duration": 6,
    "start_time": "2024-08-04T03:56:58.063Z"
   },
   {
    "duration": 45,
    "start_time": "2024-08-04T03:56:58.072Z"
   },
   {
    "duration": 16,
    "start_time": "2024-08-04T03:56:58.121Z"
   },
   {
    "duration": 6,
    "start_time": "2024-08-04T03:56:58.140Z"
   },
   {
    "duration": 11,
    "start_time": "2024-08-04T03:56:58.149Z"
   },
   {
    "duration": 425,
    "start_time": "2024-08-04T03:56:58.208Z"
   },
   {
    "duration": 10,
    "start_time": "2024-08-04T03:56:58.637Z"
   },
   {
    "duration": 1284,
    "start_time": "2024-08-04T03:56:58.651Z"
   },
   {
    "duration": 12,
    "start_time": "2024-08-04T03:56:59.939Z"
   },
   {
    "duration": 10,
    "start_time": "2024-08-04T03:56:59.954Z"
   },
   {
    "duration": 241,
    "start_time": "2024-08-04T03:56:59.967Z"
   },
   {
    "duration": 23,
    "start_time": "2024-08-04T03:57:00.212Z"
   },
   {
    "duration": 14,
    "start_time": "2024-08-04T03:57:00.238Z"
   },
   {
    "duration": 260,
    "start_time": "2024-08-04T03:57:00.254Z"
   },
   {
    "duration": 22,
    "start_time": "2024-08-04T03:57:00.522Z"
   },
   {
    "duration": 77,
    "start_time": "2024-08-04T03:57:00.547Z"
   },
   {
    "duration": 22,
    "start_time": "2024-08-04T03:57:00.628Z"
   },
   {
    "duration": 390,
    "start_time": "2024-08-04T03:57:00.652Z"
   },
   {
    "duration": 11,
    "start_time": "2024-08-04T03:57:01.046Z"
   },
   {
    "duration": 6,
    "start_time": "2024-08-04T03:57:01.060Z"
   },
   {
    "duration": 7,
    "start_time": "2024-08-04T03:57:01.069Z"
   },
   {
    "duration": 8,
    "start_time": "2024-08-04T03:57:01.110Z"
   },
   {
    "duration": 27,
    "start_time": "2024-08-04T03:58:14.536Z"
   },
   {
    "duration": 25,
    "start_time": "2024-08-04T04:01:44.812Z"
   },
   {
    "duration": 515,
    "start_time": "2024-08-04T04:05:34.479Z"
   },
   {
    "duration": 18,
    "start_time": "2024-08-04T04:05:47.837Z"
   },
   {
    "duration": 18,
    "start_time": "2024-08-04T04:06:01.358Z"
   },
   {
    "duration": 25,
    "start_time": "2024-08-04T04:06:39.370Z"
   },
   {
    "duration": 24,
    "start_time": "2024-08-04T04:07:23.117Z"
   },
   {
    "duration": 22,
    "start_time": "2024-08-04T04:09:00.480Z"
   },
   {
    "duration": 939,
    "start_time": "2024-08-04T04:13:53.479Z"
   },
   {
    "duration": 1513,
    "start_time": "2024-08-04T04:14:15.001Z"
   },
   {
    "duration": 21,
    "start_time": "2024-08-04T04:14:16.518Z"
   },
   {
    "duration": 16,
    "start_time": "2024-08-04T04:14:16.541Z"
   },
   {
    "duration": 8,
    "start_time": "2024-08-04T04:14:16.562Z"
   },
   {
    "duration": 48,
    "start_time": "2024-08-04T04:14:16.573Z"
   },
   {
    "duration": 19,
    "start_time": "2024-08-04T04:14:16.626Z"
   },
   {
    "duration": 17,
    "start_time": "2024-08-04T04:14:16.649Z"
   },
   {
    "duration": 8,
    "start_time": "2024-08-04T04:14:16.710Z"
   },
   {
    "duration": 19,
    "start_time": "2024-08-04T04:14:16.722Z"
   },
   {
    "duration": 7,
    "start_time": "2024-08-04T04:14:16.748Z"
   },
   {
    "duration": 58,
    "start_time": "2024-08-04T04:14:16.758Z"
   },
   {
    "duration": 7,
    "start_time": "2024-08-04T04:14:16.819Z"
   },
   {
    "duration": 15,
    "start_time": "2024-08-04T04:14:16.829Z"
   },
   {
    "duration": 6,
    "start_time": "2024-08-04T04:14:16.847Z"
   },
   {
    "duration": 59,
    "start_time": "2024-08-04T04:14:16.856Z"
   },
   {
    "duration": 17,
    "start_time": "2024-08-04T04:14:16.918Z"
   },
   {
    "duration": 7,
    "start_time": "2024-08-04T04:14:16.937Z"
   },
   {
    "duration": 11,
    "start_time": "2024-08-04T04:14:16.947Z"
   },
   {
    "duration": 491,
    "start_time": "2024-08-04T04:14:16.962Z"
   },
   {
    "duration": 12,
    "start_time": "2024-08-04T04:14:17.457Z"
   },
   {
    "duration": 1354,
    "start_time": "2024-08-04T04:14:17.473Z"
   },
   {
    "duration": 14,
    "start_time": "2024-08-04T04:14:18.831Z"
   },
   {
    "duration": 12,
    "start_time": "2024-08-04T04:14:18.848Z"
   },
   {
    "duration": 255,
    "start_time": "2024-08-04T04:14:18.868Z"
   },
   {
    "duration": 408,
    "start_time": "2024-08-04T04:14:19.126Z"
   },
   {
    "duration": 0,
    "start_time": "2024-08-04T04:14:19.538Z"
   },
   {
    "duration": 0,
    "start_time": "2024-08-04T04:14:19.539Z"
   },
   {
    "duration": 0,
    "start_time": "2024-08-04T04:14:19.541Z"
   },
   {
    "duration": 0,
    "start_time": "2024-08-04T04:14:19.543Z"
   },
   {
    "duration": 0,
    "start_time": "2024-08-04T04:14:19.545Z"
   },
   {
    "duration": 0,
    "start_time": "2024-08-04T04:14:19.547Z"
   },
   {
    "duration": 0,
    "start_time": "2024-08-04T04:14:19.550Z"
   },
   {
    "duration": 0,
    "start_time": "2024-08-04T04:14:19.553Z"
   },
   {
    "duration": 0,
    "start_time": "2024-08-04T04:14:19.555Z"
   },
   {
    "duration": 0,
    "start_time": "2024-08-04T04:14:19.558Z"
   },
   {
    "duration": 24,
    "start_time": "2024-08-04T04:14:58.644Z"
   },
   {
    "duration": 890,
    "start_time": "2024-08-04T04:15:10.131Z"
   },
   {
    "duration": 16,
    "start_time": "2024-08-04T04:16:03.213Z"
   },
   {
    "duration": 248,
    "start_time": "2024-08-04T04:16:08.990Z"
   },
   {
    "duration": 37,
    "start_time": "2024-08-04T04:18:08.093Z"
   },
   {
    "duration": 36,
    "start_time": "2024-08-04T04:20:39.712Z"
   },
   {
    "duration": 14,
    "start_time": "2024-08-04T04:22:53.699Z"
   },
   {
    "duration": 947,
    "start_time": "2024-08-04T04:23:04.180Z"
   },
   {
    "duration": 31,
    "start_time": "2024-08-04T04:24:37.764Z"
   },
   {
    "duration": 5,
    "start_time": "2024-08-04T04:24:51.872Z"
   },
   {
    "duration": 164,
    "start_time": "2024-08-04T04:24:53.836Z"
   },
   {
    "duration": 26,
    "start_time": "2024-08-04T04:27:13.131Z"
   },
   {
    "duration": 11,
    "start_time": "2024-08-04T04:28:47.861Z"
   },
   {
    "duration": 27,
    "start_time": "2024-08-04T04:29:13.414Z"
   },
   {
    "duration": 13,
    "start_time": "2024-08-04T04:30:24.498Z"
   },
   {
    "duration": 15,
    "start_time": "2024-08-04T04:30:46.641Z"
   },
   {
    "duration": 27,
    "start_time": "2024-08-04T04:30:49.293Z"
   },
   {
    "duration": 5,
    "start_time": "2024-08-04T04:31:50.992Z"
   },
   {
    "duration": 161,
    "start_time": "2024-08-04T04:31:56.281Z"
   },
   {
    "duration": 5,
    "start_time": "2024-08-04T04:32:32.824Z"
   },
   {
    "duration": 163,
    "start_time": "2024-08-04T04:32:47.133Z"
   },
   {
    "duration": 26,
    "start_time": "2024-08-04T04:33:24.059Z"
   },
   {
    "duration": 5,
    "start_time": "2024-08-04T04:34:06.814Z"
   },
   {
    "duration": 170,
    "start_time": "2024-08-04T04:34:14.970Z"
   },
   {
    "duration": 29,
    "start_time": "2024-08-04T04:36:31.418Z"
   },
   {
    "duration": 5,
    "start_time": "2024-08-04T04:37:21.173Z"
   },
   {
    "duration": 25,
    "start_time": "2024-08-04T04:37:22.362Z"
   },
   {
    "duration": 15,
    "start_time": "2024-08-04T04:40:16.600Z"
   },
   {
    "duration": 41,
    "start_time": "2024-08-04T04:40:17.580Z"
   },
   {
    "duration": 30,
    "start_time": "2024-08-04T04:40:51.598Z"
   },
   {
    "duration": 519,
    "start_time": "2024-08-04T04:41:52.446Z"
   },
   {
    "duration": 62,
    "start_time": "2024-08-04T04:42:17.145Z"
   },
   {
    "duration": 5035,
    "start_time": "2024-08-04T17:45:55.145Z"
   },
   {
    "duration": 27,
    "start_time": "2024-08-04T17:46:00.183Z"
   },
   {
    "duration": 14,
    "start_time": "2024-08-04T17:46:00.214Z"
   },
   {
    "duration": 8,
    "start_time": "2024-08-04T17:46:00.232Z"
   },
   {
    "duration": 49,
    "start_time": "2024-08-04T17:46:00.246Z"
   },
   {
    "duration": 18,
    "start_time": "2024-08-04T17:46:00.299Z"
   },
   {
    "duration": 18,
    "start_time": "2024-08-04T17:46:00.320Z"
   },
   {
    "duration": 49,
    "start_time": "2024-08-04T17:46:00.341Z"
   },
   {
    "duration": 20,
    "start_time": "2024-08-04T17:46:00.394Z"
   },
   {
    "duration": 6,
    "start_time": "2024-08-04T17:46:00.417Z"
   },
   {
    "duration": 18,
    "start_time": "2024-08-04T17:46:00.426Z"
   },
   {
    "duration": 7,
    "start_time": "2024-08-04T17:46:00.447Z"
   },
   {
    "duration": 14,
    "start_time": "2024-08-04T17:46:00.492Z"
   },
   {
    "duration": 5,
    "start_time": "2024-08-04T17:46:00.512Z"
   },
   {
    "duration": 17,
    "start_time": "2024-08-04T17:46:00.521Z"
   },
   {
    "duration": 59,
    "start_time": "2024-08-04T17:46:00.541Z"
   },
   {
    "duration": 6,
    "start_time": "2024-08-04T17:46:00.603Z"
   },
   {
    "duration": 11,
    "start_time": "2024-08-04T17:46:00.613Z"
   },
   {
    "duration": 464,
    "start_time": "2024-08-04T17:46:00.627Z"
   },
   {
    "duration": 12,
    "start_time": "2024-08-04T17:46:01.095Z"
   },
   {
    "duration": 1261,
    "start_time": "2024-08-04T17:46:01.110Z"
   },
   {
    "duration": 22,
    "start_time": "2024-08-04T17:46:02.374Z"
   },
   {
    "duration": 11,
    "start_time": "2024-08-04T17:46:02.399Z"
   },
   {
    "duration": 243,
    "start_time": "2024-08-04T17:46:02.413Z"
   },
   {
    "duration": 37,
    "start_time": "2024-08-04T17:46:02.659Z"
   },
   {
    "duration": 108,
    "start_time": "2024-08-04T17:46:02.699Z"
   },
   {
    "duration": 272,
    "start_time": "2024-08-04T17:46:02.811Z"
   },
   {
    "duration": 314,
    "start_time": "2024-08-04T17:46:03.085Z"
   },
   {
    "duration": 0,
    "start_time": "2024-08-04T17:46:03.403Z"
   },
   {
    "duration": 0,
    "start_time": "2024-08-04T17:46:03.406Z"
   },
   {
    "duration": 0,
    "start_time": "2024-08-04T17:46:03.409Z"
   },
   {
    "duration": 0,
    "start_time": "2024-08-04T17:46:03.412Z"
   },
   {
    "duration": 0,
    "start_time": "2024-08-04T17:46:03.414Z"
   },
   {
    "duration": 0,
    "start_time": "2024-08-04T17:46:03.416Z"
   },
   {
    "duration": 0,
    "start_time": "2024-08-04T17:46:03.418Z"
   },
   {
    "duration": 0,
    "start_time": "2024-08-04T17:46:03.420Z"
   },
   {
    "duration": 0,
    "start_time": "2024-08-04T17:46:03.422Z"
   },
   {
    "duration": 457,
    "start_time": "2024-08-04T17:49:17.290Z"
   },
   {
    "duration": 13,
    "start_time": "2024-08-04T17:49:53.683Z"
   },
   {
    "duration": 33,
    "start_time": "2024-08-04T17:49:59.658Z"
   },
   {
    "duration": 10,
    "start_time": "2024-08-04T17:50:58.115Z"
   },
   {
    "duration": 281,
    "start_time": "2024-08-04T17:51:42.355Z"
   },
   {
    "duration": 12,
    "start_time": "2024-08-04T17:51:43.111Z"
   },
   {
    "duration": 11,
    "start_time": "2024-08-04T17:52:16.083Z"
   },
   {
    "duration": 11,
    "start_time": "2024-08-04T17:52:17.248Z"
   },
   {
    "duration": 6,
    "start_time": "2024-08-04T17:52:42.933Z"
   },
   {
    "duration": 13,
    "start_time": "2024-08-04T17:53:04.498Z"
   },
   {
    "duration": 11,
    "start_time": "2024-08-04T17:53:05.124Z"
   },
   {
    "duration": 13,
    "start_time": "2024-08-04T17:55:06.474Z"
   },
   {
    "duration": 10,
    "start_time": "2024-08-04T17:55:08.398Z"
   },
   {
    "duration": 40,
    "start_time": "2024-08-04T17:55:51.772Z"
   },
   {
    "duration": 10,
    "start_time": "2024-08-04T17:55:52.413Z"
   },
   {
    "duration": 14,
    "start_time": "2024-08-04T17:56:29.102Z"
   },
   {
    "duration": 11,
    "start_time": "2024-08-04T17:56:30.768Z"
   },
   {
    "duration": 16,
    "start_time": "2024-08-04T17:57:03.975Z"
   },
   {
    "duration": 9,
    "start_time": "2024-08-04T17:57:05.500Z"
   },
   {
    "duration": 15,
    "start_time": "2024-08-04T17:57:34.677Z"
   },
   {
    "duration": 11,
    "start_time": "2024-08-04T17:57:40.012Z"
   },
   {
    "duration": 20,
    "start_time": "2024-08-04T18:00:02.523Z"
   },
   {
    "duration": 11,
    "start_time": "2024-08-04T18:00:05.196Z"
   },
   {
    "duration": 29,
    "start_time": "2024-08-04T18:00:07.939Z"
   },
   {
    "duration": 27,
    "start_time": "2024-08-04T18:02:00.070Z"
   },
   {
    "duration": 11,
    "start_time": "2024-08-04T18:03:04.160Z"
   },
   {
    "duration": 21,
    "start_time": "2024-08-04T18:05:18.957Z"
   },
   {
    "duration": 20,
    "start_time": "2024-08-04T18:06:40.128Z"
   },
   {
    "duration": 19,
    "start_time": "2024-08-04T18:06:50.569Z"
   },
   {
    "duration": 10,
    "start_time": "2024-08-04T18:20:15.269Z"
   },
   {
    "duration": 23,
    "start_time": "2024-08-04T18:21:30.730Z"
   },
   {
    "duration": 10,
    "start_time": "2024-08-04T18:21:31.729Z"
   },
   {
    "duration": 1429,
    "start_time": "2024-08-04T18:22:08.593Z"
   },
   {
    "duration": 22,
    "start_time": "2024-08-04T18:22:10.026Z"
   },
   {
    "duration": 14,
    "start_time": "2024-08-04T18:22:10.051Z"
   },
   {
    "duration": 7,
    "start_time": "2024-08-04T18:22:10.090Z"
   },
   {
    "duration": 14,
    "start_time": "2024-08-04T18:22:10.100Z"
   },
   {
    "duration": 16,
    "start_time": "2024-08-04T18:22:10.117Z"
   },
   {
    "duration": 55,
    "start_time": "2024-08-04T18:22:10.136Z"
   },
   {
    "duration": 7,
    "start_time": "2024-08-04T18:22:10.194Z"
   },
   {
    "duration": 18,
    "start_time": "2024-08-04T18:22:10.204Z"
   },
   {
    "duration": 6,
    "start_time": "2024-08-04T18:22:10.228Z"
   },
   {
    "duration": 62,
    "start_time": "2024-08-04T18:22:10.238Z"
   },
   {
    "duration": 9,
    "start_time": "2024-08-04T18:22:10.303Z"
   },
   {
    "duration": 14,
    "start_time": "2024-08-04T18:22:10.315Z"
   },
   {
    "duration": 5,
    "start_time": "2024-08-04T18:22:10.332Z"
   },
   {
    "duration": 55,
    "start_time": "2024-08-04T18:22:10.340Z"
   },
   {
    "duration": 16,
    "start_time": "2024-08-04T18:22:10.398Z"
   },
   {
    "duration": 6,
    "start_time": "2024-08-04T18:22:10.417Z"
   },
   {
    "duration": 16,
    "start_time": "2024-08-04T18:22:10.426Z"
   },
   {
    "duration": 466,
    "start_time": "2024-08-04T18:22:10.445Z"
   },
   {
    "duration": 11,
    "start_time": "2024-08-04T18:22:10.915Z"
   },
   {
    "duration": 1279,
    "start_time": "2024-08-04T18:22:10.930Z"
   },
   {
    "duration": 15,
    "start_time": "2024-08-04T18:22:12.212Z"
   },
   {
    "duration": 12,
    "start_time": "2024-08-04T18:22:12.230Z"
   },
   {
    "duration": 238,
    "start_time": "2024-08-04T18:22:12.245Z"
   },
   {
    "duration": 35,
    "start_time": "2024-08-04T18:22:12.491Z"
   },
   {
    "duration": 16,
    "start_time": "2024-08-04T18:22:12.529Z"
   },
   {
    "duration": 266,
    "start_time": "2024-08-04T18:22:12.548Z"
   },
   {
    "duration": 19,
    "start_time": "2024-08-04T18:22:12.821Z"
   },
   {
    "duration": 25,
    "start_time": "2024-08-04T18:22:12.890Z"
   },
   {
    "duration": 20,
    "start_time": "2024-08-04T18:22:12.918Z"
   },
   {
    "duration": 56,
    "start_time": "2024-08-04T18:22:12.941Z"
   },
   {
    "duration": 17,
    "start_time": "2024-08-04T18:22:13.002Z"
   },
   {
    "duration": 776,
    "start_time": "2024-08-04T18:22:13.022Z"
   },
   {
    "duration": 0,
    "start_time": "2024-08-04T18:22:13.801Z"
   },
   {
    "duration": 0,
    "start_time": "2024-08-04T18:22:13.803Z"
   },
   {
    "duration": 0,
    "start_time": "2024-08-04T18:22:13.805Z"
   },
   {
    "duration": 0,
    "start_time": "2024-08-04T18:22:13.807Z"
   },
   {
    "duration": 1,
    "start_time": "2024-08-04T18:22:13.809Z"
   },
   {
    "duration": 0,
    "start_time": "2024-08-04T18:22:13.813Z"
   },
   {
    "duration": 12,
    "start_time": "2024-08-04T18:22:41.361Z"
   },
   {
    "duration": 39,
    "start_time": "2024-08-04T18:23:35.637Z"
   },
   {
    "duration": 11,
    "start_time": "2024-08-04T18:23:37.164Z"
   },
   {
    "duration": 40,
    "start_time": "2024-08-04T18:23:52.285Z"
   },
   {
    "duration": 18,
    "start_time": "2024-08-04T18:24:08.458Z"
   },
   {
    "duration": 7,
    "start_time": "2024-08-04T18:24:09.234Z"
   },
   {
    "duration": 19,
    "start_time": "2024-08-04T18:24:29.662Z"
   },
   {
    "duration": 7,
    "start_time": "2024-08-04T18:24:31.948Z"
   },
   {
    "duration": 21,
    "start_time": "2024-08-04T18:25:27.303Z"
   },
   {
    "duration": 10,
    "start_time": "2024-08-04T18:25:27.905Z"
   },
   {
    "duration": 20,
    "start_time": "2024-08-04T18:26:43.381Z"
   },
   {
    "duration": 10,
    "start_time": "2024-08-04T18:26:44.587Z"
   },
   {
    "duration": 18,
    "start_time": "2024-08-04T18:27:22.860Z"
   },
   {
    "duration": 10,
    "start_time": "2024-08-04T18:27:23.650Z"
   },
   {
    "duration": 19,
    "start_time": "2024-08-04T18:28:49.007Z"
   },
   {
    "duration": 19,
    "start_time": "2024-08-04T18:29:44.508Z"
   },
   {
    "duration": 20,
    "start_time": "2024-08-04T18:31:02.050Z"
   },
   {
    "duration": 24,
    "start_time": "2024-08-04T18:31:04.765Z"
   },
   {
    "duration": 10,
    "start_time": "2024-08-04T18:31:34.216Z"
   },
   {
    "duration": 21,
    "start_time": "2024-08-04T18:32:26.124Z"
   },
   {
    "duration": 11,
    "start_time": "2024-08-04T18:32:26.682Z"
   },
   {
    "duration": 21,
    "start_time": "2024-08-04T18:32:51.244Z"
   },
   {
    "duration": 11,
    "start_time": "2024-08-04T18:32:51.962Z"
   },
   {
    "duration": 20,
    "start_time": "2024-08-04T18:32:52.772Z"
   },
   {
    "duration": 21,
    "start_time": "2024-08-04T18:33:51.093Z"
   },
   {
    "duration": 24,
    "start_time": "2024-08-04T18:54:20.084Z"
   },
   {
    "duration": 12,
    "start_time": "2024-08-04T18:54:20.966Z"
   },
   {
    "duration": 21,
    "start_time": "2024-08-04T18:54:50.414Z"
   },
   {
    "duration": 12,
    "start_time": "2024-08-04T18:54:56.341Z"
   },
   {
    "duration": 175,
    "start_time": "2024-08-04T18:58:15.823Z"
   },
   {
    "duration": 35,
    "start_time": "2024-08-04T18:59:21.900Z"
   },
   {
    "duration": 906,
    "start_time": "2024-08-04T19:00:06.595Z"
   },
   {
    "duration": 170,
    "start_time": "2024-08-04T19:00:36.511Z"
   },
   {
    "duration": 10,
    "start_time": "2024-08-04T19:00:54.791Z"
   },
   {
    "duration": 55,
    "start_time": "2024-08-04T19:01:42.318Z"
   },
   {
    "duration": 35,
    "start_time": "2024-08-04T19:01:54.218Z"
   },
   {
    "duration": 48,
    "start_time": "2024-08-04T19:06:13.540Z"
   },
   {
    "duration": 21,
    "start_time": "2024-08-04T19:08:31.845Z"
   },
   {
    "duration": 11,
    "start_time": "2024-08-04T19:08:39.179Z"
   },
   {
    "duration": 19,
    "start_time": "2024-08-04T19:10:12.114Z"
   },
   {
    "duration": 13,
    "start_time": "2024-08-04T19:10:15.666Z"
   },
   {
    "duration": 21,
    "start_time": "2024-08-04T19:10:50.701Z"
   },
   {
    "duration": 164,
    "start_time": "2024-08-04T19:11:57.012Z"
   },
   {
    "duration": 20,
    "start_time": "2024-08-04T19:12:41.888Z"
   },
   {
    "duration": 13,
    "start_time": "2024-08-04T19:12:42.650Z"
   },
   {
    "duration": 26,
    "start_time": "2024-08-04T19:12:44.403Z"
   },
   {
    "duration": 26,
    "start_time": "2024-08-04T19:15:03.832Z"
   },
   {
    "duration": 667,
    "start_time": "2024-08-04T19:16:14.841Z"
   },
   {
    "duration": 26,
    "start_time": "2024-08-04T19:16:35.847Z"
   },
   {
    "duration": 24,
    "start_time": "2024-08-04T19:16:55.678Z"
   },
   {
    "duration": 322,
    "start_time": "2024-08-04T19:17:29.184Z"
   },
   {
    "duration": 642,
    "start_time": "2024-08-04T19:18:45.866Z"
   },
   {
    "duration": 109,
    "start_time": "2024-08-04T19:19:08.382Z"
   },
   {
    "duration": 10,
    "start_time": "2024-08-04T19:20:25.156Z"
   },
   {
    "duration": 6,
    "start_time": "2024-08-04T19:20:56.462Z"
   },
   {
    "duration": 9,
    "start_time": "2024-08-04T19:21:11.702Z"
   },
   {
    "duration": 16,
    "start_time": "2024-08-04T19:21:36.478Z"
   },
   {
    "duration": 16,
    "start_time": "2024-08-04T19:22:12.121Z"
   },
   {
    "duration": 21,
    "start_time": "2024-08-04T19:22:57.542Z"
   },
   {
    "duration": 83,
    "start_time": "2024-08-04T19:24:22.077Z"
   },
   {
    "duration": 38,
    "start_time": "2024-08-04T19:25:07.445Z"
   },
   {
    "duration": 29,
    "start_time": "2024-08-04T19:25:16.454Z"
   },
   {
    "duration": 28,
    "start_time": "2024-08-04T19:25:27.471Z"
   },
   {
    "duration": 80,
    "start_time": "2024-08-04T19:25:41.273Z"
   },
   {
    "duration": 18,
    "start_time": "2024-08-04T19:26:41.630Z"
   },
   {
    "duration": 16,
    "start_time": "2024-08-04T19:27:22.190Z"
   },
   {
    "duration": 80,
    "start_time": "2024-08-04T19:28:37.923Z"
   },
   {
    "duration": 11,
    "start_time": "2024-08-04T19:29:03.910Z"
   },
   {
    "duration": 5,
    "start_time": "2024-08-04T19:29:07.459Z"
   },
   {
    "duration": 7,
    "start_time": "2024-08-04T19:29:09.440Z"
   },
   {
    "duration": 8,
    "start_time": "2024-08-04T19:29:10.652Z"
   },
   {
    "duration": 22,
    "start_time": "2024-08-04T20:28:16.187Z"
   },
   {
    "duration": 11,
    "start_time": "2024-08-04T21:04:10.936Z"
   },
   {
    "duration": 10,
    "start_time": "2024-08-04T21:23:28.438Z"
   },
   {
    "duration": 362,
    "start_time": "2024-08-04T21:24:45.011Z"
   },
   {
    "duration": 1539,
    "start_time": "2024-08-04T21:32:07.146Z"
   },
   {
    "duration": 24,
    "start_time": "2024-08-04T21:32:08.690Z"
   },
   {
    "duration": 17,
    "start_time": "2024-08-04T21:32:08.717Z"
   },
   {
    "duration": 12,
    "start_time": "2024-08-04T21:32:08.740Z"
   },
   {
    "duration": 49,
    "start_time": "2024-08-04T21:32:08.756Z"
   },
   {
    "duration": 22,
    "start_time": "2024-08-04T21:32:08.808Z"
   },
   {
    "duration": 28,
    "start_time": "2024-08-04T21:32:08.838Z"
   },
   {
    "duration": 27,
    "start_time": "2024-08-04T21:32:08.869Z"
   },
   {
    "duration": 21,
    "start_time": "2024-08-04T21:32:08.901Z"
   },
   {
    "duration": 7,
    "start_time": "2024-08-04T21:32:08.929Z"
   },
   {
    "duration": 54,
    "start_time": "2024-08-04T21:32:08.941Z"
   },
   {
    "duration": 8,
    "start_time": "2024-08-04T21:32:08.999Z"
   },
   {
    "duration": 17,
    "start_time": "2024-08-04T21:32:09.011Z"
   },
   {
    "duration": 11,
    "start_time": "2024-08-04T21:32:09.034Z"
   },
   {
    "duration": 54,
    "start_time": "2024-08-04T21:32:09.049Z"
   },
   {
    "duration": 18,
    "start_time": "2024-08-04T21:32:09.106Z"
   },
   {
    "duration": 7,
    "start_time": "2024-08-04T21:32:09.126Z"
   },
   {
    "duration": 14,
    "start_time": "2024-08-04T21:32:09.136Z"
   },
   {
    "duration": 459,
    "start_time": "2024-08-04T21:32:09.152Z"
   },
   {
    "duration": 13,
    "start_time": "2024-08-04T21:32:09.615Z"
   },
   {
    "duration": 1334,
    "start_time": "2024-08-04T21:32:09.631Z"
   },
   {
    "duration": 24,
    "start_time": "2024-08-04T21:32:10.968Z"
   },
   {
    "duration": 11,
    "start_time": "2024-08-04T21:32:10.995Z"
   },
   {
    "duration": 229,
    "start_time": "2024-08-04T21:32:11.009Z"
   },
   {
    "duration": 17,
    "start_time": "2024-08-04T21:32:11.242Z"
   },
   {
    "duration": 36,
    "start_time": "2024-08-04T21:32:11.262Z"
   },
   {
    "duration": 251,
    "start_time": "2024-08-04T21:32:11.300Z"
   },
   {
    "duration": 43,
    "start_time": "2024-08-04T21:32:11.558Z"
   },
   {
    "duration": 21,
    "start_time": "2024-08-04T21:32:11.605Z"
   },
   {
    "duration": 72,
    "start_time": "2024-08-04T21:32:11.629Z"
   },
   {
    "duration": 21,
    "start_time": "2024-08-04T21:32:11.704Z"
   },
   {
    "duration": 23,
    "start_time": "2024-08-04T21:32:11.728Z"
   },
   {
    "duration": 22,
    "start_time": "2024-08-04T21:32:11.791Z"
   },
   {
    "duration": 19,
    "start_time": "2024-08-04T21:32:11.816Z"
   },
   {
    "duration": 386,
    "start_time": "2024-08-04T21:32:11.838Z"
   },
   {
    "duration": 12,
    "start_time": "2024-08-04T21:32:12.227Z"
   },
   {
    "duration": 6,
    "start_time": "2024-08-04T21:32:12.243Z"
   },
   {
    "duration": 40,
    "start_time": "2024-08-04T21:32:12.252Z"
   },
   {
    "duration": 10,
    "start_time": "2024-08-04T21:32:12.295Z"
   },
   {
    "duration": 37,
    "start_time": "2024-08-04T21:58:59.462Z"
   },
   {
    "duration": 5,
    "start_time": "2024-08-04T22:19:44.122Z"
   },
   {
    "duration": 7,
    "start_time": "2024-08-04T22:19:46.832Z"
   },
   {
    "duration": 7,
    "start_time": "2024-08-04T22:19:47.622Z"
   },
   {
    "duration": 6,
    "start_time": "2024-08-04T22:22:37.699Z"
   },
   {
    "duration": 7,
    "start_time": "2024-08-04T22:22:54.116Z"
   },
   {
    "duration": 7,
    "start_time": "2024-08-04T22:23:00.590Z"
   },
   {
    "duration": 5,
    "start_time": "2024-08-04T22:28:05.972Z"
   },
   {
    "duration": 15,
    "start_time": "2024-08-05T20:04:05.908Z"
   },
   {
    "duration": 7,
    "start_time": "2024-08-05T20:06:27.512Z"
   },
   {
    "duration": 8,
    "start_time": "2024-08-05T20:10:08.891Z"
   },
   {
    "duration": 7,
    "start_time": "2024-08-05T20:12:55.558Z"
   },
   {
    "duration": 326,
    "start_time": "2024-08-05T21:20:34.342Z"
   },
   {
    "duration": 5062,
    "start_time": "2024-08-05T21:20:40.453Z"
   },
   {
    "duration": 32,
    "start_time": "2024-08-05T21:20:45.519Z"
   },
   {
    "duration": 22,
    "start_time": "2024-08-05T21:20:45.553Z"
   },
   {
    "duration": 21,
    "start_time": "2024-08-05T21:20:45.579Z"
   },
   {
    "duration": 11,
    "start_time": "2024-08-05T21:20:45.604Z"
   },
   {
    "duration": 9,
    "start_time": "2024-08-05T21:20:45.617Z"
   },
   {
    "duration": 17,
    "start_time": "2024-08-05T21:20:45.669Z"
   },
   {
    "duration": 15,
    "start_time": "2024-08-05T21:20:45.689Z"
   },
   {
    "duration": 16,
    "start_time": "2024-08-05T21:20:45.708Z"
   },
   {
    "duration": 9,
    "start_time": "2024-08-05T21:20:45.770Z"
   },
   {
    "duration": 16,
    "start_time": "2024-08-05T21:20:45.782Z"
   },
   {
    "duration": 6,
    "start_time": "2024-08-05T21:20:45.804Z"
   },
   {
    "duration": 54,
    "start_time": "2024-08-05T21:20:45.813Z"
   },
   {
    "duration": 8,
    "start_time": "2024-08-05T21:20:45.870Z"
   },
   {
    "duration": 18,
    "start_time": "2024-08-05T21:20:45.885Z"
   },
   {
    "duration": 5,
    "start_time": "2024-08-05T21:20:45.907Z"
   },
   {
    "duration": 53,
    "start_time": "2024-08-05T21:20:45.916Z"
   },
   {
    "duration": 18,
    "start_time": "2024-08-05T21:20:45.972Z"
   },
   {
    "duration": 7,
    "start_time": "2024-08-05T21:20:45.993Z"
   },
   {
    "duration": 12,
    "start_time": "2024-08-05T21:20:46.003Z"
   },
   {
    "duration": 467,
    "start_time": "2024-08-05T21:20:46.018Z"
   },
   {
    "duration": 14,
    "start_time": "2024-08-05T21:20:46.488Z"
   },
   {
    "duration": 1377,
    "start_time": "2024-08-05T21:20:46.506Z"
   },
   {
    "duration": 16,
    "start_time": "2024-08-05T21:20:47.887Z"
   },
   {
    "duration": 10,
    "start_time": "2024-08-05T21:20:47.908Z"
   },
   {
    "duration": 249,
    "start_time": "2024-08-05T21:20:47.921Z"
   },
   {
    "duration": 17,
    "start_time": "2024-08-05T21:20:48.174Z"
   },
   {
    "duration": 13,
    "start_time": "2024-08-05T21:20:48.200Z"
   },
   {
    "duration": 291,
    "start_time": "2024-08-05T21:20:48.216Z"
   },
   {
    "duration": 58,
    "start_time": "2024-08-05T21:20:48.511Z"
   },
   {
    "duration": 29,
    "start_time": "2024-08-05T21:20:48.574Z"
   },
   {
    "duration": 79,
    "start_time": "2024-08-05T21:20:48.606Z"
   },
   {
    "duration": 23,
    "start_time": "2024-08-05T21:20:48.687Z"
   },
   {
    "duration": 57,
    "start_time": "2024-08-05T21:20:48.713Z"
   },
   {
    "duration": 24,
    "start_time": "2024-08-05T21:20:48.773Z"
   },
   {
    "duration": 18,
    "start_time": "2024-08-05T21:20:48.801Z"
   },
   {
    "duration": 413,
    "start_time": "2024-08-05T21:20:48.822Z"
   },
   {
    "duration": 30,
    "start_time": "2024-08-05T21:20:49.239Z"
   },
   {
    "duration": 7,
    "start_time": "2024-08-05T21:20:49.272Z"
   },
   {
    "duration": 6,
    "start_time": "2024-08-05T21:20:49.283Z"
   },
   {
    "duration": 7,
    "start_time": "2024-08-05T21:20:49.293Z"
   },
   {
    "duration": 7,
    "start_time": "2024-08-05T21:30:30.744Z"
   },
   {
    "duration": 7,
    "start_time": "2024-08-05T21:31:27.426Z"
   },
   {
    "duration": 8,
    "start_time": "2024-08-05T21:32:02.146Z"
   },
   {
    "duration": 9,
    "start_time": "2024-08-05T21:32:55.180Z"
   },
   {
    "duration": 7,
    "start_time": "2024-08-05T21:34:45.125Z"
   },
   {
    "duration": 20,
    "start_time": "2024-08-05T21:38:48.257Z"
   },
   {
    "duration": 8,
    "start_time": "2024-08-05T21:46:30.080Z"
   },
   {
    "duration": 19,
    "start_time": "2024-08-05T21:50:48.098Z"
   },
   {
    "duration": 1411,
    "start_time": "2024-08-05T21:58:55.049Z"
   },
   {
    "duration": 11,
    "start_time": "2024-08-05T22:00:57.568Z"
   },
   {
    "duration": 13,
    "start_time": "2024-08-05T22:01:43.715Z"
   },
   {
    "duration": 19,
    "start_time": "2024-08-05T22:02:11.490Z"
   },
   {
    "duration": 1409,
    "start_time": "2024-08-05T22:03:01.641Z"
   },
   {
    "duration": 31,
    "start_time": "2024-08-05T22:03:03.054Z"
   },
   {
    "duration": 17,
    "start_time": "2024-08-05T22:03:03.088Z"
   },
   {
    "duration": 20,
    "start_time": "2024-08-05T22:03:03.109Z"
   },
   {
    "duration": 7,
    "start_time": "2024-08-05T22:03:03.132Z"
   },
   {
    "duration": 12,
    "start_time": "2024-08-05T22:03:03.169Z"
   },
   {
    "duration": 8,
    "start_time": "2024-08-05T22:03:03.185Z"
   },
   {
    "duration": 13,
    "start_time": "2024-08-05T22:03:03.195Z"
   },
   {
    "duration": 55,
    "start_time": "2024-08-05T22:03:03.212Z"
   },
   {
    "duration": 17,
    "start_time": "2024-08-05T22:03:03.275Z"
   },
   {
    "duration": 8,
    "start_time": "2024-08-05T22:03:03.295Z"
   },
   {
    "duration": 17,
    "start_time": "2024-08-05T22:03:03.306Z"
   },
   {
    "duration": 50,
    "start_time": "2024-08-05T22:03:03.326Z"
   },
   {
    "duration": 14,
    "start_time": "2024-08-05T22:03:03.379Z"
   },
   {
    "duration": 15,
    "start_time": "2024-08-05T22:03:03.396Z"
   },
   {
    "duration": 55,
    "start_time": "2024-08-05T22:03:03.414Z"
   },
   {
    "duration": 7,
    "start_time": "2024-08-05T22:03:03.472Z"
   },
   {
    "duration": 17,
    "start_time": "2024-08-05T22:03:03.483Z"
   },
   {
    "duration": 7,
    "start_time": "2024-08-05T22:03:03.503Z"
   },
   {
    "duration": 62,
    "start_time": "2024-08-05T22:03:03.513Z"
   },
   {
    "duration": 6,
    "start_time": "2024-08-05T22:03:03.578Z"
   },
   {
    "duration": 14,
    "start_time": "2024-08-05T22:03:03.587Z"
   },
   {
    "duration": 16,
    "start_time": "2024-08-05T22:03:03.604Z"
   },
   {
    "duration": 47,
    "start_time": "2024-08-05T22:03:03.623Z"
   },
   {
    "duration": 12,
    "start_time": "2024-08-05T22:03:03.675Z"
   },
   {
    "duration": 438,
    "start_time": "2024-08-05T22:03:03.691Z"
   },
   {
    "duration": 15,
    "start_time": "2024-08-05T22:03:04.131Z"
   },
   {
    "duration": 1317,
    "start_time": "2024-08-05T22:03:04.154Z"
   },
   {
    "duration": 13,
    "start_time": "2024-08-05T22:03:05.475Z"
   },
   {
    "duration": 13,
    "start_time": "2024-08-05T22:03:05.491Z"
   },
   {
    "duration": 243,
    "start_time": "2024-08-05T22:03:05.507Z"
   },
   {
    "duration": 27,
    "start_time": "2024-08-05T22:03:05.753Z"
   },
   {
    "duration": 15,
    "start_time": "2024-08-05T22:03:05.784Z"
   },
   {
    "duration": 274,
    "start_time": "2024-08-05T22:03:05.802Z"
   },
   {
    "duration": 28,
    "start_time": "2024-08-05T22:03:06.080Z"
   },
   {
    "duration": 74,
    "start_time": "2024-08-05T22:03:06.112Z"
   },
   {
    "duration": 19,
    "start_time": "2024-08-05T22:03:06.189Z"
   },
   {
    "duration": 67,
    "start_time": "2024-08-05T22:03:06.211Z"
   },
   {
    "duration": 24,
    "start_time": "2024-08-05T22:03:06.282Z"
   },
   {
    "duration": 24,
    "start_time": "2024-08-05T22:03:06.309Z"
   },
   {
    "duration": 20,
    "start_time": "2024-08-05T22:03:06.369Z"
   },
   {
    "duration": 384,
    "start_time": "2024-08-05T22:03:06.392Z"
   },
   {
    "duration": 12,
    "start_time": "2024-08-05T22:03:06.778Z"
   },
   {
    "duration": 7,
    "start_time": "2024-08-05T22:03:06.793Z"
   },
   {
    "duration": 8,
    "start_time": "2024-08-05T22:03:06.803Z"
   },
   {
    "duration": 54,
    "start_time": "2024-08-05T22:03:06.814Z"
   },
   {
    "duration": 12,
    "start_time": "2024-08-05T22:34:16.463Z"
   },
   {
    "duration": 11,
    "start_time": "2024-08-05T22:34:25.229Z"
   },
   {
    "duration": 11,
    "start_time": "2024-08-05T22:34:36.708Z"
   },
   {
    "duration": 11,
    "start_time": "2024-08-05T22:34:45.394Z"
   },
   {
    "duration": 387,
    "start_time": "2024-08-05T22:52:33.396Z"
   }
  ],
  "kernelspec": {
   "display_name": "Python 3 (ipykernel)",
   "language": "python",
   "name": "python3"
  },
  "language_info": {
   "codemirror_mode": {
    "name": "ipython",
    "version": 3
   },
   "file_extension": ".py",
   "mimetype": "text/x-python",
   "name": "python",
   "nbconvert_exporter": "python",
   "pygments_lexer": "ipython3",
   "version": "3.9.19"
  },
  "toc": {
   "base_numbering": 1,
   "nav_menu": {},
   "number_sections": false,
   "sideBar": true,
   "skip_h1_title": false,
   "title_cell": "Table of Contents",
   "title_sidebar": "Contents",
   "toc_cell": true,
   "toc_position": {
    "height": "calc(100% - 180px)",
    "left": "10px",
    "top": "150px",
    "width": "252.715px"
   },
   "toc_section_display": true,
   "toc_window_display": false
  }
 },
 "nbformat": 4,
 "nbformat_minor": 2
}
